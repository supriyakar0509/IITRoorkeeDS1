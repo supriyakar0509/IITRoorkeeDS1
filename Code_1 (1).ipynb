{
 "cells": [
  {
   "cell_type": "markdown",
   "metadata": {},
   "source": [
    "#  Getting Started With Python"
   ]
  },
  {
   "cell_type": "markdown",
   "metadata": {},
   "source": [
    "Q1: Choose your base between 3 and 15"
   ]
  },
  {
   "cell_type": "code",
   "execution_count": 6,
   "metadata": {},
   "outputs": [],
   "source": [
    "base = 15"
   ]
  },
  {
   "cell_type": "code",
   "execution_count": 8,
   "metadata": {},
   "outputs": [
    {
     "name": "stdout",
     "output_type": "stream",
     "text": [
      "Ans: 15\n"
     ]
    }
   ],
   "source": [
    "print(\"Ans:\", base)"
   ]
  },
  {
   "cell_type": "markdown",
   "metadata": {},
   "source": [
    "Q2: Write the 50 numbers in base 15."
   ]
  },
  {
   "cell_type": "markdown",
   "metadata": {},
   "source": [
    "Ans: 0,1,2,3,4,5,6,7,8,9,A,B,C,D,E,10,11,12,13,14,15,16,17,18,19,1A,1B,1C,1D,1E,20,21,22,23,24,25,26,27,28,29,2A,2B,2C,2D,2E,30,31,32,33,34"
   ]
  },
  {
   "cell_type": "markdown",
   "metadata": {},
   "source": [
    "Q3: (i) Addition of single digits in base 15"
   ]
  },
  {
   "cell_type": "markdown",
   "metadata": {},
   "source": [
    "Ans: 9 + A = 14, 5 + B = 11, 6 + E = 15."
   ]
  },
  {
   "cell_type": "markdown",
   "metadata": {},
   "source": [
    "(ii) Addition of multiple digits in base 15."
   ]
  },
  {
   "cell_type": "markdown",
   "metadata": {},
   "source": [
    "Ans: 1456 + 2ACE = 4035, 3EBD + 14AB = 5479, 9ADE + A3BC = 14EAB"
   ]
  },
  {
   "cell_type": "markdown",
   "metadata": {},
   "source": [
    "Q4: (i) Subtraction of single digits in base 15"
   ]
  },
  {
   "cell_type": "markdown",
   "metadata": {},
   "source": [
    "Ans: B - 8 = 3, D - 6 = 7, A - 9 = 1"
   ]
  },
  {
   "cell_type": "markdown",
   "metadata": {},
   "source": [
    "(ii) Subtraction of multiple digits in base 15."
   ]
  },
  {
   "cell_type": "markdown",
   "metadata": {},
   "source": [
    "Ans: A1B2 - 9CDE = 3C3, E3D4 - 5A2B = 88A8, C2B1 - 4567 = 7C49"
   ]
  },
  {
   "cell_type": "markdown",
   "metadata": {},
   "source": [
    "Q5: Prepare a table of single digit multiplication in base 15."
   ]
  },
  {
   "cell_type": "markdown",
   "metadata": {},
   "source": [
    "Ans: Base 15 Multiplication table (Single Digit)"
   ]
  },
  {
   "cell_type": "markdown",
   "metadata": {},
   "source": [
    "|   | 0 | 1 | 2 | 3 | 4 | 5 | 6 | 7 | 8 | 9 | A | B | C | D | E |\n",
    "|---|---|---|---|---|---|---|---|---|---|---|---|---|---|---|---|\n",
    "| 0 | 0 | 0 | 0 | 0 | 0 | 0 | 0 | 0 | 0 | 0 | 0 | 0 | 0 | 0 | 0 |\n",
    "| 1 | 0 | 1 | 2 | 3 | 4 | 5 | 6 | 7 | 8 | 9 | A | B | C | D | E |\n",
    "| 2 | 0 | 2 | 4 | 6 | 8 | A | C | E | 11 | 13 | 15 | 17 | 19 | 1B | 1D |\n",
    "| 3 | 0 | 3 | 6 | 9 | C | F | 12 | 15 | 18 | 1B | 1E | 21 | 24 | 27 | 2A |\n",
    "| 4 | 0 | 4 | 8 | C | 10 | 14 | 18 | 1C | 20 | 24 | 28 | 2C | 30 | 34 | 38 |\n",
    "| 5 | 0 | 5 | A | F | 14 | 19 | 1E | 23 | 28 | 2D | 32 | 37 | 3C | 41 | 46 |\n",
    "| 6 | 0 | 6 | C | 12 | 18 | 1E | 24 | 2A | 30 | 36 | 3C | 42 | 48 | 4E | 54 |\n",
    "| 7 | 0 | 7 | E | 15 | 1C | 23 | 2A | 31 | 38 | 3F | 46 | 4D | 54 | 5B | 62 |\n",
    "| 8 | 0 | 8 | 11 | 18 | 20 | 28 | 30 | 38 | 40 | 48 | 50 | 58 | 60 | 68 | 70 |\n",
    "| 9 | 0 | 9 | 13 | 1B | 24 | 2D | 36 | 3F | 48 | 51 | 5A | 63 | 6C | 75 | 7E |\n",
    "| A | 0 | A | 15 | 1E | 28 | 32 | 3C | 46 | 50 | 5A | 64 | 6E | 78 | 82 | 8C |\n",
    "| B | 0 | B | 17 | 21 | 2C | 37 | 42 | 4D | 58 | 63 | 6E | 79 | 84 | 8F | 9A |\n",
    "| C | 0 | C | 19 | 24 | 30 | 3C | 48 | 54 | 60 | 6C | 78 | 84 | 90 | 9C | A8 |\n",
    "| D | 0 | D | 1B | 27 | 34 | 41 | 4E | 5B | 68 | 75 | 82 | 8F | 9C | A9 | B6 |\n",
    "| E | 0 | E | 1D | 2A | 38 | 46 | 54 | 62 | 70 | 7E | 8C | 9A | A8 | B6 | C4 |"
   ]
  },
  {
   "cell_type": "markdown",
   "metadata": {},
   "source": [
    "Q6: Multiply multiple digits in base 15."
   ]
  },
  {
   "cell_type": "markdown",
   "metadata": {},
   "source": [
    "Ans: A1B2 * 9CDE = 69B70D1D, E3D4 * 5A2B = 55E9243E, C2B1 * 4567 = 3821B087"
   ]
  },
  {
   "cell_type": "markdown",
   "metadata": {},
   "source": [
    "Q7: Convert the following numbers from base 15 to base 10."
   ]
  },
  {
   "cell_type": "markdown",
   "metadata": {},
   "source": [
    " (i) 1 \n",
    " \n",
    " Ans: 1\n",
    " \n",
    " (ii) 10\n",
    "\n",
    " Ans: 15\n",
    " \n",
    " (iii) 20\n",
    " \n",
    " Ans: 30\n",
    " \n",
    " (iv) 30\n",
    " \n",
    " Ans: 45\n",
    " \n",
    " (v) 100\n",
    " \n",
    " Ans: 225"
   ]
  },
  {
   "cell_type": "markdown",
   "metadata": {},
   "source": [
    "Q8: Write a strategy to convert a number from base 15 to base 10 in\n",
    " (i) plain english\n",
    " (ii) pseudo code\n",
    " (iii) code"
   ]
  },
  {
   "cell_type": "markdown",
   "metadata": {},
   "source": [
    "Ans: (i) plain english\n",
    "\n",
    " 1. In base 15, we have the following digits: 0,1,2,3,4,5,6,7,8,9,A,B,C,D,E,\n",
    " \n",
    " which in base 10, the digits\n",
    " \n",
    " 0-9 are represented by 0-9 themselves\n",
    " \n",
    " A is represented by 10\n",
    " \n",
    " B is represented by 11\n",
    " \n",
    " C is represented by 12\n",
    " \n",
    " D is represented by 13\n",
    " \n",
    " E is represented by 14\n",
    " \n",
    " \n",
    " 2. Now, the positional values of the digits vary as powers of 15, i.e., \n",
    " \n",
    " (a) For the rightmost digit, the positional value is 15^0.\n",
    " \n",
    " (b) For the next digit left to the rightmost digit, the positional value is 15^1.\n",
    " \n",
    " (c) For the next digit to the left of the digit with positional value 15^1, the positional value is 15^2, ans so on....\n",
    " \n",
    " \n",
    " 3. Now, we convert each digit in the number of base 15 to the decimal equivalent of the respective digits.\n",
    " \n",
    " \n",
    " 4. We multiply each converted decimal equivalent of the number of base 15 by its corresponding positional value.\n",
    " \n",
    " \n",
    " 5. We add all the resulting products together to obtain the desired number(initially in base 15) in base 10.\n",
    " \n",
    " \n",
    " (ii) pseudo code\n",
    " \n",
    " \n",
    "    define function find_index(array, element):\n",
    "   \n",
    "            #input: 'array' represents the array of elements, 'element' represents the element to be found\n",
    "   \n",
    "            #output: The index of the element in the array, or 'NOT FOUND' if not found\n",
    "            \n",
    "            For i from 0 to len(array)-1:\n",
    "                   \n",
    "                   If array[i] == element\n",
    "                         \n",
    "                         return i \n",
    "                         \n",
    "                    else: \n",
    "                    \n",
    "                          return None\n",
    "                          \n",
    "      define function base15_to_base10(number):\n",
    "       \n",
    "              #input: base 15 number\n",
    "              \n",
    "              #output: base 10 number \n",
    "              \n",
    "              syms_of_base15 = \"0123456789ABCDE\"\n",
    "              \n",
    "              base10valueofinput = 0\n",
    "              \n",
    "              power=0\n",
    "              \n",
    "              For i from len[str(number)]-1 to 0:\n",
    "                      \n",
    "                      digit = str(number)[i]\n",
    "                      \n",
    "                      base10digitvalue = find_index(syms_of_base15, digit)\n",
    "                      \n",
    "                        if base10digitvalue == None\n",
    "                         \n",
    "                         return \"invalid input\"\n",
    "                         \n",
    "                        else:\n",
    "                          \n",
    "                          base10valueofinput = base10valueofinput + base10digitvalue* (15^power)\n",
    "                          \n",
    "                          power = power +1\n",
    "                          \n",
    "                         return base10valueofinput\n",
    "                         \n",
    "                         \n",
    "(iii) code"
   ]
  },
  {
   "cell_type": "code",
   "execution_count": 3,
   "metadata": {},
   "outputs": [],
   "source": [
    "def find_index(array, element):\n",
    "    for i in range(len(array)):\n",
    "        if array[i] == element:\n",
    "            return i\n",
    "    return None\n",
    "\n",
    "def base15_to_base10(number):\n",
    "    syms_of_base15 = \"0123456789ABCDE\"\n",
    "    base10valueofinput = 0\n",
    "    power = 0\n",
    "\n",
    "    number_str = str(number)\n",
    "    for i in range(len(number_str) - 1, -1, -1):\n",
    "        digit = number_str[i]\n",
    "        base10digitvalue = find_index(syms_of_base15, digit)\n",
    "\n",
    "        if base10digitvalue is None:\n",
    "            return \"invalid input\"\n",
    "        else:\n",
    "            base10valueofinput = base10valueofinput + base10digitvalue * (15 ** power)\n",
    "            power += 1\n",
    "    return base10valueofinput"
   ]
  },
  {
   "cell_type": "code",
   "execution_count": 5,
   "metadata": {},
   "outputs": [
    {
     "name": "stdout",
     "output_type": "stream",
     "text": [
      "Final result: 17452\n"
     ]
    }
   ],
   "source": [
    "result = base15_to_base10(5287)\n",
    "print(\"Final result:\", result)"
   ]
  },
  {
   "cell_type": "code",
   "execution_count": 3,
   "metadata": {},
   "outputs": [
    {
     "name": "stdout",
     "output_type": "stream",
     "text": [
      "Final result: 65129359\n"
     ]
    }
   ],
   "source": [
    "result = base15_to_base10(\"5AB78C4\")\n",
    "print(\"Final result:\", result)"
   ]
  },
  {
   "cell_type": "code",
   "execution_count": 6,
   "metadata": {},
   "outputs": [
    {
     "name": "stdout",
     "output_type": "stream",
     "text": [
      "Final result: invalid input\n"
     ]
    }
   ],
   "source": [
    "result = base15_to_base10(\"fghg\")\n",
    "print(\"Final result:\", result)"
   ]
  },
  {
   "cell_type": "markdown",
   "metadata": {},
   "source": [
    "Q9: Write a strategy to convert a number in base N to base M in (i) plain english  (ii) pseudo code  (iii) code"
   ]
  },
  {
   "cell_type": "code",
   "execution_count": null,
   "metadata": {},
   "outputs": [],
   "source": []
  },
  {
   "cell_type": "markdown",
   "metadata": {},
   "source": [
    "Q10: In base 10, how many numbers can you represent in 5 digits?"
   ]
  },
  {
   "cell_type": "code",
   "execution_count": 1,
   "metadata": {},
   "outputs": [
    {
     "data": {
      "text/plain": [
       "100000"
      ]
     },
     "execution_count": 1,
     "metadata": {},
     "output_type": "execute_result"
    }
   ],
   "source": [
    "10**5"
   ]
  },
  {
   "cell_type": "markdown",
   "metadata": {},
   "source": [
    "Q11: In base 7, how many numbers can you represent in 5 digits?"
   ]
  },
  {
   "cell_type": "code",
   "execution_count": 2,
   "metadata": {},
   "outputs": [
    {
     "data": {
      "text/plain": [
       "16807"
      ]
     },
     "execution_count": 2,
     "metadata": {},
     "output_type": "execute_result"
    }
   ],
   "source": [
    "7**5"
   ]
  },
  {
   "cell_type": "markdown",
   "metadata": {},
   "source": [
    "Q12: In base B, how many numbers can you represent in n digits?"
   ]
  },
  {
   "cell_type": "markdown",
   "metadata": {},
   "source": [
    "Ans: B^n"
   ]
  },
  {
   "cell_type": "markdown",
   "metadata": {},
   "source": [
    "Q13: To represent numbers upto 10000 but not including 10000 in base 10, how many digits do you need ?"
   ]
  },
  {
   "cell_type": "markdown",
   "metadata": {},
   "source": [
    "Ans: 4\n",
    "\n",
    "\n",
    "Note: We are representing total 10000 numbers from 0 to 9999."
   ]
  },
  {
   "cell_type": "markdown",
   "metadata": {},
   "source": [
    "Q14: To represent N numbers, how many digits do we need in base 10?"
   ]
  },
  {
   "cell_type": "markdown",
   "metadata": {},
   "source": [
    "Ans: d = log N"
   ]
  },
  {
   "cell_type": "markdown",
   "metadata": {},
   "source": [
    "Q15: To represent N numbers, how many digits do we need in base B?"
   ]
  },
  {
   "cell_type": "markdown",
   "metadata": {},
   "source": [
    "Ans: d = log(B) N"
   ]
  },
  {
   "cell_type": "markdown",
   "metadata": {},
   "source": [
    "# Logarithm: Finding log base 10 of any number "
   ]
  },
  {
   "cell_type": "code",
   "execution_count": 1,
   "metadata": {},
   "outputs": [],
   "source": [
    "import math"
   ]
  },
  {
   "cell_type": "code",
   "execution_count": 54,
   "metadata": {},
   "outputs": [
    {
     "data": {
      "text/plain": [
       "6.269096283706261"
      ]
     },
     "execution_count": 54,
     "metadata": {},
     "output_type": "execute_result"
    }
   ],
   "source": [
    "math.log(528) #base is e"
   ]
  },
  {
   "cell_type": "code",
   "execution_count": 3,
   "metadata": {},
   "outputs": [],
   "source": [
    "number = 528"
   ]
  },
  {
   "cell_type": "markdown",
   "metadata": {},
   "source": [
    "We know 10^2 < 528 < 10^3\n",
    "\n",
    "Q16: Write a pseudo code or an algorithm to calculate log(10) 528."
   ]
  },
  {
   "cell_type": "markdown",
   "metadata": {},
   "source": [
    "Ans: We know log(10)528 lies between 2(left) and 3(right). Thus, we take the average of the two values (that is, the average of 2 and 3) as the 'new value' and calculate 10^(new value).\n",
    "   \n",
    "   If 10^(new value) < 528, we take our 'left' = 'new value' and keep 'right' as it is and then take the average again of 'new value' ans 'right' and so on....\n",
    "   \n",
    "   But if 10^(new value) > 528, we take our 'new value' = 'right' and keep 'left' as it is and repeat the same process of averaging and proceeding further...\n",
    "   \n",
    "   We repeat the above steps till we get a precise answer.\n",
    "\n"
   ]
  },
  {
   "cell_type": "code",
   "execution_count": 4,
   "metadata": {},
   "outputs": [
    {
     "data": {
      "text/plain": [
       "316.22776601683796"
      ]
     },
     "execution_count": 4,
     "metadata": {},
     "output_type": "execute_result"
    }
   ],
   "source": [
    "10**2.5 # 2.5 is the average of 2 and 3"
   ]
  },
  {
   "cell_type": "markdown",
   "metadata": {},
   "source": [
    "We see 316.22776601683796   < 528, therefore left = 2.5 and right = 3.\n",
    "Again, average of 2.5 and 3 is 2.75. Thus, we calcualte 10^(2.75).\n"
   ]
  },
  {
   "cell_type": "code",
   "execution_count": 10,
   "metadata": {},
   "outputs": [
    {
     "data": {
      "text/plain": [
       "562.341325190349"
      ]
     },
     "execution_count": 10,
     "metadata": {},
     "output_type": "execute_result"
    }
   ],
   "source": [
    "10**2.75"
   ]
  },
  {
   "cell_type": "markdown",
   "metadata": {},
   "source": [
    "Again, our result 562.341325190349 > 528, therefore our new right = 2.75 and left = 2.5. And thus, we calculate 10^[(2.5 + 2.75)/2] and continue the process till we get an accurate answer."
   ]
  },
  {
   "cell_type": "code",
   "execution_count": 11,
   "metadata": {},
   "outputs": [
    {
     "data": {
      "text/plain": [
       "316.22776601683796"
      ]
     },
     "execution_count": 11,
     "metadata": {},
     "output_type": "execute_result"
    }
   ],
   "source": [
    "left = 2\n",
    "right = 3\n",
    "mid = (left+right)/2\n",
    "10**mid"
   ]
  },
  {
   "cell_type": "code",
   "execution_count": 12,
   "metadata": {},
   "outputs": [
    {
     "data": {
      "text/plain": [
       "2.5"
      ]
     },
     "execution_count": 12,
     "metadata": {},
     "output_type": "execute_result"
    }
   ],
   "source": [
    "mid"
   ]
  },
  {
   "cell_type": "code",
   "execution_count": 13,
   "metadata": {},
   "outputs": [
    {
     "data": {
      "text/plain": [
       "(2.5, 3)"
      ]
     },
     "execution_count": 13,
     "metadata": {},
     "output_type": "execute_result"
    }
   ],
   "source": [
    "left = mid\n",
    "left, right"
   ]
  },
  {
   "cell_type": "code",
   "execution_count": 14,
   "metadata": {},
   "outputs": [
    {
     "name": "stdout",
     "output_type": "stream",
     "text": [
      "Left: 2.5\n",
      "Right: 3\n",
      "Mid: 2.75\n",
      "562.341325190349\n"
     ]
    }
   ],
   "source": [
    "print(f\"Left: {left}\")\n",
    "print(f\"Right: {right}\")\n",
    "mid = (left+right)/2\n",
    "print(f\"Mid: {mid}\")\n",
    "print(10**mid)"
   ]
  },
  {
   "cell_type": "code",
   "execution_count": 15,
   "metadata": {},
   "outputs": [],
   "source": [
    "right = mid"
   ]
  },
  {
   "cell_type": "code",
   "execution_count": 16,
   "metadata": {},
   "outputs": [
    {
     "name": "stdout",
     "output_type": "stream",
     "text": [
      "Left: 2.5\n",
      "Right: 2.75\n",
      "Mid: 2.625\n",
      "421.6965034285823\n"
     ]
    }
   ],
   "source": [
    "print(f\"Left: {left}\")\n",
    "print(f\"Right: {right}\")\n",
    "mid = (left+right)/2\n",
    "print(f\"Mid: {mid}\")\n",
    "print(10**mid)"
   ]
  },
  {
   "cell_type": "code",
   "execution_count": 17,
   "metadata": {},
   "outputs": [],
   "source": [
    "left = mid"
   ]
  },
  {
   "cell_type": "code",
   "execution_count": 18,
   "metadata": {},
   "outputs": [
    {
     "name": "stdout",
     "output_type": "stream",
     "text": [
      "Left: 2.625\n",
      "Right: 2.75\n",
      "Mid: 2.6875\n",
      "486.9675251658631\n"
     ]
    }
   ],
   "source": [
    "print(f\"Left: {left}\")\n",
    "print(f\"Right: {right}\")\n",
    "mid = (left+right)/2\n",
    "print(f\"Mid: {mid}\")\n",
    "print(10**mid)"
   ]
  },
  {
   "cell_type": "code",
   "execution_count": 19,
   "metadata": {},
   "outputs": [],
   "source": [
    "left = mid"
   ]
  },
  {
   "cell_type": "code",
   "execution_count": 20,
   "metadata": {},
   "outputs": [
    {
     "name": "stdout",
     "output_type": "stream",
     "text": [
      "Left: 2.6875\n",
      "Right: 2.75\n",
      "Mid: 2.71875\n",
      "523.2991146814946\n"
     ]
    }
   ],
   "source": [
    "print(f\"Left: {left}\")\n",
    "print(f\"Right: {right}\")\n",
    "mid = (left+right)/2\n",
    "print(f\"Mid: {mid}\")\n",
    "print(10**mid)"
   ]
  },
  {
   "cell_type": "code",
   "execution_count": 21,
   "metadata": {},
   "outputs": [],
   "source": [
    "left = mid"
   ]
  },
  {
   "cell_type": "code",
   "execution_count": 22,
   "metadata": {},
   "outputs": [
    {
     "name": "stdout",
     "output_type": "stream",
     "text": [
      "Left: 2.71875\n",
      "Right: 2.75\n",
      "Mid: 2.734375\n",
      "542.4690937011326\n"
     ]
    }
   ],
   "source": [
    "print(f\"Left: {left}\")\n",
    "print(f\"Right: {right}\")\n",
    "mid = (left+right)/2\n",
    "print(f\"Mid: {mid}\")\n",
    "print(10**mid)"
   ]
  },
  {
   "cell_type": "code",
   "execution_count": 23,
   "metadata": {},
   "outputs": [],
   "source": [
    "right = mid"
   ]
  },
  {
   "cell_type": "code",
   "execution_count": 24,
   "metadata": {},
   "outputs": [
    {
     "name": "stdout",
     "output_type": "stream",
     "text": [
      "Left: 2.71875\n",
      "Right: 2.734375\n",
      "Mid: 2.7265625\n",
      "532.7978945865641\n"
     ]
    }
   ],
   "source": [
    "print(f\"Left: {left}\")\n",
    "print(f\"Right: {right}\")\n",
    "mid = (left+right)/2\n",
    "print(f\"Mid: {mid}\")\n",
    "print(10**mid)"
   ]
  },
  {
   "cell_type": "code",
   "execution_count": 25,
   "metadata": {},
   "outputs": [],
   "source": [
    "right = mid"
   ]
  },
  {
   "cell_type": "code",
   "execution_count": 26,
   "metadata": {},
   "outputs": [
    {
     "name": "stdout",
     "output_type": "stream",
     "text": [
      "Left: 2.71875\n",
      "Right: 2.7265625\n",
      "Mid: 2.72265625\n",
      "528.0271456481318\n"
     ]
    }
   ],
   "source": [
    "print(f\"Left: {left}\")\n",
    "print(f\"Right: {right}\")\n",
    "mid = (left+right)/2\n",
    "print(f\"Mid: {mid}\")\n",
    "print(10**mid)"
   ]
  },
  {
   "cell_type": "markdown",
   "metadata": {},
   "source": [
    "Thus, we can see, 528.0271456481318 is approximately equal to 528."
   ]
  },
  {
   "cell_type": "code",
   "execution_count": 27,
   "metadata": {},
   "outputs": [],
   "source": [
    "left = 2\n",
    "right = 3\n",
    "number = 528"
   ]
  },
  {
   "cell_type": "code",
   "execution_count": 53,
   "metadata": {},
   "outputs": [
    {
     "name": "stdout",
     "output_type": "stream",
     "text": [
      "Left: 2.7226338386535645\n",
      "Right: 2.7226340770721436\n",
      "Mid: 2.722633957862854\n",
      "Result: 528.0000429518117\n",
      "Diff: 4.295181167890405e-05\n",
      "Success!! log(10)528: 2.722633957862854\n"
     ]
    }
   ],
   "source": [
    "print(f\"Left: {left}\")\n",
    "print(f\"Right: {right}\")\n",
    "mid = (left+right)/2\n",
    "print(f\"Mid: {mid}\")\n",
    "result = 10**mid\n",
    "print(f\"Result: {result}\")\n",
    "diff = abs(result - number)\n",
    "print(f\"Diff: {diff}\")\n",
    "if diff <= 0.0001:\n",
    "    print(f\"Success!! log(10){number}: {mid}\", )\n",
    "else:\n",
    "    if result > number:\n",
    "        right = mid\n",
    "    else:\n",
    "        left = mid"
   ]
  },
  {
   "cell_type": "code",
   "execution_count": 55,
   "metadata": {},
   "outputs": [],
   "source": [
    "left = 2\n",
    "right = 3\n",
    "number = 528"
   ]
  },
  {
   "cell_type": "code",
   "execution_count": 78,
   "metadata": {},
   "outputs": [
    {
     "name": "stdout",
     "output_type": "stream",
     "text": [
      "Left: 2.7226338386535645\n",
      "Right: 2.7226340770721436\n",
      "Mid: 2.722633957862854\n",
      "Result: 528.0000429518117\n",
      "Diff: 4.295181167890405e-05\n",
      "Success!! log(10)528: 2.722633957862854\n"
     ]
    }
   ],
   "source": [
    "print(f\"Left: {left}\")\n",
    "print(f\"Right: {right}\")\n",
    "mid = (left+right)/2\n",
    "print(f\"Mid: {mid}\")\n",
    "result = 10**mid\n",
    "print(f\"Result: {result}\")\n",
    "diff = abs(result - number)\n",
    "print(f\"Diff: {diff}\")\n",
    "if diff <= 0.0001:\n",
    "    print(f\"Success!! log(10){number}: {mid}\", )\n",
    "else:\n",
    "    if result > number:\n",
    "        right = mid\n",
    "    else:\n",
    "        left = mid"
   ]
  },
  {
   "cell_type": "code",
   "execution_count": 79,
   "metadata": {},
   "outputs": [],
   "source": [
    "left, right = 2, 3\n",
    "number = 528"
   ]
  },
  {
   "cell_type": "code",
   "execution_count": 80,
   "metadata": {},
   "outputs": [
    {
     "name": "stdout",
     "output_type": "stream",
     "text": [
      "Left: 2\n",
      "Right: 3\n",
      "Mid: 2.5\n",
      "Result: 316.22776601683796\n",
      "Diff: 211.77223398316204\n",
      "Left: 2.5\n",
      "Right: 3\n",
      "Mid: 2.75\n",
      "Result: 562.341325190349\n",
      "Diff: 34.34132519034904\n",
      "Left: 2.5\n",
      "Right: 2.75\n",
      "Mid: 2.625\n",
      "Result: 421.6965034285823\n",
      "Diff: 106.30349657141772\n",
      "Left: 2.625\n",
      "Right: 2.75\n",
      "Mid: 2.6875\n",
      "Result: 486.9675251658631\n",
      "Diff: 41.032474834136906\n",
      "Left: 2.6875\n",
      "Right: 2.75\n",
      "Mid: 2.71875\n",
      "Result: 523.2991146814946\n",
      "Diff: 4.700885318505357\n",
      "Left: 2.71875\n",
      "Right: 2.75\n",
      "Mid: 2.734375\n",
      "Result: 542.4690937011326\n",
      "Diff: 14.469093701132579\n",
      "Left: 2.71875\n",
      "Right: 2.734375\n",
      "Mid: 2.7265625\n",
      "Result: 532.7978945865641\n",
      "Diff: 4.797894586564098\n",
      "Left: 2.71875\n",
      "Right: 2.7265625\n",
      "Mid: 2.72265625\n",
      "Result: 528.0271456481318\n",
      "Diff: 0.027145648131750022\n",
      "Left: 2.71875\n",
      "Right: 2.72265625\n",
      "Mid: 2.720703125\n",
      "Result: 525.657814405402\n",
      "Diff: 2.3421855945980496\n",
      "Left: 2.720703125\n",
      "Right: 2.72265625\n",
      "Mid: 2.7216796875\n",
      "Result: 526.841148096957\n",
      "Diff: 1.1588519030430007\n",
      "Left: 2.7216796875\n",
      "Right: 2.72265625\n",
      "Mid: 2.72216796875\n",
      "Result: 527.4338135156115\n",
      "Diff: 0.5661864843884814\n",
      "Left: 2.72216796875\n",
      "Right: 2.72265625\n",
      "Mid: 2.722412109375\n",
      "Result: 527.7303961957823\n",
      "Diff: 0.26960380421769514\n",
      "Left: 2.722412109375\n",
      "Right: 2.72265625\n",
      "Mid: 2.7225341796875\n",
      "Result: 527.8787500695748\n",
      "Diff: 0.12124993042516508\n",
      "Left: 2.7225341796875\n",
      "Right: 2.72265625\n",
      "Mid: 2.72259521484375\n",
      "Result: 527.952942645025\n",
      "Diff: 0.047057354974981536\n",
      "Left: 2.72259521484375\n",
      "Right: 2.72265625\n",
      "Mid: 2.722625732421875\n",
      "Result: 527.9900428430298\n",
      "Diff: 0.009957156970244796\n",
      "Left: 2.722625732421875\n",
      "Right: 2.72265625\n",
      "Mid: 2.7226409912109375\n",
      "Result: 528.0085939196821\n",
      "Diff: 0.008593919682084561\n",
      "Left: 2.722625732421875\n",
      "Right: 2.7226409912109375\n",
      "Mid: 2.7226333618164062\n",
      "Result: 527.9993182998827\n",
      "Diff: 0.0006817001172976234\n",
      "Left: 2.7226333618164062\n",
      "Right: 2.7226409912109375\n",
      "Mid: 2.722637176513672\n",
      "Result: 528.0039560894139\n",
      "Diff: 0.003956089413918562\n",
      "Left: 2.7226333618164062\n",
      "Right: 2.722637176513672\n",
      "Mid: 2.722635269165039\n",
      "Result: 528.0016371895563\n",
      "Diff: 0.0016371895562770078\n",
      "Left: 2.7226333618164062\n",
      "Right: 2.722635269165039\n",
      "Mid: 2.7226343154907227\n",
      "Result: 528.0004777434465\n",
      "Diff: 0.00047774344648132683\n",
      "Left: 2.7226333618164062\n",
      "Right: 2.7226343154907227\n",
      "Mid: 2.7226338386535645\n",
      "Result: 527.9998980213463\n",
      "Diff: 0.00010197865367445047\n",
      "Left: 2.7226338386535645\n",
      "Right: 2.7226343154907227\n",
      "Mid: 2.7226340770721436\n",
      "Result: 528.0001878823168\n",
      "Diff: 0.00018788231682265177\n",
      "Left: 2.7226338386535645\n",
      "Right: 2.7226340770721436\n",
      "Mid: 2.722633957862854\n",
      "Result: 528.0000429518117\n",
      "Diff: 4.295181167890405e-05\n",
      "Success!! log10528: 2.722633957862854\n"
     ]
    }
   ],
   "source": [
    "while True:\n",
    "    print(f\"Left: {left}\")\n",
    "    print(f\"Right: {right}\")\n",
    "    mid = (left+right)/2\n",
    "    print(f\"Mid: {mid}\")\n",
    "    result = 10**mid\n",
    "    print(f\"Result: {result}\")\n",
    "    diff = abs(result - number)\n",
    "    print(f\"Diff: {diff}\")\n",
    "    if diff <= 0.0001:\n",
    "        print(f\"Success!! log10{number}: {mid}\", )\n",
    "        break\n",
    "    else:\n",
    "        if result > number:\n",
    "            right = mid\n",
    "        else:\n",
    "            left = mid"
   ]
  },
  {
   "cell_type": "markdown",
   "metadata": {},
   "source": [
    "Q17: Write a code to calculate log(10)528 using function."
   ]
  },
  {
   "cell_type": "code",
   "execution_count": 88,
   "metadata": {},
   "outputs": [],
   "source": [
    "def log10(number):\n",
    "    left = 0\n",
    "    right = 10\n",
    "    while True:\n",
    "        mid = (left+right)/2\n",
    "        result = 10**mid\n",
    "        diff = abs(result - number)\n",
    "        if diff <= 0.0001:\n",
    "            return mid\n",
    "        else:\n",
    "            if result > number:\n",
    "                right = mid\n",
    "            else:\n",
    "                left = mid"
   ]
  },
  {
   "cell_type": "code",
   "execution_count": 89,
   "metadata": {},
   "outputs": [
    {
     "data": {
      "text/plain": [
       "2.7226339280605316"
      ]
     },
     "execution_count": 89,
     "metadata": {},
     "output_type": "execute_result"
    }
   ],
   "source": [
    "log10(528)"
   ]
  },
  {
   "cell_type": "code",
   "execution_count": 90,
   "metadata": {},
   "outputs": [
    {
     "data": {
      "text/plain": [
       "1.0000038146972656"
      ]
     },
     "execution_count": 90,
     "metadata": {},
     "output_type": "execute_result"
    }
   ],
   "source": [
    "log10(10)"
   ]
  },
  {
   "cell_type": "code",
   "execution_count": 83,
   "metadata": {},
   "outputs": [
    {
     "data": {
      "text/plain": [
       "2.722633922533812"
      ]
     },
     "execution_count": 83,
     "metadata": {},
     "output_type": "execute_result"
    }
   ],
   "source": [
    "math.log10(528)"
   ]
  },
  {
   "cell_type": "markdown",
   "metadata": {},
   "source": [
    "The above method of calculating log(10) number is called binary search."
   ]
  },
  {
   "cell_type": "code",
   "execution_count": null,
   "metadata": {},
   "outputs": [],
   "source": []
  }
 ],
 "metadata": {
  "kernelspec": {
   "display_name": "Python3.10",
   "language": "python",
   "name": "python3.10"
  },
  "language_info": {
   "codemirror_mode": {
    "name": "ipython",
    "version": 3
   },
   "file_extension": ".py",
   "mimetype": "text/x-python",
   "name": "python",
   "nbconvert_exporter": "python",
   "pygments_lexer": "ipython3",
   "version": "3.10.14"
  },
  "toc": {
   "base_numbering": 1,
   "nav_menu": {},
   "number_sections": true,
   "sideBar": true,
   "skip_h1_title": false,
   "title_cell": "Table of Contents",
   "title_sidebar": "Contents",
   "toc_cell": false,
   "toc_position": {},
   "toc_section_display": true,
   "toc_window_display": false
  }
 },
 "nbformat": 4,
 "nbformat_minor": 2
}
