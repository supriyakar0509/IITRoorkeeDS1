{
 "cells": [
  {
   "cell_type": "markdown",
   "metadata": {},
   "source": [
    "# Important questions"
   ]
  },
  {
   "cell_type": "markdown",
   "metadata": {},
   "source": [
    "Q1: Convert a three digit base 7 number to base 10.\n",
    "\n",
    "Ans: Let the three digit base 7 number be 154."
   ]
  },
  {
   "cell_type": "code",
   "execution_count": 1,
   "metadata": {},
   "outputs": [],
   "source": [
    "x = 154"
   ]
  },
  {
   "cell_type": "code",
   "execution_count": 2,
   "metadata": {},
   "outputs": [
    {
     "name": "stdout",
     "output_type": "stream",
     "text": [
      "4\n"
     ]
    }
   ],
   "source": [
    "d0 = x % 10\n",
    "print(d0)"
   ]
  },
  {
   "cell_type": "code",
   "execution_count": 3,
   "metadata": {},
   "outputs": [
    {
     "data": {
      "text/plain": [
       "15"
      ]
     },
     "execution_count": 3,
     "metadata": {},
     "output_type": "execute_result"
    }
   ],
   "source": [
    "x = x // 10\n",
    "x"
   ]
  },
  {
   "cell_type": "code",
   "execution_count": 4,
   "metadata": {},
   "outputs": [
    {
     "name": "stdout",
     "output_type": "stream",
     "text": [
      "5\n"
     ]
    }
   ],
   "source": [
    "d1 = x % 10\n",
    "print(d1)"
   ]
  },
  {
   "cell_type": "code",
   "execution_count": 5,
   "metadata": {},
   "outputs": [
    {
     "data": {
      "text/plain": [
       "1"
      ]
     },
     "execution_count": 5,
     "metadata": {},
     "output_type": "execute_result"
    }
   ],
   "source": [
    "x = x // 10\n",
    "x"
   ]
  },
  {
   "cell_type": "code",
   "execution_count": 6,
   "metadata": {},
   "outputs": [
    {
     "name": "stdout",
     "output_type": "stream",
     "text": [
      "1\n"
     ]
    }
   ],
   "source": [
    "d2 = x % 10\n",
    "print(d2)"
   ]
  },
  {
   "cell_type": "code",
   "execution_count": 7,
   "metadata": {},
   "outputs": [
    {
     "name": "stdout",
     "output_type": "stream",
     "text": [
      "4 5 1\n"
     ]
    }
   ],
   "source": [
    "print(d0,d1,d2)"
   ]
  },
  {
   "cell_type": "code",
   "execution_count": 8,
   "metadata": {},
   "outputs": [
    {
     "data": {
      "text/plain": [
       "88"
      ]
     },
     "execution_count": 8,
     "metadata": {},
     "output_type": "execute_result"
    }
   ],
   "source": [
    "d0 + 7*d1 + 7*7*d2"
   ]
  },
  {
   "cell_type": "code",
   "execution_count": 10,
   "metadata": {},
   "outputs": [
    {
     "data": {
      "text/plain": [
       "88"
      ]
     },
     "execution_count": 10,
     "metadata": {},
     "output_type": "execute_result"
    }
   ],
   "source": [
    "x = 154 \n",
    "#x is in base 7\n",
    "#convert x = 154 to base 10\n",
    "x = 1*7*7 + 5*7 + 4*1\n",
    "x"
   ]
  },
  {
   "cell_type": "markdown",
   "metadata": {},
   "source": [
    "Q2: Convert a four digit base 8 number to base 10."
   ]
  },
  {
   "cell_type": "markdown",
   "metadata": {},
   "source": [
    "Ans: Let the four digit base 8 number be 2756.\n",
    "\n",
    "\n",
    "This is what we are trying to achieve:\n",
    "\n",
    "    1*d0 + 8*d1 + 8*8*d2 + 8*8*8*d3\n",
    "\n",
    "    1*6 + 8*5 + 8*8*7 + 8*8*8*2"
   ]
  },
  {
   "cell_type": "code",
   "execution_count": 20,
   "metadata": {},
   "outputs": [],
   "source": [
    "x = 2756\n",
    "multiplier = 1\n",
    "mybase = 8\n",
    "Result = 0"
   ]
  },
  {
   "cell_type": "code",
   "execution_count": 21,
   "metadata": {},
   "outputs": [
    {
     "name": "stdout",
     "output_type": "stream",
     "text": [
      "Number in base 8:  2756\n",
      "Last Digit of base 8 number:  6\n",
      "Multiplier:  1\n",
      "Result:  6\n"
     ]
    }
   ],
   "source": [
    "print(\"Number in base 8: \", x)\n",
    "d = x % 10\n",
    "print(\"Last Digit of base 8 number: \", d)\n",
    "print(\"Multiplier: \", multiplier)\n",
    "Result = Result + d*multiplier\n",
    "print(\"Result: \", Result)"
   ]
  },
  {
   "cell_type": "code",
   "execution_count": 22,
   "metadata": {},
   "outputs": [
    {
     "name": "stdout",
     "output_type": "stream",
     "text": [
      "New Number:  275\n",
      "New Multiplier: 8\n"
     ]
    }
   ],
   "source": [
    "x = x // 10\n",
    "multiplier = multiplier * mybase\n",
    "print(\"New Number: \", x)\n",
    "print(\"New Multiplier:\", multiplier)"
   ]
  },
  {
   "cell_type": "code",
   "execution_count": 23,
   "metadata": {},
   "outputs": [
    {
     "name": "stdout",
     "output_type": "stream",
     "text": [
      "Number in base 8:  275\n",
      "Last Digit of base 8 number:  5\n",
      "Multiplier:  8\n",
      "Result:  46\n"
     ]
    }
   ],
   "source": [
    "print(\"Number in base 8: \", x)\n",
    "d = x % 10\n",
    "print(\"Last Digit of base 8 number: \", d)\n",
    "print(\"Multiplier: \", multiplier)\n",
    "Result = Result + d*multiplier\n",
    "print(\"Result: \", Result)"
   ]
  },
  {
   "cell_type": "code",
   "execution_count": 24,
   "metadata": {},
   "outputs": [
    {
     "name": "stdout",
     "output_type": "stream",
     "text": [
      "New Number:  27\n",
      "New Multiplier: 64\n"
     ]
    }
   ],
   "source": [
    "x = x // 10\n",
    "multiplier = multiplier * mybase\n",
    "print(\"New Number: \", x)\n",
    "print(\"New Multiplier:\", multiplier)"
   ]
  },
  {
   "cell_type": "code",
   "execution_count": 25,
   "metadata": {},
   "outputs": [
    {
     "name": "stdout",
     "output_type": "stream",
     "text": [
      "Number in base 8:  27\n",
      "Last Digit of base 8 number:  7\n",
      "Multiplier:  64\n",
      "Result:  494\n"
     ]
    }
   ],
   "source": [
    "print(\"Number in base 8: \", x)\n",
    "d = x % 10\n",
    "print(\"Last Digit of base 8 number: \", d)\n",
    "print(\"Multiplier: \", multiplier)\n",
    "Result = Result + d*multiplier\n",
    "print(\"Result: \", Result)"
   ]
  },
  {
   "cell_type": "code",
   "execution_count": 26,
   "metadata": {},
   "outputs": [
    {
     "name": "stdout",
     "output_type": "stream",
     "text": [
      "New Number:  2\n",
      "New Multiplier: 512\n"
     ]
    }
   ],
   "source": [
    "x = x // 10\n",
    "multiplier = multiplier * mybase\n",
    "print(\"New Number: \", x)\n",
    "print(\"New Multiplier:\", multiplier)"
   ]
  },
  {
   "cell_type": "code",
   "execution_count": 27,
   "metadata": {},
   "outputs": [
    {
     "name": "stdout",
     "output_type": "stream",
     "text": [
      "Number in base 8:  2\n",
      "Last Digit of base 8 number:  2\n",
      "Multiplier:  512\n",
      "Result:  1518\n"
     ]
    }
   ],
   "source": [
    "print(\"Number in base 8: \", x)\n",
    "d = x % 10\n",
    "print(\"Last Digit of base 8 number: \", d)\n",
    "print(\"Multiplier: \", multiplier)\n",
    "Result = Result + d*multiplier\n",
    "print(\"Result: \", Result)"
   ]
  },
  {
   "cell_type": "code",
   "execution_count": 28,
   "metadata": {},
   "outputs": [
    {
     "name": "stdout",
     "output_type": "stream",
     "text": [
      "Number in base 10: 1518\n"
     ]
    }
   ],
   "source": [
    "print(\"Number in base 10:\", Result)"
   ]
  },
  {
   "cell_type": "markdown",
   "metadata": {},
   "source": [
    "Q3: Convert a four digit base 8 number to base 10 by defining functions."
   ]
  },
  {
   "cell_type": "code",
   "execution_count": 1,
   "metadata": {},
   "outputs": [],
   "source": [
    "x = 2756\n",
    "multiplier = 1 \n",
    "mybase = 8 \n",
    "Result = 0"
   ]
  },
  {
   "cell_type": "code",
   "execution_count": 2,
   "metadata": {},
   "outputs": [],
   "source": [
    "def extractlastdigit():\n",
    "    global x\n",
    "    global multiplier \n",
    "    global Result\n",
    "    global mybase\n",
    "    print(\"Number in base 8:\", x)\n",
    "    d = x % 10\n",
    "    print(\"Last digit of number in base 8:\", d)\n",
    "    print(\"Multiplier: \", multiplier)\n",
    "    Result = Result + d*multiplier\n",
    "    print(\"Result in base 10: \", Result)\n",
    "    x = x // 10\n",
    "    multiplier = multiplier * mybase\n",
    "    print(\"New Number in base 8: \", x)\n",
    "    print(\"New Multiplier:\", multiplier)"
   ]
  },
  {
   "cell_type": "code",
   "execution_count": 3,
   "metadata": {},
   "outputs": [
    {
     "name": "stdout",
     "output_type": "stream",
     "text": [
      "Number in base 8: 2756\n",
      "Last digit of number in base 8: 6\n",
      "Multiplier:  1\n",
      "Result in base 10:  6\n",
      "New Number in base 8:  275\n",
      "New Multiplier: 8\n"
     ]
    }
   ],
   "source": [
    "extractlastdigit()"
   ]
  },
  {
   "cell_type": "code",
   "execution_count": 4,
   "metadata": {},
   "outputs": [
    {
     "name": "stdout",
     "output_type": "stream",
     "text": [
      "Number in base 8: 275\n",
      "Last digit of number in base 8: 5\n",
      "Multiplier:  8\n",
      "Result in base 10:  46\n",
      "New Number in base 8:  27\n",
      "New Multiplier: 64\n"
     ]
    }
   ],
   "source": [
    "extractlastdigit()"
   ]
  },
  {
   "cell_type": "code",
   "execution_count": 5,
   "metadata": {},
   "outputs": [
    {
     "name": "stdout",
     "output_type": "stream",
     "text": [
      "Number in base 8: 27\n",
      "Last digit of number in base 8: 7\n",
      "Multiplier:  64\n",
      "Result in base 10:  494\n",
      "New Number in base 8:  2\n",
      "New Multiplier: 512\n"
     ]
    }
   ],
   "source": [
    "extractlastdigit()"
   ]
  },
  {
   "cell_type": "code",
   "execution_count": 6,
   "metadata": {},
   "outputs": [
    {
     "name": "stdout",
     "output_type": "stream",
     "text": [
      "Number in base 8: 2\n",
      "Last digit of number in base 8: 2\n",
      "Multiplier:  512\n",
      "Result in base 10:  1518\n",
      "New Number in base 8:  0\n",
      "New Multiplier: 4096\n"
     ]
    }
   ],
   "source": [
    "extractlastdigit()"
   ]
  },
  {
   "cell_type": "markdown",
   "metadata": {},
   "source": [
    "Q4: What should we do to automate the above execution ?\n",
    "\n",
    "Ans: (i) Looping with condition\n",
    "     (ii) Recursion"
   ]
  },
  {
   "cell_type": "markdown",
   "metadata": {},
   "source": [
    "Topic: Global vs Local variable"
   ]
  },
  {
   "cell_type": "code",
   "execution_count": 8,
   "metadata": {},
   "outputs": [],
   "source": [
    "myvalue = 10\n",
    "\n",
    "def printmyvalue():\n",
    "    myvalue = 20\n",
    "    print(myvalue)"
   ]
  },
  {
   "cell_type": "code",
   "execution_count": 9,
   "metadata": {},
   "outputs": [
    {
     "data": {
      "text/plain": [
       "10"
      ]
     },
     "execution_count": 9,
     "metadata": {},
     "output_type": "execute_result"
    }
   ],
   "source": [
    "myvalue"
   ]
  },
  {
   "cell_type": "code",
   "execution_count": 10,
   "metadata": {},
   "outputs": [
    {
     "name": "stdout",
     "output_type": "stream",
     "text": [
      "20\n"
     ]
    }
   ],
   "source": [
    "printmyvalue()"
   ]
  },
  {
   "cell_type": "code",
   "execution_count": 11,
   "metadata": {},
   "outputs": [
    {
     "data": {
      "text/plain": [
       "10"
      ]
     },
     "execution_count": 11,
     "metadata": {},
     "output_type": "execute_result"
    }
   ],
   "source": [
    "myvalue"
   ]
  },
  {
   "cell_type": "markdown",
   "metadata": {},
   "source": [
    "So here, we can see when we only use 'myvalue' the value is 10, but when we execute 'printmyvalue' function, the value of 'myvalue' inside the function gets executed (that is, 20). And again when we do only 'myvalue' the value is 10 again."
   ]
  },
  {
   "cell_type": "markdown",
   "metadata": {},
   "source": [
    "Thus, the 'myvalue' inside the 'printmyvalue' function is local variable and the one outside the function is the global variable."
   ]
  },
  {
   "cell_type": "code",
   "execution_count": 12,
   "metadata": {},
   "outputs": [],
   "source": [
    "myvalue = 10\n",
    "\n",
    "def printmyvalue():\n",
    "    global myvalue\n",
    "    myvalue = 20\n",
    "    print(myvalue)"
   ]
  },
  {
   "cell_type": "code",
   "execution_count": 13,
   "metadata": {},
   "outputs": [
    {
     "data": {
      "text/plain": [
       "10"
      ]
     },
     "execution_count": 13,
     "metadata": {},
     "output_type": "execute_result"
    }
   ],
   "source": [
    "myvalue"
   ]
  },
  {
   "cell_type": "code",
   "execution_count": 14,
   "metadata": {},
   "outputs": [
    {
     "name": "stdout",
     "output_type": "stream",
     "text": [
      "20\n"
     ]
    }
   ],
   "source": [
    "printmyvalue()"
   ]
  },
  {
   "cell_type": "code",
   "execution_count": 15,
   "metadata": {},
   "outputs": [
    {
     "data": {
      "text/plain": [
       "20"
      ]
     },
     "execution_count": 15,
     "metadata": {},
     "output_type": "execute_result"
    }
   ],
   "source": [
    "myvalue"
   ]
  },
  {
   "cell_type": "markdown",
   "metadata": {},
   "source": [
    "Here we can see, if we want to use the 'myvalue' variable which lies outside the function 'printmyvalue' inside it, we use the keyword 'global' and then it takes the value of 'myvalue' from outside the function to inside it and then again inside the function it is assigned a new value. When after executing the function 'printmyvalue' we again execute 'myvalue' the new value which was assigned inside the function shows up as the output, which was not the case earlier. Thus, we see how the 'global' keyword calls a variable outside the function to be used inside the function and then it retains the new value given to it inside the function."
   ]
  },
  {
   "cell_type": "markdown",
   "metadata": {},
   "source": [
    "Thus, we see what is the use of local and global variable."
   ]
  },
  {
   "cell_type": "markdown",
   "metadata": {},
   "source": [
    "Q5: Convert a four digit base 8 number to base 10 by using looping with condition as well as recursion."
   ]
  },
  {
   "cell_type": "code",
   "execution_count": 26,
   "metadata": {},
   "outputs": [],
   "source": [
    "x = 2756\n",
    "multiplier = 1\n",
    "mybase = 8\n",
    "Result = 0\n",
    "\n",
    "\n",
    "def extractlastdigitrecursion():\n",
    "    global x\n",
    "    global Result\n",
    "    global multiplier\n",
    "    global mybase\n",
    "    print(\"-\"*10)\n",
    "    print(\"Number in base 8: \", x)\n",
    "    \n",
    "    d = x % 10\n",
    "    print(\"Last digit of number in base 8: \", d)\n",
    "    print(\"Multiplier: \", multiplier)\n",
    "    Result = Result + d*multiplier\n",
    "    print(\"Result: \", Result)\n",
    "    x = x // 10\n",
    "    multiplier = multiplier * mybase\n",
    "    print(\"New Number: \", x)\n",
    "    print(\"New Multiplier:\", multiplier)\n",
    "    \n",
    "    if x == 0:\n",
    "        print(\"The number is zero. Stop!\")\n",
    "    elif x < 0:\n",
    "        print(\"Impossible!\")\n",
    "    else:\n",
    "        extractlastdigitrecursion()"
   ]
  },
  {
   "cell_type": "code",
   "execution_count": 27,
   "metadata": {},
   "outputs": [
    {
     "name": "stdout",
     "output_type": "stream",
     "text": [
      "----------\n",
      "Number in base 8:  2756\n",
      "Last digit of number in base 8:  6\n",
      "Multiplier:  1\n",
      "Result:  6\n",
      "New Number:  275\n",
      "New Multiplier: 8\n",
      "----------\n",
      "Number in base 8:  275\n",
      "Last digit of number in base 8:  5\n",
      "Multiplier:  8\n",
      "Result:  46\n",
      "New Number:  27\n",
      "New Multiplier: 64\n",
      "----------\n",
      "Number in base 8:  27\n",
      "Last digit of number in base 8:  7\n",
      "Multiplier:  64\n",
      "Result:  494\n",
      "New Number:  2\n",
      "New Multiplier: 512\n",
      "----------\n",
      "Number in base 8:  2\n",
      "Last digit of number in base 8:  2\n",
      "Multiplier:  512\n",
      "Result:  1518\n",
      "New Number:  0\n",
      "New Multiplier: 4096\n",
      "The number is zero. Stop!\n"
     ]
    }
   ],
   "source": [
    "extractlastdigitrecursion()"
   ]
  },
  {
   "cell_type": "markdown",
   "metadata": {},
   "source": [
    "Q6: Do the above exercise through your own method."
   ]
  },
  {
   "cell_type": "code",
   "execution_count": 6,
   "metadata": {},
   "outputs": [],
   "source": [
    "def convertfrombase8tobase10(x):\n",
    "    power = 1\n",
    "    mybase = 8\n",
    "    base10number = 0\n",
    "    base10valueofdigit = 0\n",
    "    print(\"-\"*10)\n",
    "    print(\"Number in base 8 is:\", x)\n",
    "    \n",
    "    \n",
    "    numberstring = str(x)\n",
    "    for i in range(len(numberstring)-1,-1,-1):\n",
    "        digit = int(numberstring[i])\n",
    "        base10valueofdigit = digit*power\n",
    "        base10number = base10number + base10valueofdigit\n",
    "        power = power * mybase\n",
    "    print(\"Number in base 10 is:\", base10number)"
   ]
  },
  {
   "cell_type": "code",
   "execution_count": 7,
   "metadata": {},
   "outputs": [
    {
     "name": "stdout",
     "output_type": "stream",
     "text": [
      "----------\n",
      "Number in base 8 is: 2756\n",
      "Number in base 10 is: 1518\n"
     ]
    }
   ],
   "source": [
    "x = 2756\n",
    "convertfrombase8tobase10(x)"
   ]
  },
  {
   "cell_type": "markdown",
   "metadata": {},
   "source": [
    "Q7: Convert the four digit base 8 number to base 10 using while loop."
   ]
  },
  {
   "cell_type": "code",
   "execution_count": 18,
   "metadata": {},
   "outputs": [
    {
     "name": "stdout",
     "output_type": "stream",
     "text": [
      "x in the loop:  2756\n",
      "====================\n",
      "Number in base 8: 2756\n",
      "Last digit of number in base 8: 6\n",
      "Multiplier:  1\n",
      "Result in base 10:  6\n",
      "New Number in base 8:  275\n",
      "New Multiplier: 8\n",
      "x in the loop:  275\n",
      "====================\n",
      "Number in base 8: 275\n",
      "Last digit of number in base 8: 5\n",
      "Multiplier:  8\n",
      "Result in base 10:  46\n",
      "New Number in base 8:  27\n",
      "New Multiplier: 64\n",
      "x in the loop:  27\n",
      "====================\n",
      "Number in base 8: 27\n",
      "Last digit of number in base 8: 7\n",
      "Multiplier:  64\n",
      "Result in base 10:  494\n",
      "New Number in base 8:  2\n",
      "New Multiplier: 512\n",
      "x in the loop:  2\n",
      "====================\n",
      "Number in base 8: 2\n",
      "Last digit of number in base 8: 2\n",
      "Multiplier:  512\n",
      "Result in base 10:  1518\n",
      "New Number in base 8:  0\n",
      "New Multiplier: 4096\n"
     ]
    }
   ],
   "source": [
    "x = 2756\n",
    "multiplier = 1\n",
    "mybase = 8\n",
    "Result = 0\n",
    "def extractlastdigit():\n",
    "    global x\n",
    "    global multiplier \n",
    "    global Result\n",
    "    global mybase\n",
    "    print(\"==\"*10)\n",
    "    print(\"Number in base 8:\", x)\n",
    "    d = x % 10\n",
    "    print(\"Last digit of number in base 8:\", d)\n",
    "    print(\"Multiplier: \", multiplier)\n",
    "    Result = Result + d*multiplier\n",
    "    print(\"Result in base 10: \", Result)\n",
    "    x = x // 10\n",
    "    multiplier = multiplier * mybase\n",
    "    print(\"New Number in base 8: \", x)\n",
    "    print(\"New Multiplier:\", multiplier)\n",
    "while x > 0:\n",
    "    print(\"x in the loop: \", x)\n",
    "    extractlastdigit()"
   ]
  },
  {
   "cell_type": "markdown",
   "metadata": {},
   "source": [
    "Q8: Create a condition on x1, x2 and x where we print 'True' if x is on the line joining x1 and x2."
   ]
  },
  {
   "cell_type": "markdown",
   "metadata": {},
   "source": [
    "Method 1:"
   ]
  },
  {
   "cell_type": "code",
   "execution_count": 2,
   "metadata": {},
   "outputs": [],
   "source": [
    "def isontheline(x1,x2,x):\n",
    "    if (x >= x1 and x <= x2) or (x >= x2 and x <= x1):\n",
    "        print(\"True\")\n",
    "    else:\n",
    "        print(\"False\")"
   ]
  },
  {
   "cell_type": "code",
   "execution_count": 3,
   "metadata": {},
   "outputs": [
    {
     "name": "stdout",
     "output_type": "stream",
     "text": [
      "True\n"
     ]
    }
   ],
   "source": [
    "isontheline(1,5,2)"
   ]
  },
  {
   "cell_type": "code",
   "execution_count": 4,
   "metadata": {},
   "outputs": [
    {
     "name": "stdout",
     "output_type": "stream",
     "text": [
      "True\n"
     ]
    }
   ],
   "source": [
    "isontheline(8,5,7)"
   ]
  },
  {
   "cell_type": "code",
   "execution_count": 5,
   "metadata": {},
   "outputs": [
    {
     "name": "stdout",
     "output_type": "stream",
     "text": [
      "False\n"
     ]
    }
   ],
   "source": [
    "isontheline(2,8,9)"
   ]
  },
  {
   "cell_type": "code",
   "execution_count": 6,
   "metadata": {},
   "outputs": [
    {
     "name": "stdout",
     "output_type": "stream",
     "text": [
      "False\n"
     ]
    }
   ],
   "source": [
    "isontheline(7,2,8)"
   ]
  },
  {
   "cell_type": "markdown",
   "metadata": {},
   "source": [
    "Method 2:"
   ]
  },
  {
   "cell_type": "code",
   "execution_count": 7,
   "metadata": {},
   "outputs": [
    {
     "name": "stdout",
     "output_type": "stream",
     "text": [
      "True\n"
     ]
    }
   ],
   "source": [
    "x1 = 4\n",
    "x2 = 9\n",
    "x = 6.5\n",
    "if (x >= x1 and x <= x2) or (x >= x2 and x <= x1):\n",
    "    print(\"True\")\n",
    "else:\n",
    "    print(\"False\")"
   ]
  },
  {
   "cell_type": "markdown",
   "metadata": {},
   "source": [
    "Method 3:"
   ]
  },
  {
   "cell_type": "code",
   "execution_count": 12,
   "metadata": {},
   "outputs": [],
   "source": [
    "def isontheline(x1, x2, x):\n",
    "    if (x >= x1 and x <= x2) or (x >= x2 and x <= x1):\n",
    "        return True\n",
    "    else:\n",
    "        return False"
   ]
  },
  {
   "cell_type": "code",
   "execution_count": 13,
   "metadata": {},
   "outputs": [
    {
     "name": "stdout",
     "output_type": "stream",
     "text": [
      "Yay!\n"
     ]
    }
   ],
   "source": [
    "if isontheline(1,2,1.5):\n",
    "    print(\"Yay!\")"
   ]
  },
  {
   "cell_type": "markdown",
   "metadata": {},
   "source": [
    "Q9: Suppose we are given two lines x1 --> x2 and x3 --> x4: Write a code to print \"True\" if the two lines are overlapping or touching otherwise print False."
   ]
  },
  {
   "cell_type": "code",
   "execution_count": 41,
   "metadata": {},
   "outputs": [],
   "source": [
    "def twolinesoverlappingortouching(x1, x2, x3, x4):\n",
    "    if (isontheline(x1,x2,x3) or isontheline(x1,x2,x4) or isontheline(x3,x4,x1) or isontheline(x3,x4,x2)):\n",
    "        print(\"True\")\n",
    "    else:\n",
    "        print(\"False\")"
   ]
  },
  {
   "cell_type": "code",
   "execution_count": 35,
   "metadata": {},
   "outputs": [
    {
     "name": "stdout",
     "output_type": "stream",
     "text": [
      "False\n"
     ]
    }
   ],
   "source": [
    "twolinesoverlappingortouching(1, 2, 3, 4)"
   ]
  },
  {
   "cell_type": "code",
   "execution_count": 36,
   "metadata": {},
   "outputs": [
    {
     "name": "stdout",
     "output_type": "stream",
     "text": [
      "True\n"
     ]
    }
   ],
   "source": [
    "twolinesoverlappingortouching(1, 5, 3, 4)"
   ]
  },
  {
   "cell_type": "code",
   "execution_count": 37,
   "metadata": {},
   "outputs": [
    {
     "name": "stdout",
     "output_type": "stream",
     "text": [
      "True\n"
     ]
    }
   ],
   "source": [
    "twolinesoverlappingortouching(1, 2, 2, 4)"
   ]
  },
  {
   "cell_type": "code",
   "execution_count": 38,
   "metadata": {},
   "outputs": [
    {
     "name": "stdout",
     "output_type": "stream",
     "text": [
      "True\n"
     ]
    }
   ],
   "source": [
    "twolinesoverlappingortouching(1, 5, 3, -4)"
   ]
  },
  {
   "cell_type": "code",
   "execution_count": 42,
   "metadata": {},
   "outputs": [
    {
     "name": "stdout",
     "output_type": "stream",
     "text": [
      "True\n"
     ]
    }
   ],
   "source": [
    "twolinesoverlappingortouching(1, 5, -4, 7)"
   ]
  },
  {
   "cell_type": "markdown",
   "metadata": {},
   "source": [
    "Method 2 to do Q9:"
   ]
  },
  {
   "cell_type": "code",
   "execution_count": 2,
   "metadata": {},
   "outputs": [],
   "source": [
    "def overlappinglines(x1,x2,x3,x4):\n",
    "    if max(x1,x2) < min(x3,x4) or min(x1,x2) > max(x3,x4):\n",
    "        return False\n",
    "    else:\n",
    "        return True"
   ]
  },
  {
   "cell_type": "code",
   "execution_count": 3,
   "metadata": {},
   "outputs": [
    {
     "data": {
      "text/plain": [
       "True"
      ]
     },
     "execution_count": 3,
     "metadata": {},
     "output_type": "execute_result"
    }
   ],
   "source": [
    "overlappinglines(4,5,5,8)"
   ]
  },
  {
   "cell_type": "code",
   "execution_count": 3,
   "metadata": {},
   "outputs": [
    {
     "data": {
      "text/plain": [
       "False"
      ]
     },
     "execution_count": 3,
     "metadata": {},
     "output_type": "execute_result"
    }
   ],
   "source": [
    "overlappinglines(1,2,6,7)"
   ]
  },
  {
   "cell_type": "markdown",
   "metadata": {},
   "source": [
    "Method 3 to do Q9:"
   ]
  },
  {
   "cell_type": "code",
   "execution_count": 4,
   "metadata": {},
   "outputs": [],
   "source": [
    "def overlappinglines(x1,x2,x3,x4):\n",
    "    return not(max(x1,x2) < min(x3,x4) or min(x1,x2) > max(x3,x4))"
   ]
  },
  {
   "cell_type": "code",
   "execution_count": 5,
   "metadata": {},
   "outputs": [
    {
     "data": {
      "text/plain": [
       "True"
      ]
     },
     "execution_count": 5,
     "metadata": {},
     "output_type": "execute_result"
    }
   ],
   "source": [
    "overlappinglines(4,7,6,9)"
   ]
  },
  {
   "cell_type": "code",
   "execution_count": 6,
   "metadata": {},
   "outputs": [
    {
     "data": {
      "text/plain": [
       "False"
      ]
     },
     "execution_count": 6,
     "metadata": {},
     "output_type": "execute_result"
    }
   ],
   "source": [
    "overlappinglines(6,4,8,9)"
   ]
  },
  {
   "cell_type": "markdown",
   "metadata": {},
   "source": [
    "Q10: A rectangle is represented by two opposite corners. Each corner is represented a two number (x, y). Given two rectangles, return True if they are touching or overlapping otherwise return false."
   ]
  },
  {
   "cell_type": "code",
   "execution_count": 16,
   "metadata": {},
   "outputs": [],
   "source": [
    "def overlappingrectangles(x1,y1,x2,y2,x3,y3,x4,y4):\n",
    "    fleft = min(x1, x2)\n",
    "    fright = max(x1, x2)\n",
    "    fbottom = min(y1, y2)\n",
    "    ftop = max(y1, y2)\n",
    "\n",
    "    sleft = min(x3, x4)\n",
    "    sright = max(x3, x4)\n",
    "    sbottom = min(y3, y4)\n",
    "    stop = max(y3, y4)\n",
    "    if fright < sleft or sright < fleft or ftop < sbottom or stop < fbottom:\n",
    "        return False\n",
    "    else:\n",
    "        return True"
   ]
  },
  {
   "cell_type": "code",
   "execution_count": 17,
   "metadata": {},
   "outputs": [
    {
     "data": {
      "text/plain": [
       "True"
      ]
     },
     "execution_count": 17,
     "metadata": {},
     "output_type": "execute_result"
    }
   ],
   "source": [
    "overlappingrectangles(0,0,2,2,1,1,3,3) # overlap"
   ]
  },
  {
   "cell_type": "code",
   "execution_count": 18,
   "metadata": {},
   "outputs": [
    {
     "data": {
      "text/plain": [
       "False"
      ]
     },
     "execution_count": 18,
     "metadata": {},
     "output_type": "execute_result"
    }
   ],
   "source": [
    "overlappingrectangles(0,0,1,1,2,2,3,3) # no overlap"
   ]
  },
  {
   "cell_type": "code",
   "execution_count": 19,
   "metadata": {},
   "outputs": [
    {
     "data": {
      "text/plain": [
       "True"
      ]
     },
     "execution_count": 19,
     "metadata": {},
     "output_type": "execute_result"
    }
   ],
   "source": [
    "overlappingrectangles(0,0,2,2,2,0,3,2) # touching edge"
   ]
  },
  {
   "cell_type": "code",
   "execution_count": 20,
   "metadata": {},
   "outputs": [
    {
     "data": {
      "text/plain": [
       "True"
      ]
     },
     "execution_count": 20,
     "metadata": {},
     "output_type": "execute_result"
    }
   ],
   "source": [
    "overlappingrectangles(3,0,0,4,1,1,2,2) # coordinates in reverse order"
   ]
  },
  {
   "cell_type": "markdown",
   "metadata": {},
   "source": [
    "Method 2 to Q10:"
   ]
  },
  {
   "cell_type": "code",
   "execution_count": 4,
   "metadata": {},
   "outputs": [],
   "source": [
    "def rectanglesoverlap(rect1,rect2):\n",
    "    (v1,v2),(w1,w2) = rect1 # opposite corners\n",
    "    (x1,x2),(y1,y2) = rect2 # opposite corners\n",
    "    if (max(v1,w1) < min(x1,y1) or max(x1,y1) < min(v1,w1) or max(v2,w2) < min(x2,y2) or max(x2,y2) < min(v2,w2)):\n",
    "        return False\n",
    "    else:\n",
    "        return True"
   ]
  },
  {
   "cell_type": "code",
   "execution_count": 5,
   "metadata": {},
   "outputs": [
    {
     "data": {
      "text/plain": [
       "False"
      ]
     },
     "execution_count": 5,
     "metadata": {},
     "output_type": "execute_result"
    }
   ],
   "source": [
    "rectanglesoverlap(((0,0),(1,1)),((2,2),(3,3)))"
   ]
  },
  {
   "cell_type": "code",
   "execution_count": 6,
   "metadata": {},
   "outputs": [
    {
     "data": {
      "text/plain": [
       "True"
      ]
     },
     "execution_count": 6,
     "metadata": {},
     "output_type": "execute_result"
    }
   ],
   "source": [
    "rectanglesoverlap(((3,0),(0,4)),((1,1),(2,2)))"
   ]
  },
  {
   "cell_type": "code",
   "execution_count": null,
   "metadata": {},
   "outputs": [],
   "source": []
  }
 ],
 "metadata": {
  "kernelspec": {
   "display_name": "Python3.10",
   "language": "python",
   "name": "python3.10"
  },
  "language_info": {
   "codemirror_mode": {
    "name": "ipython",
    "version": 3
   },
   "file_extension": ".py",
   "mimetype": "text/x-python",
   "name": "python",
   "nbconvert_exporter": "python",
   "pygments_lexer": "ipython3",
   "version": "3.10.14"
  },
  "toc": {
   "base_numbering": 1,
   "nav_menu": {},
   "number_sections": true,
   "sideBar": true,
   "skip_h1_title": false,
   "title_cell": "Table of Contents",
   "title_sidebar": "Contents",
   "toc_cell": false,
   "toc_position": {},
   "toc_section_display": true,
   "toc_window_display": false
  }
 },
 "nbformat": 4,
 "nbformat_minor": 2
}
