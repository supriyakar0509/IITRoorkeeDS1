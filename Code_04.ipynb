{
 "cells": [
  {
   "cell_type": "markdown",
   "metadata": {},
   "source": [
    "# Important questions"
   ]
  },
  {
   "cell_type": "markdown",
   "metadata": {},
   "source": [
    "Q1: Write your python code to calculate the cube of any number."
   ]
  },
  {
   "cell_type": "code",
   "execution_count": 3,
   "metadata": {},
   "outputs": [],
   "source": [
    "def mycube(x):\n",
    "    return x*x*x"
   ]
  },
  {
   "cell_type": "code",
   "execution_count": 4,
   "metadata": {},
   "outputs": [
    {
     "data": {
      "text/plain": [
       "8"
      ]
     },
     "execution_count": 4,
     "metadata": {},
     "output_type": "execute_result"
    }
   ],
   "source": [
    "mycube(2)"
   ]
  },
  {
   "cell_type": "code",
   "execution_count": 5,
   "metadata": {},
   "outputs": [
    {
     "data": {
      "text/plain": [
       "0.125"
      ]
     },
     "execution_count": 5,
     "metadata": {},
     "output_type": "execute_result"
    }
   ],
   "source": [
    "mycube(0.5)"
   ]
  },
  {
   "cell_type": "markdown",
   "metadata": {},
   "source": [
    "Q2: Write your python code to print the cube root of a number."
   ]
  },
  {
   "cell_type": "code",
   "execution_count": 9,
   "metadata": {},
   "outputs": [],
   "source": [
    "def my_cuberoot(number):\n",
    "    left = 0\n",
    "    right = number\n",
    "    while True:\n",
    "        print(f\"Choosing a number between {left} and {right}\")\n",
    "        guess = (left + right)/2\n",
    "        print(f\"Guessed: {guess}\")\n",
    "        result = guess*guess*guess\n",
    "        print(f\"Result: {result}\")\n",
    "        if abs(result - number) < 0.000001:\n",
    "            print(f\"We found the answer. The answer is : {guess}\")\n",
    "            return guess\n",
    "        if result > number:\n",
    "            right = guess\n",
    "            print(\"<<<\")\n",
    "        else:\n",
    "            left = guess\n",
    "            print(\">>>\")"
   ]
  },
  {
   "cell_type": "code",
   "execution_count": 10,
   "metadata": {},
   "outputs": [
    {
     "name": "stdout",
     "output_type": "stream",
     "text": [
      "Choosing a number between 0 and 10\n",
      "Guessed: 5.0\n",
      "Result: 125.0\n",
      "<<<\n",
      "Choosing a number between 0 and 5.0\n",
      "Guessed: 2.5\n",
      "Result: 15.625\n",
      "<<<\n",
      "Choosing a number between 0 and 2.5\n",
      "Guessed: 1.25\n",
      "Result: 1.953125\n",
      ">>>\n",
      "Choosing a number between 1.25 and 2.5\n",
      "Guessed: 1.875\n",
      "Result: 6.591796875\n",
      ">>>\n",
      "Choosing a number between 1.875 and 2.5\n",
      "Guessed: 2.1875\n",
      "Result: 10.467529296875\n",
      "<<<\n",
      "Choosing a number between 1.875 and 2.1875\n",
      "Guessed: 2.03125\n",
      "Result: 8.380889892578125\n",
      ">>>\n",
      "Choosing a number between 2.03125 and 2.1875\n",
      "Guessed: 2.109375\n",
      "Result: 9.38558578491211\n",
      ">>>\n",
      "Choosing a number between 2.109375 and 2.1875\n",
      "Guessed: 2.1484375\n",
      "Result: 9.916722774505615\n",
      ">>>\n",
      "Choosing a number between 2.1484375 and 2.1875\n",
      "Guessed: 2.16796875\n",
      "Result: 10.189644992351532\n",
      "<<<\n",
      "Choosing a number between 2.1484375 and 2.16796875\n",
      "Guessed: 2.158203125\n",
      "Result: 10.052566416561604\n",
      "<<<\n",
      "Choosing a number between 2.1484375 and 2.158203125\n",
      "Guessed: 2.1533203125\n",
      "Result: 9.984490578062832\n",
      ">>>\n",
      "Choosing a number between 2.1533203125 and 2.158203125\n",
      "Guessed: 2.15576171875\n",
      "Result: 10.018489949288778\n",
      "<<<\n",
      "Choosing a number between 2.1533203125 and 2.15576171875\n",
      "Guessed: 2.154541015625\n",
      "Result: 10.001480632126913\n",
      "<<<\n",
      "Choosing a number between 2.1533203125 and 2.154541015625\n",
      "Guessed: 2.1539306640625\n",
      "Result: 9.992983197889771\n",
      ">>>\n",
      "Choosing a number between 2.1539306640625 and 2.154541015625\n",
      "Guessed: 2.15423583984375\n",
      "Result: 9.997231313121802\n",
      ">>>\n",
      "Choosing a number between 2.15423583984375 and 2.154541015625\n",
      "Guessed: 2.154388427734375\n",
      "Result: 9.999355822142064\n",
      ">>>\n",
      "Choosing a number between 2.154388427734375 and 2.154541015625\n",
      "Guessed: 2.1544647216796875\n",
      "Result: 10.000418189512583\n",
      "<<<\n",
      "Choosing a number between 2.154388427734375 and 2.1544647216796875\n",
      "Guessed: 2.1544265747070312\n",
      "Result: 9.999886996422013\n",
      ">>>\n",
      "Choosing a number between 2.1544265747070312 and 2.1544647216796875\n",
      "Guessed: 2.1544456481933594\n",
      "Result: 10.00015259061595\n",
      "<<<\n",
      "Choosing a number between 2.1544265747070312 and 2.1544456481933594\n",
      "Guessed: 2.1544361114501953\n",
      "Result: 10.000019792931148\n",
      "<<<\n",
      "Choosing a number between 2.1544265747070312 and 2.1544361114501953\n",
      "Guessed: 2.1544313430786133\n",
      "Result: 9.999953394529623\n",
      ">>>\n",
      "Choosing a number between 2.1544313430786133 and 2.1544361114501953\n",
      "Guessed: 2.1544337272644043\n",
      "Result: 9.999986593693645\n",
      ">>>\n",
      "Choosing a number between 2.1544337272644043 and 2.1544361114501953\n",
      "Guessed: 2.1544349193573\n",
      "Result: 10.000003193303211\n",
      "<<<\n",
      "Choosing a number between 2.1544337272644043 and 2.1544349193573\n",
      "Guessed: 2.154434323310852\n",
      "Result: 9.999994893496133\n",
      ">>>\n",
      "Choosing a number between 2.154434323310852 and 2.1544349193573\n",
      "Guessed: 2.154434621334076\n",
      "Result: 9.999999043399098\n",
      "We found the answer. The answer is : 2.154434621334076\n"
     ]
    },
    {
     "data": {
      "text/plain": [
       "2.154434621334076"
      ]
     },
     "execution_count": 10,
     "metadata": {},
     "output_type": "execute_result"
    }
   ],
   "source": [
    "my_cuberoot(10)"
   ]
  },
  {
   "cell_type": "code",
   "execution_count": 12,
   "metadata": {},
   "outputs": [
    {
     "name": "stdout",
     "output_type": "stream",
     "text": [
      "2.154434690031884\n"
     ]
    }
   ],
   "source": [
    "cube_root = 10**(1/3)\n",
    "print(cube_root)"
   ]
  },
  {
   "cell_type": "markdown",
   "metadata": {},
   "source": [
    "Second method to calculate the cube root of a number."
   ]
  },
  {
   "cell_type": "code",
   "execution_count": 13,
   "metadata": {},
   "outputs": [],
   "source": [
    "def cuberoot(number):\n",
    "    left = 0\n",
    "    right = number\n",
    "    while True:\n",
    "        guess = (left + right)/2\n",
    "        result = guess**3\n",
    "        if abs(result - number) < 0.000001:\n",
    "            return guess\n",
    "        if result > number:\n",
    "            right = guess\n",
    "        else:\n",
    "            left = guess"
   ]
  },
  {
   "cell_type": "code",
   "execution_count": 14,
   "metadata": {},
   "outputs": [
    {
     "data": {
      "text/plain": [
       "3.5568933002650738"
      ]
     },
     "execution_count": 14,
     "metadata": {},
     "output_type": "execute_result"
    }
   ],
   "source": [
    "cuberoot(45)"
   ]
  },
  {
   "cell_type": "markdown",
   "metadata": {},
   "source": [
    "To find the cube root of a number using recursion."
   ]
  },
  {
   "cell_type": "code",
   "execution_count": 17,
   "metadata": {},
   "outputs": [],
   "source": [
    "def my_cubert(l, r, num):\n",
    "    print(f\"Choosing a number between {l} and {r}\")\n",
    "    guess = (l + r)/2\n",
    "    print(f\"Guessed: {guess}\")\n",
    "    result = guess*guess*guess\n",
    "    print(f\"Result: {result}\")\n",
    "    if abs(result - num) < 0.000001:\n",
    "        print(f\"We found the answer. The answer is : {guess}\")\n",
    "        return guess\n",
    "    if result > num:\n",
    "        r = guess\n",
    "        print(\"<<<\")\n",
    "    else:\n",
    "        l = guess\n",
    "        print(\">>>\")\n",
    "    my_cubert(l, r, num)"
   ]
  },
  {
   "cell_type": "code",
   "execution_count": 18,
   "metadata": {},
   "outputs": [
    {
     "name": "stdout",
     "output_type": "stream",
     "text": [
      "Choosing a number between 0 and 15\n",
      "Guessed: 7.5\n",
      "Result: 421.875\n",
      "<<<\n",
      "Choosing a number between 0 and 7.5\n",
      "Guessed: 3.75\n",
      "Result: 52.734375\n",
      "<<<\n",
      "Choosing a number between 0 and 3.75\n",
      "Guessed: 1.875\n",
      "Result: 6.591796875\n",
      ">>>\n",
      "Choosing a number between 1.875 and 3.75\n",
      "Guessed: 2.8125\n",
      "Result: 22.247314453125\n",
      "<<<\n",
      "Choosing a number between 1.875 and 2.8125\n",
      "Guessed: 2.34375\n",
      "Result: 12.874603271484375\n",
      ">>>\n",
      "Choosing a number between 2.34375 and 2.8125\n",
      "Guessed: 2.578125\n",
      "Result: 17.136096954345703\n",
      "<<<\n",
      "Choosing a number between 2.34375 and 2.578125\n",
      "Guessed: 2.4609375\n",
      "Result: 14.9039626121521\n",
      ">>>\n",
      "Choosing a number between 2.4609375 and 2.578125\n",
      "Guessed: 2.51953125\n",
      "Result: 15.994079411029816\n",
      "<<<\n",
      "Choosing a number between 2.4609375 and 2.51953125\n",
      "Guessed: 2.490234375\n",
      "Result: 15.44260885566473\n",
      "<<<\n",
      "Choosing a number between 2.4609375 and 2.490234375\n",
      "Guessed: 2.4755859375\n",
      "Result: 15.171692124567926\n",
      "<<<\n",
      "Choosing a number between 2.4609375 and 2.4755859375\n",
      "Guessed: 2.46826171875\n",
      "Result: 15.037430144730024\n",
      "<<<\n",
      "Choosing a number between 2.4609375 and 2.46826171875\n",
      "Guessed: 2.464599609375\n",
      "Result: 14.970597219871706\n",
      ">>>\n",
      "Choosing a number between 2.464599609375 and 2.46826171875\n",
      "Guessed: 2.4664306640625\n",
      "Result: 15.003988874241259\n",
      "<<<\n",
      "Choosing a number between 2.464599609375 and 2.4664306640625\n",
      "Guessed: 2.46551513671875\n",
      "Result: 14.98728684734374\n",
      ">>>\n",
      "Choosing a number between 2.46551513671875 and 2.4664306640625\n",
      "Guessed: 2.465972900390625\n",
      "Result: 14.995636310576543\n",
      ">>>\n",
      "Choosing a number between 2.465972900390625 and 2.4664306640625\n",
      "Guessed: 2.4662017822265625\n",
      "Result: 14.99981220481894\n",
      ">>>\n",
      "Choosing a number between 2.4662017822265625 and 2.4664306640625\n",
      "Guessed: 2.4663162231445312\n",
      "Result: 15.001900442628113\n",
      "<<<\n",
      "Choosing a number between 2.4662017822265625 and 2.4663162231445312\n",
      "Guessed: 2.466259002685547\n",
      "Result: 15.000856299498592\n",
      "<<<\n",
      "Choosing a number between 2.4662017822265625 and 2.466259002685547\n",
      "Guessed: 2.4662303924560547\n",
      "Result: 15.000334246102604\n",
      "<<<\n",
      "Choosing a number between 2.4662017822265625 and 2.4662303924560547\n",
      "Guessed: 2.4662160873413086\n",
      "Result: 15.00007322394674\n",
      "<<<\n",
      "Choosing a number between 2.4662017822265625 and 2.4662160873413086\n",
      "Guessed: 2.4662089347839355\n",
      "Result: 14.999942714004334\n",
      ">>>\n",
      "Choosing a number between 2.4662089347839355 and 2.4662160873413086\n",
      "Guessed: 2.466212511062622\n",
      "Result: 15.00000796888091\n",
      "<<<\n",
      "Choosing a number between 2.4662089347839355 and 2.466212511062622\n",
      "Guessed: 2.466210722923279\n",
      "Result: 14.999975341418965\n",
      ">>>\n",
      "Choosing a number between 2.466210722923279 and 2.466212511062622\n",
      "Guessed: 2.4662116169929504\n",
      "Result: 14.999991655144024\n",
      ">>>\n",
      "Choosing a number between 2.4662116169929504 and 2.466212511062622\n",
      "Guessed: 2.4662120640277863\n",
      "Result: 14.999999812010987\n",
      "We found the answer. The answer is : 2.4662120640277863\n"
     ]
    }
   ],
   "source": [
    "num = 15\n",
    "l = 0\n",
    "r = num\n",
    "my_cubert(0, 15, 15)"
   ]
  },
  {
   "cell_type": "code",
   "execution_count": 39,
   "metadata": {},
   "outputs": [
    {
     "data": {
      "text/plain": [
       "int"
      ]
     },
     "execution_count": 39,
     "metadata": {},
     "output_type": "execute_result"
    }
   ],
   "source": [
    "type(num)"
   ]
  },
  {
   "cell_type": "markdown",
   "metadata": {},
   "source": [
    "# Strings"
   ]
  },
  {
   "cell_type": "code",
   "execution_count": 19,
   "metadata": {},
   "outputs": [],
   "source": [
    "name = 'Supriya'"
   ]
  },
  {
   "cell_type": "code",
   "execution_count": 20,
   "metadata": {},
   "outputs": [
    {
     "data": {
      "text/plain": [
       "'Supriya'"
      ]
     },
     "execution_count": 20,
     "metadata": {},
     "output_type": "execute_result"
    }
   ],
   "source": [
    "name"
   ]
  },
  {
   "cell_type": "code",
   "execution_count": 21,
   "metadata": {},
   "outputs": [
    {
     "data": {
      "text/plain": [
       "'S'"
      ]
     },
     "execution_count": 21,
     "metadata": {},
     "output_type": "execute_result"
    }
   ],
   "source": [
    "name[0]"
   ]
  },
  {
   "cell_type": "code",
   "execution_count": 22,
   "metadata": {},
   "outputs": [
    {
     "data": {
      "text/plain": [
       "'u'"
      ]
     },
     "execution_count": 22,
     "metadata": {},
     "output_type": "execute_result"
    }
   ],
   "source": [
    "name[1]"
   ]
  },
  {
   "cell_type": "code",
   "execution_count": 23,
   "metadata": {},
   "outputs": [
    {
     "data": {
      "text/plain": [
       "'a'"
      ]
     },
     "execution_count": 23,
     "metadata": {},
     "output_type": "execute_result"
    }
   ],
   "source": [
    "name[6]"
   ]
  },
  {
   "cell_type": "code",
   "execution_count": 24,
   "metadata": {},
   "outputs": [
    {
     "data": {
      "text/plain": [
       "7"
      ]
     },
     "execution_count": 24,
     "metadata": {},
     "output_type": "execute_result"
    }
   ],
   "source": [
    "len(name)"
   ]
  },
  {
   "cell_type": "code",
   "execution_count": 25,
   "metadata": {},
   "outputs": [
    {
     "data": {
      "text/plain": [
       "'Sup'"
      ]
     },
     "execution_count": 25,
     "metadata": {},
     "output_type": "execute_result"
    }
   ],
   "source": [
    "name[:3]"
   ]
  },
  {
   "cell_type": "code",
   "execution_count": 26,
   "metadata": {},
   "outputs": [
    {
     "data": {
      "text/plain": [
       "'pri'"
      ]
     },
     "execution_count": 26,
     "metadata": {},
     "output_type": "execute_result"
    }
   ],
   "source": [
    "name[2:5]"
   ]
  },
  {
   "cell_type": "code",
   "execution_count": 27,
   "metadata": {},
   "outputs": [
    {
     "data": {
      "text/plain": [
       "('a', 'a')"
      ]
     },
     "execution_count": 27,
     "metadata": {},
     "output_type": "execute_result"
    }
   ],
   "source": [
    "name[-1], name[7-1]"
   ]
  },
  {
   "cell_type": "code",
   "execution_count": 28,
   "metadata": {},
   "outputs": [
    {
     "data": {
      "text/plain": [
       "('y', 'y')"
      ]
     },
     "execution_count": 28,
     "metadata": {},
     "output_type": "execute_result"
    }
   ],
   "source": [
    "name[-2], name[7-2]"
   ]
  },
  {
   "cell_type": "code",
   "execution_count": 36,
   "metadata": {},
   "outputs": [
    {
     "data": {
      "text/plain": [
       "str"
      ]
     },
     "execution_count": 36,
     "metadata": {},
     "output_type": "execute_result"
    }
   ],
   "source": [
    "type(name)"
   ]
  },
  {
   "cell_type": "markdown",
   "metadata": {},
   "source": [
    "# Lists / Arrays"
   ]
  },
  {
   "cell_type": "code",
   "execution_count": 29,
   "metadata": {},
   "outputs": [],
   "source": [
    "numbers = [1,2,3,4]"
   ]
  },
  {
   "cell_type": "code",
   "execution_count": 30,
   "metadata": {},
   "outputs": [
    {
     "data": {
      "text/plain": [
       "[1, 2, 3, 4]"
      ]
     },
     "execution_count": 30,
     "metadata": {},
     "output_type": "execute_result"
    }
   ],
   "source": [
    "numbers"
   ]
  },
  {
   "cell_type": "code",
   "execution_count": 31,
   "metadata": {},
   "outputs": [
    {
     "data": {
      "text/plain": [
       "1"
      ]
     },
     "execution_count": 31,
     "metadata": {},
     "output_type": "execute_result"
    }
   ],
   "source": [
    "numbers[0]"
   ]
  },
  {
   "cell_type": "code",
   "execution_count": 32,
   "metadata": {},
   "outputs": [
    {
     "data": {
      "text/plain": [
       "2"
      ]
     },
     "execution_count": 32,
     "metadata": {},
     "output_type": "execute_result"
    }
   ],
   "source": [
    "numbers[1]"
   ]
  },
  {
   "cell_type": "code",
   "execution_count": 33,
   "metadata": {},
   "outputs": [
    {
     "data": {
      "text/plain": [
       "3"
      ]
     },
     "execution_count": 33,
     "metadata": {},
     "output_type": "execute_result"
    }
   ],
   "source": [
    "numbers[2]"
   ]
  },
  {
   "cell_type": "code",
   "execution_count": 34,
   "metadata": {},
   "outputs": [
    {
     "data": {
      "text/plain": [
       "4"
      ]
     },
     "execution_count": 34,
     "metadata": {},
     "output_type": "execute_result"
    }
   ],
   "source": [
    "numbers[3]"
   ]
  },
  {
   "cell_type": "markdown",
   "metadata": {},
   "source": [
    "numbers[4] will show error because the counting starts from 0 and goes upto 3."
   ]
  },
  {
   "cell_type": "code",
   "execution_count": 35,
   "metadata": {},
   "outputs": [
    {
     "data": {
      "text/plain": [
       "list"
      ]
     },
     "execution_count": 35,
     "metadata": {},
     "output_type": "execute_result"
    }
   ],
   "source": [
    "type(numbers)"
   ]
  },
  {
   "cell_type": "code",
   "execution_count": 40,
   "metadata": {},
   "outputs": [
    {
     "data": {
      "text/plain": [
       "float"
      ]
     },
     "execution_count": 40,
     "metadata": {},
     "output_type": "execute_result"
    }
   ],
   "source": [
    "type(4.5)"
   ]
  },
  {
   "cell_type": "code",
   "execution_count": 41,
   "metadata": {},
   "outputs": [],
   "source": [
    "t = (2,3)"
   ]
  },
  {
   "cell_type": "code",
   "execution_count": 42,
   "metadata": {},
   "outputs": [
    {
     "data": {
      "text/plain": [
       "2"
      ]
     },
     "execution_count": 42,
     "metadata": {},
     "output_type": "execute_result"
    }
   ],
   "source": [
    "t[0]"
   ]
  },
  {
   "cell_type": "code",
   "execution_count": 43,
   "metadata": {},
   "outputs": [
    {
     "data": {
      "text/plain": [
       "3"
      ]
     },
     "execution_count": 43,
     "metadata": {},
     "output_type": "execute_result"
    }
   ],
   "source": [
    "t[1]"
   ]
  },
  {
   "cell_type": "code",
   "execution_count": 44,
   "metadata": {},
   "outputs": [
    {
     "data": {
      "text/plain": [
       "(2, 3)"
      ]
     },
     "execution_count": 44,
     "metadata": {},
     "output_type": "execute_result"
    }
   ],
   "source": [
    "t"
   ]
  },
  {
   "cell_type": "markdown",
   "metadata": {},
   "source": [
    "Assigning t[0] = 4 will throw error as 'tuple' does not support item assignment."
   ]
  },
  {
   "cell_type": "markdown",
   "metadata": {},
   "source": [
    "But item assignment is allowed in list."
   ]
  },
  {
   "cell_type": "code",
   "execution_count": 45,
   "metadata": {},
   "outputs": [
    {
     "data": {
      "text/plain": [
       "[100, 2, 3, 4]"
      ]
     },
     "execution_count": 45,
     "metadata": {},
     "output_type": "execute_result"
    }
   ],
   "source": [
    "numbers[0] = 100\n",
    "numbers"
   ]
  },
  {
   "cell_type": "code",
   "execution_count": 47,
   "metadata": {},
   "outputs": [
    {
     "name": "stdout",
     "output_type": "stream",
     "text": [
      "10 <class 'int'>\n",
      "Supriya <class 'str'>\n",
      "4.5 <class 'float'>\n",
      "True <class 'bool'>\n",
      "(4, 5) <class 'tuple'>\n",
      "[5, 6, 6] <class 'list'>\n"
     ]
    }
   ],
   "source": [
    "items = [10, \"Supriya\", 4.5, True, (4,5), [5,6,6]]\n",
    "for thing in items:\n",
    "    print(thing, type(thing))"
   ]
  },
  {
   "cell_type": "code",
   "execution_count": 49,
   "metadata": {},
   "outputs": [
    {
     "name": "stdout",
     "output_type": "stream",
     "text": [
      "0 10 <class 'int'>\n",
      "1 Supriya <class 'str'>\n",
      "2 4.5 <class 'float'>\n",
      "3 True <class 'bool'>\n",
      "4 (4, 5) <class 'tuple'>\n",
      "5 [5, 6, 6] <class 'list'>\n"
     ]
    }
   ],
   "source": [
    "position = 0\n",
    "while position < len(items):\n",
    "    thing = items[position]\n",
    "    print(position, thing, type(thing))\n",
    "    position = position + 1"
   ]
  },
  {
   "cell_type": "code",
   "execution_count": 50,
   "metadata": {},
   "outputs": [
    {
     "name": "stdout",
     "output_type": "stream",
     "text": [
      "0\n",
      "1\n",
      "2\n",
      "3\n",
      "4\n",
      "5\n",
      "6\n",
      "7\n",
      "8\n",
      "9\n"
     ]
    }
   ],
   "source": [
    "for i in range(10):\n",
    "    print(i)"
   ]
  },
  {
   "cell_type": "code",
   "execution_count": 51,
   "metadata": {},
   "outputs": [
    {
     "name": "stdout",
     "output_type": "stream",
     "text": [
      "Help on class range in module builtins:\n",
      "\n",
      "class range(object)\n",
      " |  range(stop) -> range object\n",
      " |  range(start, stop[, step]) -> range object\n",
      " |\n",
      " |  Return an object that produces a sequence of integers from start (inclusive)\n",
      " |  to stop (exclusive) by step.  range(i, j) produces i, i+1, i+2, ..., j-1.\n",
      " |  start defaults to 0, and stop is omitted!  range(4) produces 0, 1, 2, 3.\n",
      " |  These are exactly the valid indices for a list of 4 elements.\n",
      " |  When step is given, it specifies the increment (or decrement).\n",
      " |\n",
      " |  Methods defined here:\n",
      " |\n",
      " |  __bool__(self, /)\n",
      " |      True if self else False\n",
      " |\n",
      " |  __contains__(self, key, /)\n",
      " |      Return bool(key in self).\n",
      " |\n",
      " |  __eq__(self, value, /)\n",
      " |      Return self==value.\n",
      " |\n",
      " |  __ge__(self, value, /)\n",
      " |      Return self>=value.\n",
      " |\n",
      " |  __getattribute__(self, name, /)\n",
      " |      Return getattr(self, name).\n",
      " |\n",
      " |  __getitem__(self, key, /)\n",
      " |      Return self[key].\n",
      " |\n",
      " |  __gt__(self, value, /)\n",
      " |      Return self>value.\n",
      " |\n",
      " |  __hash__(self, /)\n",
      " |      Return hash(self).\n",
      " |\n",
      " |  __iter__(self, /)\n",
      " |      Implement iter(self).\n",
      " |\n",
      " |  __le__(self, value, /)\n",
      " |      Return self<=value.\n",
      " |\n",
      " |  __len__(self, /)\n",
      " |      Return len(self).\n",
      " |\n",
      " |  __lt__(self, value, /)\n",
      " |      Return self<value.\n",
      " |\n",
      " |  __ne__(self, value, /)\n",
      " |      Return self!=value.\n",
      " |\n",
      " |  __reduce__(self, /)\n",
      " |      Helper for pickle.\n",
      " |\n",
      " |  __repr__(self, /)\n",
      " |      Return repr(self).\n",
      " |\n",
      " |  __reversed__(self, /)\n",
      " |      Return a reverse iterator.\n",
      " |\n",
      " |  count(self, object, /)\n",
      " |      rangeobject.count(value) -> integer -- return number of occurrences of value\n",
      " |\n",
      " |  index(self, object, /)\n",
      " |      rangeobject.index(value) -> integer -- return index of value.\n",
      " |      Raise ValueError if the value is not present.\n",
      " |\n",
      " |  ----------------------------------------------------------------------\n",
      " |  Static methods defined here:\n",
      " |\n",
      " |  __new__(*args, **kwargs)\n",
      " |      Create and return a new object.  See help(type) for accurate signature.\n",
      " |\n",
      " |  ----------------------------------------------------------------------\n",
      " |  Data descriptors defined here:\n",
      " |\n",
      " |  start\n",
      " |\n",
      " |  step\n",
      " |\n",
      " |  stop\n",
      "\n"
     ]
    }
   ],
   "source": [
    "help(range)"
   ]
  },
  {
   "cell_type": "code",
   "execution_count": null,
   "metadata": {},
   "outputs": [],
   "source": []
  }
 ],
 "metadata": {
  "kernelspec": {
   "display_name": "Python 3",
   "language": "python",
   "name": "python3"
  },
  "language_info": {
   "codemirror_mode": {
    "name": "ipython",
    "version": 3
   },
   "file_extension": ".py",
   "mimetype": "text/x-python",
   "name": "python",
   "nbconvert_exporter": "python",
   "pygments_lexer": "ipython3",
   "version": "3.6.8"
  },
  "toc": {
   "base_numbering": 1,
   "nav_menu": {},
   "number_sections": true,
   "sideBar": true,
   "skip_h1_title": false,
   "title_cell": "Table of Contents",
   "title_sidebar": "Contents",
   "toc_cell": false,
   "toc_position": {},
   "toc_section_display": true,
   "toc_window_display": false
  }
 },
 "nbformat": 4,
 "nbformat_minor": 5
}
