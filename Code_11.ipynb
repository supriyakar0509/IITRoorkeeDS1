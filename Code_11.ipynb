{
 "cells": [
  {
   "cell_type": "markdown",
   "metadata": {},
   "source": [
    "# HCF and Common Factors:"
   ]
  },
  {
   "cell_type": "markdown",
   "metadata": {},
   "source": [
    "**Q1: Create a recursion based solution to HCF using Euclid's method.**\n",
    "\n",
    "See https://en.wikipedia.org/wiki/Euclidean_algorithm"
   ]
  },
  {
   "cell_type": "code",
   "execution_count": 1,
   "metadata": {},
   "outputs": [],
   "source": [
    "def hcf(n1, n2):\n",
    "    if n1 > n2:\n",
    "        n1, n2 = n2, n1\n",
    "    rem = n2 % n1\n",
    "    if rem == 0:\n",
    "        return n1\n",
    "    else:\n",
    "        return hcf(rem, n1)"
   ]
  },
  {
   "cell_type": "code",
   "execution_count": 2,
   "metadata": {},
   "outputs": [
    {
     "data": {
      "text/plain": [
       "1"
      ]
     },
     "execution_count": 2,
     "metadata": {},
     "output_type": "execute_result"
    }
   ],
   "source": [
    "hcf(35122, 67250101)"
   ]
  },
  {
   "cell_type": "code",
   "execution_count": 3,
   "metadata": {},
   "outputs": [
    {
     "data": {
      "text/plain": [
       "12"
      ]
     },
     "execution_count": 3,
     "metadata": {},
     "output_type": "execute_result"
    }
   ],
   "source": [
    "hcf(12, 36)"
   ]
  },
  {
   "cell_type": "code",
   "execution_count": 5,
   "metadata": {},
   "outputs": [
    {
     "data": {
      "text/plain": [
       "14"
      ]
     },
     "execution_count": 5,
     "metadata": {},
     "output_type": "execute_result"
    }
   ],
   "source": [
    "hcf(28, 14)"
   ]
  },
  {
   "cell_type": "markdown",
   "metadata": {},
   "source": [
    "**Q2: Write method to find all prime factors of a number which should be in non-decreasing order:**\n",
    "\n",
    "    def find_factors(num):\n",
    "        # Your code\n",
    "        return factors\n",
    "        \n",
    " **Example Test cases:**\n",
    "    \n",
    "    > find_factors(490000)\n",
    "    [2, 2, 2, 2, 5, 5, 5, 5, 7, 7]\n",
    "    \n",
    "    > find_factors(820387312371)\n",
    "    [3, 3, 3, 11, 2762246843]"
   ]
  },
  {
   "cell_type": "code",
   "execution_count": 6,
   "metadata": {},
   "outputs": [],
   "source": [
    "def find_factors(num):\n",
    "    for i in range(2, num):\n",
    "        if num % i == 0:\n",
    "            new_num = num//i\n",
    "            new_factors = find_factors(new_num)\n",
    "            return [i] + new_factors\n",
    "    return [num]"
   ]
  },
  {
   "cell_type": "code",
   "execution_count": 7,
   "metadata": {},
   "outputs": [
    {
     "data": {
      "text/plain": [
       "[5, 7]"
      ]
     },
     "execution_count": 7,
     "metadata": {},
     "output_type": "execute_result"
    }
   ],
   "source": [
    "find_factors(35)"
   ]
  },
  {
   "cell_type": "code",
   "execution_count": 8,
   "metadata": {},
   "outputs": [
    {
     "data": {
      "text/plain": [
       "[2, 2, 2, 2, 5, 5, 5, 5, 7, 7]"
      ]
     },
     "execution_count": 8,
     "metadata": {},
     "output_type": "execute_result"
    }
   ],
   "source": [
    "find_factors(490000)"
   ]
  },
  {
   "cell_type": "code",
   "execution_count": 9,
   "metadata": {},
   "outputs": [
    {
     "ename": "KeyboardInterrupt",
     "evalue": "",
     "output_type": "error",
     "traceback": [
      "\u001b[0;31m---------------------------------------------------------------------------\u001b[0m",
      "\u001b[0;31mKeyboardInterrupt\u001b[0m                         Traceback (most recent call last)",
      "Cell \u001b[0;32mIn[9], line 1\u001b[0m\n\u001b[0;32m----> 1\u001b[0m \u001b[43mfind_factors\u001b[49m\u001b[43m(\u001b[49m\u001b[38;5;241;43m820387312371\u001b[39;49m\u001b[43m)\u001b[49m\n",
      "Cell \u001b[0;32mIn[6], line 5\u001b[0m, in \u001b[0;36mfind_factors\u001b[0;34m(num)\u001b[0m\n\u001b[1;32m      3\u001b[0m     \u001b[38;5;28;01mif\u001b[39;00m num \u001b[38;5;241m%\u001b[39m i \u001b[38;5;241m==\u001b[39m \u001b[38;5;241m0\u001b[39m:\n\u001b[1;32m      4\u001b[0m         new_num \u001b[38;5;241m=\u001b[39m num\u001b[38;5;241m/\u001b[39m\u001b[38;5;241m/\u001b[39mi\n\u001b[0;32m----> 5\u001b[0m         new_factors \u001b[38;5;241m=\u001b[39m \u001b[43mfind_factors\u001b[49m\u001b[43m(\u001b[49m\u001b[43mnew_num\u001b[49m\u001b[43m)\u001b[49m\n\u001b[1;32m      6\u001b[0m         \u001b[38;5;28;01mreturn\u001b[39;00m [i] \u001b[38;5;241m+\u001b[39m new_factors\n\u001b[1;32m      7\u001b[0m \u001b[38;5;28;01mreturn\u001b[39;00m [num]\n",
      "Cell \u001b[0;32mIn[6], line 5\u001b[0m, in \u001b[0;36mfind_factors\u001b[0;34m(num)\u001b[0m\n\u001b[1;32m      3\u001b[0m     \u001b[38;5;28;01mif\u001b[39;00m num \u001b[38;5;241m%\u001b[39m i \u001b[38;5;241m==\u001b[39m \u001b[38;5;241m0\u001b[39m:\n\u001b[1;32m      4\u001b[0m         new_num \u001b[38;5;241m=\u001b[39m num\u001b[38;5;241m/\u001b[39m\u001b[38;5;241m/\u001b[39mi\n\u001b[0;32m----> 5\u001b[0m         new_factors \u001b[38;5;241m=\u001b[39m \u001b[43mfind_factors\u001b[49m\u001b[43m(\u001b[49m\u001b[43mnew_num\u001b[49m\u001b[43m)\u001b[49m\n\u001b[1;32m      6\u001b[0m         \u001b[38;5;28;01mreturn\u001b[39;00m [i] \u001b[38;5;241m+\u001b[39m new_factors\n\u001b[1;32m      7\u001b[0m \u001b[38;5;28;01mreturn\u001b[39;00m [num]\n",
      "    \u001b[0;31m[... skipping similar frames: find_factors at line 5 (1 times)]\u001b[0m\n",
      "Cell \u001b[0;32mIn[6], line 5\u001b[0m, in \u001b[0;36mfind_factors\u001b[0;34m(num)\u001b[0m\n\u001b[1;32m      3\u001b[0m     \u001b[38;5;28;01mif\u001b[39;00m num \u001b[38;5;241m%\u001b[39m i \u001b[38;5;241m==\u001b[39m \u001b[38;5;241m0\u001b[39m:\n\u001b[1;32m      4\u001b[0m         new_num \u001b[38;5;241m=\u001b[39m num\u001b[38;5;241m/\u001b[39m\u001b[38;5;241m/\u001b[39mi\n\u001b[0;32m----> 5\u001b[0m         new_factors \u001b[38;5;241m=\u001b[39m \u001b[43mfind_factors\u001b[49m\u001b[43m(\u001b[49m\u001b[43mnew_num\u001b[49m\u001b[43m)\u001b[49m\n\u001b[1;32m      6\u001b[0m         \u001b[38;5;28;01mreturn\u001b[39;00m [i] \u001b[38;5;241m+\u001b[39m new_factors\n\u001b[1;32m      7\u001b[0m \u001b[38;5;28;01mreturn\u001b[39;00m [num]\n",
      "Cell \u001b[0;32mIn[6], line 3\u001b[0m, in \u001b[0;36mfind_factors\u001b[0;34m(num)\u001b[0m\n\u001b[1;32m      1\u001b[0m \u001b[38;5;28;01mdef\u001b[39;00m\u001b[38;5;250m \u001b[39m\u001b[38;5;21mfind_factors\u001b[39m(num):\n\u001b[1;32m      2\u001b[0m     \u001b[38;5;28;01mfor\u001b[39;00m i \u001b[38;5;129;01min\u001b[39;00m \u001b[38;5;28mrange\u001b[39m(\u001b[38;5;241m2\u001b[39m, num):\n\u001b[0;32m----> 3\u001b[0m         \u001b[38;5;28;01mif\u001b[39;00m num \u001b[38;5;241m%\u001b[39m i \u001b[38;5;241m==\u001b[39m \u001b[38;5;241m0\u001b[39m:\n\u001b[1;32m      4\u001b[0m             new_num \u001b[38;5;241m=\u001b[39m num\u001b[38;5;241m/\u001b[39m\u001b[38;5;241m/\u001b[39mi\n\u001b[1;32m      5\u001b[0m             new_factors \u001b[38;5;241m=\u001b[39m find_factors(new_num)\n",
      "\u001b[0;31mKeyboardInterrupt\u001b[0m: "
     ]
    }
   ],
   "source": [
    "find_factors(820387312371)"
   ]
  },
  {
   "cell_type": "markdown",
   "metadata": {},
   "source": [
    "Thus, we see how the above code to find factors does not work for large numbers. Thus, the above code is slow.\n",
    "\n",
    "Now, we write a faster code to find factors of a number which executes faster as well as works fine for large numbers."
   ]
  },
  {
   "cell_type": "code",
   "execution_count": 10,
   "metadata": {},
   "outputs": [],
   "source": [
    "from math import sqrt"
   ]
  },
  {
   "cell_type": "code",
   "execution_count": 11,
   "metadata": {},
   "outputs": [],
   "source": [
    "def find_factors_fast(num):\n",
    "    factors = []\n",
    "    while True:\n",
    "        found = False\n",
    "        for i in range(2, int(sqrt(num)) + 1):\n",
    "            if num % i == 0:\n",
    "                factors.append(i)\n",
    "                num = num//i\n",
    "                found = True\n",
    "                break\n",
    "        if not found:\n",
    "            factors.append(num)\n",
    "            break\n",
    "    return factors"
   ]
  },
  {
   "cell_type": "code",
   "execution_count": 12,
   "metadata": {},
   "outputs": [
    {
     "data": {
      "text/plain": [
       "[3, 3, 3, 11, 2762246843]"
      ]
     },
     "execution_count": 12,
     "metadata": {},
     "output_type": "execute_result"
    }
   ],
   "source": [
    "find_factors_fast(820387312371)"
   ]
  },
  {
   "cell_type": "markdown",
   "metadata": {},
   "source": [
    "Yet another faster method:"
   ]
  },
  {
   "cell_type": "code",
   "execution_count": 13,
   "metadata": {},
   "outputs": [],
   "source": [
    "def find_factorsfast(num):\n",
    "    for i in range(2, int(sqrt(num)) + 1):\n",
    "        if num % i == 0:\n",
    "            new_num = num//i\n",
    "            new_factors = find_factorsfast(new_num)\n",
    "            return [i] + new_factors\n",
    "    return [num]"
   ]
  },
  {
   "cell_type": "code",
   "execution_count": 14,
   "metadata": {},
   "outputs": [
    {
     "data": {
      "text/plain": [
       "[3, 3, 3, 11, 2762246843]"
      ]
     },
     "execution_count": 14,
     "metadata": {},
     "output_type": "execute_result"
    }
   ],
   "source": [
    "find_factorsfast(820387312371)"
   ]
  },
  {
   "cell_type": "markdown",
   "metadata": {},
   "source": [
    "**Q3:  Given two lists of numbers in non-decreasing order, find the common numbers.**\n",
    "\n",
    "     def commons(num1, num2): #Merge Sort\n",
    "         # Your code\n",
    "         return commons\n",
    "\n",
    "> commons([1,2,3], [1,3])\n",
    "   \n",
    "      [1, 3]\n",
    "\n",
    "> commons([1,2, 2, 2, 2], [1,2,2,2, 5, 6])\n",
    "    \n",
    "     [1, 2, 2, 2]"
   ]
  },
  {
   "cell_type": "code",
   "execution_count": 15,
   "metadata": {},
   "outputs": [],
   "source": [
    "def commonnumbers(list1, list2):\n",
    "    count1 = {}\n",
    "    count2 = {}\n",
    "    \n",
    "    # Count occurrences in list1\n",
    "    for num in list1:\n",
    "        if num in count1:\n",
    "            count1[num] += 1\n",
    "        else:\n",
    "            count1[num] = 1\n",
    "        \n",
    "    # Count occurrences in list2\n",
    "    for num in list2:\n",
    "        if num in count2:\n",
    "            count2[num] += 1\n",
    "        else:\n",
    "            count2[num] = 1\n",
    "        \n",
    "    result = []\n",
    "    for num in count1:\n",
    "        if num in count2:\n",
    "            min_count = min(count1[num], count2[num])\n",
    "            result.extend([num] * min_count)\n",
    "    \n",
    "    return result"
   ]
  },
  {
   "cell_type": "code",
   "execution_count": 16,
   "metadata": {},
   "outputs": [
    {
     "data": {
      "text/plain": [
       "[1, 3]"
      ]
     },
     "execution_count": 16,
     "metadata": {},
     "output_type": "execute_result"
    }
   ],
   "source": [
    "commonnumbers([1,2,3], [1,3,4])"
   ]
  },
  {
   "cell_type": "code",
   "execution_count": 17,
   "metadata": {},
   "outputs": [
    {
     "data": {
      "text/plain": [
       "[1, 3, 5]"
      ]
     },
     "execution_count": 17,
     "metadata": {},
     "output_type": "execute_result"
    }
   ],
   "source": [
    "commonnumbers([1,2,3,5,8], [1,3,4,5,9])"
   ]
  },
  {
   "cell_type": "code",
   "execution_count": 18,
   "metadata": {},
   "outputs": [
    {
     "data": {
      "text/plain": [
       "[1, 2, 2, 2]"
      ]
     },
     "execution_count": 18,
     "metadata": {},
     "output_type": "execute_result"
    }
   ],
   "source": [
    "commonnumbers([1,2,2,2,2], [1,2,2,2,5,6])"
   ]
  },
  {
   "cell_type": "markdown",
   "metadata": {},
   "source": [
    "**Q4: You have a list of numbers which are sorted. Find the distinct numbers in-place without using any extra memory.**\n",
    "\n",
    "    [2, 2, 2, 2, 5, 5, 5, 5, 7, 7] -> [2,5,7]"
   ]
  },
  {
   "cell_type": "code",
   "execution_count": 24,
   "metadata": {},
   "outputs": [],
   "source": [
    "def distinctnumbers(array):\n",
    "    if not array:\n",
    "        return 0  # Empty list\n",
    "\n",
    "    write_index = 1  # Position to write the next unique element\n",
    "\n",
    "    for read_index in range(1, len(array)):\n",
    "        if array[read_index] != array[read_index - 1]:\n",
    "            array[write_index] = array[read_index]\n",
    "            write_index += 1\n",
    "\n",
    "    # Truncate the list to contain only the unique elements\n",
    "    del array[write_index:]\n",
    "    return array  # Number of unique elements\n",
    "    "
   ]
  },
  {
   "cell_type": "code",
   "execution_count": 25,
   "metadata": {},
   "outputs": [
    {
     "data": {
      "text/plain": [
       "[2, 5, 7]"
      ]
     },
     "execution_count": 25,
     "metadata": {},
     "output_type": "execute_result"
    }
   ],
   "source": [
    "distinctnumbers([2, 2, 2, 2, 5, 5, 5, 5, 7, 7])"
   ]
  },
  {
   "cell_type": "code",
   "execution_count": 27,
   "metadata": {},
   "outputs": [
    {
     "data": {
      "text/plain": [
       "[1, 2, 3, 4, 5, 6, 7]"
      ]
     },
     "execution_count": 27,
     "metadata": {},
     "output_type": "execute_result"
    }
   ],
   "source": [
    "distinctnumbers([1, 2, 2, 2, 2, 3, 3, 4, 5, 5, 6, 6, 7, 7])"
   ]
  },
  {
   "cell_type": "markdown",
   "metadata": {},
   "source": [
    "**Q5. Using commonnumbers and find_factorsfast in previous exercises, write your own HCF algorithm.**"
   ]
  },
  {
   "cell_type": "code",
   "execution_count": 19,
   "metadata": {},
   "outputs": [],
   "source": [
    "def hcf_via_factors(a, b):\n",
    "    factors_a = find_factorsfast(a)\n",
    "    factors_b = find_factorsfast(b)\n",
    "    common = commonnumbers(factors_a, factors_b)\n",
    "    hcf = 1\n",
    "    for factor in common:\n",
    "        hcf *= factor\n",
    "    return hcf"
   ]
  },
  {
   "cell_type": "code",
   "execution_count": 20,
   "metadata": {},
   "outputs": [
    {
     "data": {
      "text/plain": [
       "14"
      ]
     },
     "execution_count": 20,
     "metadata": {},
     "output_type": "execute_result"
    }
   ],
   "source": [
    "hcf_via_factors(14, 28)"
   ]
  },
  {
   "cell_type": "code",
   "execution_count": 21,
   "metadata": {},
   "outputs": [
    {
     "data": {
      "text/plain": [
       "6"
      ]
     },
     "execution_count": 21,
     "metadata": {},
     "output_type": "execute_result"
    }
   ],
   "source": [
    "hcf_via_factors(48, 18)"
   ]
  },
  {
   "cell_type": "markdown",
   "metadata": {},
   "source": [
    "# Parenthesis:"
   ]
  },
  {
   "cell_type": "markdown",
   "metadata": {},
   "source": [
    "**Q6. Write a function to check if parathesis are valid.**\n",
    "\n",
    "     > are_valid(\"[]\")\n",
    "       True\n",
    "\n",
    "     > are_valid(\"}{\")\n",
    "       False"
   ]
  },
  {
   "cell_type": "code",
   "execution_count": 28,
   "metadata": {},
   "outputs": [],
   "source": [
    "def are_valid(s):\n",
    "    while len(s) > 0:\n",
    "        found = False\n",
    "        for pairs in [\"()\", \"{}\", \"[]\"]:\n",
    "            idx = s.find(pairs)\n",
    "            if idx > -1:\n",
    "                found = True\n",
    "                #s = s[:idx] + s[idx+2:]\n",
    "                s = s.replace(pairs, \"\")\n",
    "        if not found:\n",
    "            break\n",
    "    if len(s) > 0:\n",
    "        return False\n",
    "    else:\n",
    "        return True"
   ]
  },
  {
   "cell_type": "code",
   "execution_count": 29,
   "metadata": {},
   "outputs": [
    {
     "data": {
      "text/plain": [
       "True"
      ]
     },
     "execution_count": 29,
     "metadata": {},
     "output_type": "execute_result"
    }
   ],
   "source": [
    "are_valid(\"{}\")"
   ]
  },
  {
   "cell_type": "code",
   "execution_count": 30,
   "metadata": {},
   "outputs": [
    {
     "data": {
      "text/plain": [
       "True"
      ]
     },
     "execution_count": 30,
     "metadata": {},
     "output_type": "execute_result"
    }
   ],
   "source": [
    "are_valid(\"[]\")"
   ]
  },
  {
   "cell_type": "code",
   "execution_count": 31,
   "metadata": {},
   "outputs": [
    {
     "data": {
      "text/plain": [
       "False"
      ]
     },
     "execution_count": 31,
     "metadata": {},
     "output_type": "execute_result"
    }
   ],
   "source": [
    "are_valid(\"}{\")"
   ]
  },
  {
   "cell_type": "code",
   "execution_count": 32,
   "metadata": {},
   "outputs": [
    {
     "data": {
      "text/plain": [
       "True"
      ]
     },
     "execution_count": 32,
     "metadata": {},
     "output_type": "execute_result"
    }
   ],
   "source": [
    "are_valid(\"({}[])\")"
   ]
  },
  {
   "cell_type": "code",
   "execution_count": 33,
   "metadata": {},
   "outputs": [
    {
     "data": {
      "text/plain": [
       "True"
      ]
     },
     "execution_count": 33,
     "metadata": {},
     "output_type": "execute_result"
    }
   ],
   "source": [
    "are_valid(\"((([[{}]])))\")"
   ]
  },
  {
   "cell_type": "code",
   "execution_count": 34,
   "metadata": {},
   "outputs": [
    {
     "data": {
      "text/plain": [
       "False"
      ]
     },
     "execution_count": 34,
     "metadata": {},
     "output_type": "execute_result"
    }
   ],
   "source": [
    "are_valid(\"((([[{}]]))\")"
   ]
  },
  {
   "cell_type": "code",
   "execution_count": 35,
   "metadata": {},
   "outputs": [
    {
     "data": {
      "text/plain": [
       "False"
      ]
     },
     "execution_count": 35,
     "metadata": {},
     "output_type": "execute_result"
    }
   ],
   "source": [
    "are_valid(\"((([{}]]))\")"
   ]
  },
  {
   "cell_type": "code",
   "execution_count": 36,
   "metadata": {},
   "outputs": [
    {
     "data": {
      "text/plain": [
       "False"
      ]
     },
     "execution_count": 36,
     "metadata": {},
     "output_type": "execute_result"
    }
   ],
   "source": [
    "are_valid(\"}{}\")"
   ]
  },
  {
   "cell_type": "markdown",
   "metadata": {},
   "source": [
    "# Combination of Unique Handshakes:"
   ]
  },
  {
   "cell_type": "markdown",
   "metadata": {},
   "source": [
    "**Q7: There is a list of people, print all the combinations of unique hand shakes.**\n",
    "\n",
    "**Example:**\n",
    "**Input: [\"A\", \"B\", \"C\"]**  \n",
    "**Expected:**\n",
    "\n",
    "    A B, \n",
    "\n",
    "    A C,\n",
    "\n",
    "    B C"
   ]
  },
  {
   "cell_type": "markdown",
   "metadata": {},
   "source": [
    "***Method 1: Recursion***"
   ]
  },
  {
   "cell_type": "code",
   "execution_count": 38,
   "metadata": {},
   "outputs": [],
   "source": [
    "def generate_handshakes_recursive(people, start=0):\n",
    "    if start >= len(people) - 1:\n",
    "        return []\n",
    "    result = []\n",
    "    for i in range(start + 1, len(people)):\n",
    "        result.append((people[start], people[i]))\n",
    "    return result + generate_handshakes_recursive(people, start + 1)"
   ]
  },
  {
   "cell_type": "code",
   "execution_count": 39,
   "metadata": {},
   "outputs": [
    {
     "name": "stdout",
     "output_type": "stream",
     "text": [
      "A B\n",
      "A C\n",
      "B C\n"
     ]
    }
   ],
   "source": [
    "people = [\"A\", \"B\", \"C\"]\n",
    "handshakes = generate_handshakes_recursive(people)\n",
    "for pair in handshakes:\n",
    "    print(f\"{pair[0]} {pair[1]}\")\n"
   ]
  },
  {
   "cell_type": "markdown",
   "metadata": {},
   "source": [
    "***Method 2: List comprehension method***"
   ]
  },
  {
   "cell_type": "code",
   "execution_count": 40,
   "metadata": {},
   "outputs": [
    {
     "name": "stdout",
     "output_type": "stream",
     "text": [
      "A B\n",
      "A C\n",
      "B C\n"
     ]
    }
   ],
   "source": [
    "people = [\"A\", \"B\", \"C\"]\n",
    "handshakes = [(people[i], people[j]) for i in range(len(people)) for j in range(i + 1, len(people))]\n",
    "for pair in handshakes:\n",
    "    print(f\"{pair[0]} {pair[1]}\")"
   ]
  },
  {
   "cell_type": "markdown",
   "metadata": {},
   "source": [
    "***Method 3: Loop method***"
   ]
  },
  {
   "cell_type": "code",
   "execution_count": 42,
   "metadata": {},
   "outputs": [],
   "source": [
    "def unique_handshakes(people):\n",
    "    n = len(people)\n",
    "    for i in range(n):\n",
    "        for j in range(i + 1, n):\n",
    "            print(f\"{people[i]} {people[j]}\")\n"
   ]
  },
  {
   "cell_type": "code",
   "execution_count": 43,
   "metadata": {},
   "outputs": [
    {
     "name": "stdout",
     "output_type": "stream",
     "text": [
      "A B\n",
      "A C\n",
      "B C\n"
     ]
    }
   ],
   "source": [
    "people = [\"A\", \"B\", \"C\"]\n",
    "unique_handshakes(people)"
   ]
  },
  {
   "cell_type": "markdown",
   "metadata": {},
   "source": [
    "# Solving Linear Equations:"
   ]
  },
  {
   "cell_type": "markdown",
   "metadata": {},
   "source": [
    "**Q8: Solve Equations:**\n",
    "\n",
    "    def solve_equations(eqns):\n",
    "    if len(eqns) == 1:\n",
    "        ...\n",
    "    else:\n",
    "        # Eliminating one variable\n",
    "        new_equns = ....\n",
    "\n",
    "        result_n_1 = solve_equations(new_equns)\n",
    "\n",
    "    return [1,1,1]\n",
    "\n",
    "**For equation:**\n",
    "\n",
    "    4x + 2y + z = 5\n",
    "    x - 3y - z = 3\n",
    "    3x + 2y + 2z = 10\n",
    "\n",
    "    eqns = [\n",
    "             [4, 2, 1, 5],\n",
    "             [1, -3, -1, 3]\n",
    "             [3, 2, 2, 10]\n",
    "           ]\n",
    "\n",
    "    result = solve_equations(eqns)\n",
    "\n",
    "    result\n",
    "\n",
    "**n -> eliminate one variable and make it n - 1 -> ..... if n = 1, solve it return the answer 2.**"
   ]
  },
  {
   "cell_type": "code",
   "execution_count": 2,
   "metadata": {},
   "outputs": [],
   "source": [
    "def solve_equations(eqns):\n",
    "    n = len(eqns[0]) - 1  # number of variables\n",
    "    if n == 1:\n",
    "        # One variable, solve ax = b -> x = b/a\n",
    "        return [eqns[0][1] / eqns[0][0]]\n",
    "    \n",
    "    # Pivot equation: first equation\n",
    "    pivot = eqns[0]\n",
    "    new_eqns = []\n",
    "\n",
    "    for eq in eqns[1:]:\n",
    "        # Eliminate variable from this equation using the pivot\n",
    "        factor = eq[0] / pivot[0]\n",
    "        new_eq = [eq[i] - factor * pivot[i] for i in range(len(eq))]\n",
    "        new_eqns.append(new_eq[1:])  # remove the first variable's coefficient\n",
    "\n",
    "    # Recursively solve the smaller system\n",
    "    result_rest = solve_equations(new_eqns)\n",
    "\n",
    "    # Back-substitute to find the first variable\n",
    "    first_val = pivot[-1]  # constant term\n",
    "    for i in range(1, len(pivot) - 1):\n",
    "        first_val -= pivot[i] * result_rest[i - 1]\n",
    "    first_val /= pivot[0]\n",
    "\n",
    "    return [first_val] + result_rest"
   ]
  },
  {
   "cell_type": "code",
   "execution_count": 4,
   "metadata": {},
   "outputs": [
    {
     "name": "stdout",
     "output_type": "stream",
     "text": [
      "[1.0666666666666664, -2.6666666666666665, 6.066666666666666]\n"
     ]
    }
   ],
   "source": [
    "eqns = [\n",
    "    [4, 2, 1, 5],\n",
    "    [1, -3, -1, 3],\n",
    "    [3, 2, 2, 10]\n",
    "]\n",
    "\n",
    "result = solve_equations(eqns)\n",
    "print(result)\n"
   ]
  },
  {
   "cell_type": "code",
   "execution_count": null,
   "metadata": {},
   "outputs": [],
   "source": []
  }
 ],
 "metadata": {
  "kernelspec": {
   "display_name": "Python3.10",
   "language": "python",
   "name": "python3.10"
  },
  "language_info": {
   "codemirror_mode": {
    "name": "ipython",
    "version": 3
   },
   "file_extension": ".py",
   "mimetype": "text/x-python",
   "name": "python",
   "nbconvert_exporter": "python",
   "pygments_lexer": "ipython3",
   "version": "3.10.14"
  },
  "toc": {
   "base_numbering": 1,
   "nav_menu": {},
   "number_sections": true,
   "sideBar": true,
   "skip_h1_title": false,
   "title_cell": "Table of Contents",
   "title_sidebar": "Contents",
   "toc_cell": false,
   "toc_position": {},
   "toc_section_display": true,
   "toc_window_display": false
  }
 },
 "nbformat": 4,
 "nbformat_minor": 2
}
