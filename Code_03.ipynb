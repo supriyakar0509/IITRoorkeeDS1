{
 "cells": [
  {
   "cell_type": "markdown",
   "metadata": {},
   "source": [
    "# Important questions"
   ]
  },
  {
   "cell_type": "markdown",
   "metadata": {},
   "source": [
    "Q1: Write a code to find the square root of any number."
   ]
  },
  {
   "cell_type": "code",
   "execution_count": 1,
   "metadata": {},
   "outputs": [],
   "source": [
    "number = 10 # we want to find the square root of number."
   ]
  },
  {
   "cell_type": "code",
   "execution_count": 2,
   "metadata": {},
   "outputs": [],
   "source": [
    "guess = 5"
   ]
  },
  {
   "cell_type": "code",
   "execution_count": 3,
   "metadata": {},
   "outputs": [
    {
     "data": {
      "text/plain": [
       "25"
      ]
     },
     "execution_count": 3,
     "metadata": {},
     "output_type": "execute_result"
    }
   ],
   "source": [
    "guess**2"
   ]
  },
  {
   "cell_type": "code",
   "execution_count": 4,
   "metadata": {},
   "outputs": [
    {
     "data": {
      "text/plain": [
       "6.25"
      ]
     },
     "execution_count": 4,
     "metadata": {},
     "output_type": "execute_result"
    }
   ],
   "source": [
    "guess = 2.5\n",
    "guess**2"
   ]
  },
  {
   "cell_type": "code",
   "execution_count": 5,
   "metadata": {},
   "outputs": [
    {
     "name": "stdout",
     "output_type": "stream",
     "text": [
      "3.75\n"
     ]
    },
    {
     "data": {
      "text/plain": [
       "14.0625"
      ]
     },
     "execution_count": 5,
     "metadata": {},
     "output_type": "execute_result"
    }
   ],
   "source": [
    "guess = (2.5 + 5)/2\n",
    "print(guess)\n",
    "guess**2"
   ]
  },
  {
   "cell_type": "code",
   "execution_count": 6,
   "metadata": {},
   "outputs": [
    {
     "name": "stdout",
     "output_type": "stream",
     "text": [
      "3.125\n"
     ]
    }
   ],
   "source": [
    "left = 2.5\n",
    "right = 3.75\n",
    "guess = (left + right)/2\n",
    "print(guess)"
   ]
  },
  {
   "cell_type": "code",
   "execution_count": 7,
   "metadata": {},
   "outputs": [
    {
     "name": "stdout",
     "output_type": "stream",
     "text": [
      "9.765625\n"
     ]
    }
   ],
   "source": [
    "print(guess**2)"
   ]
  },
  {
   "cell_type": "code",
   "execution_count": 8,
   "metadata": {},
   "outputs": [
    {
     "name": "stdout",
     "output_type": "stream",
     "text": [
      "Guess:  3.4375\n",
      "(Guess)^2:  11.81640625\n"
     ]
    }
   ],
   "source": [
    "left = 3.125\n",
    "right = 3.75\n",
    "guess = (left + right)/2\n",
    "print(\"Guess: \", guess)\n",
    "print(\"(Guess)^2: \", guess**2)\n"
   ]
  },
  {
   "cell_type": "code",
   "execution_count": 9,
   "metadata": {},
   "outputs": [
    {
     "name": "stdout",
     "output_type": "stream",
     "text": [
      "Guess:  3.28125\n",
      "(Guess)^2:  10.7666015625\n"
     ]
    }
   ],
   "source": [
    "left = 3.125\n",
    "right = guess\n",
    "guess = (left + right)/2\n",
    "print(\"Guess: \", guess)\n",
    "print(\"(Guess)^2: \", guess*guess)"
   ]
  },
  {
   "cell_type": "code",
   "execution_count": 10,
   "metadata": {},
   "outputs": [
    {
     "name": "stdout",
     "output_type": "stream",
     "text": [
      "Guess:  3.359375\n",
      "(Guess)^2:  11.285400390625\n"
     ]
    }
   ],
   "source": [
    "left = guess\n",
    "guess = (left + right)/2\n",
    "print(\"Guess: \", guess)\n",
    "print(\"(Guess)^2: \", guess*guess)"
   ]
  },
  {
   "cell_type": "markdown",
   "metadata": {},
   "source": [
    "Thus, this is the core idea behind finding the square root of any number. We need to proceed like this till we get the desired result. Now, let us write another code to produce the square root of our number, that is, 10, which is still manual in some sense."
   ]
  },
  {
   "cell_type": "code",
   "execution_count": 11,
   "metadata": {},
   "outputs": [],
   "source": [
    "number = 10"
   ]
  },
  {
   "cell_type": "code",
   "execution_count": 15,
   "metadata": {},
   "outputs": [],
   "source": [
    "left = 0\n",
    "right = number\n",
    "\n",
    "def squareroot(number):\n",
    "    global left\n",
    "    global right\n",
    "    print(f\"Left: {left}, Right: {right}\")\n",
    "    guess = (left + right)/2\n",
    "    print(\"Guess: \", guess)\n",
    "    print(\"Guess*Guess: \", guess*guess)\n",
    "    if guess*guess > number:\n",
    "        print(\"Try smaller guess!\")\n",
    "        right = guess\n",
    "    else:\n",
    "        left = guess\n",
    "        print(\"Try bigger guess!\")\n",
    "    print(f\"Updated: Left: {left}, Right: {right}\")"
   ]
  },
  {
   "cell_type": "code",
   "execution_count": 16,
   "metadata": {},
   "outputs": [
    {
     "name": "stdout",
     "output_type": "stream",
     "text": [
      "Left: 0, Right: 10\n",
      "Guess:  5.0\n",
      "Guess*Guess:  25.0\n",
      "Try smaller guess!\n",
      "Updated: Left: 0, Right: 5.0\n"
     ]
    }
   ],
   "source": [
    "squareroot(number)"
   ]
  },
  {
   "cell_type": "code",
   "execution_count": 17,
   "metadata": {},
   "outputs": [
    {
     "name": "stdout",
     "output_type": "stream",
     "text": [
      "Left: 0, Right: 5.0\n",
      "Guess:  2.5\n",
      "Guess*Guess:  6.25\n",
      "Try bigger guess!\n",
      "Updated: Left: 2.5, Right: 5.0\n"
     ]
    }
   ],
   "source": [
    "squareroot(number)"
   ]
  },
  {
   "cell_type": "code",
   "execution_count": 18,
   "metadata": {},
   "outputs": [
    {
     "name": "stdout",
     "output_type": "stream",
     "text": [
      "Left: 2.5, Right: 5.0\n",
      "Guess:  3.75\n",
      "Guess*Guess:  14.0625\n",
      "Try smaller guess!\n",
      "Updated: Left: 2.5, Right: 3.75\n"
     ]
    }
   ],
   "source": [
    "squareroot(number)"
   ]
  },
  {
   "cell_type": "code",
   "execution_count": 19,
   "metadata": {},
   "outputs": [
    {
     "name": "stdout",
     "output_type": "stream",
     "text": [
      "Left: 2.5, Right: 3.75\n",
      "Guess:  3.125\n",
      "Guess*Guess:  9.765625\n",
      "Try bigger guess!\n",
      "Updated: Left: 3.125, Right: 3.75\n"
     ]
    }
   ],
   "source": [
    "squareroot(number)"
   ]
  },
  {
   "cell_type": "code",
   "execution_count": 20,
   "metadata": {},
   "outputs": [
    {
     "name": "stdout",
     "output_type": "stream",
     "text": [
      "Left: 3.125, Right: 3.75\n",
      "Guess:  3.4375\n",
      "Guess*Guess:  11.81640625\n",
      "Try smaller guess!\n",
      "Updated: Left: 3.125, Right: 3.4375\n"
     ]
    }
   ],
   "source": [
    "squareroot(number)"
   ]
  },
  {
   "cell_type": "code",
   "execution_count": 21,
   "metadata": {},
   "outputs": [
    {
     "name": "stdout",
     "output_type": "stream",
     "text": [
      "Left: 3.125, Right: 3.4375\n",
      "Guess:  3.28125\n",
      "Guess*Guess:  10.7666015625\n",
      "Try smaller guess!\n",
      "Updated: Left: 3.125, Right: 3.28125\n"
     ]
    }
   ],
   "source": [
    "squareroot(number)"
   ]
  },
  {
   "cell_type": "code",
   "execution_count": 22,
   "metadata": {},
   "outputs": [
    {
     "name": "stdout",
     "output_type": "stream",
     "text": [
      "Left: 3.125, Right: 3.28125\n",
      "Guess:  3.203125\n",
      "Guess*Guess:  10.260009765625\n",
      "Try smaller guess!\n",
      "Updated: Left: 3.125, Right: 3.203125\n"
     ]
    }
   ],
   "source": [
    "squareroot(number)"
   ]
  },
  {
   "cell_type": "code",
   "execution_count": 23,
   "metadata": {},
   "outputs": [
    {
     "name": "stdout",
     "output_type": "stream",
     "text": [
      "Left: 3.125, Right: 3.203125\n",
      "Guess:  3.1640625\n",
      "Guess*Guess:  10.01129150390625\n",
      "Try smaller guess!\n",
      "Updated: Left: 3.125, Right: 3.1640625\n"
     ]
    }
   ],
   "source": [
    "squareroot(number)"
   ]
  },
  {
   "cell_type": "code",
   "execution_count": 24,
   "metadata": {},
   "outputs": [
    {
     "name": "stdout",
     "output_type": "stream",
     "text": [
      "Left: 3.125, Right: 3.1640625\n",
      "Guess:  3.14453125\n",
      "Guess*Guess:  9.888076782226562\n",
      "Try bigger guess!\n",
      "Updated: Left: 3.14453125, Right: 3.1640625\n"
     ]
    }
   ],
   "source": [
    "squareroot(number)"
   ]
  },
  {
   "cell_type": "code",
   "execution_count": 25,
   "metadata": {},
   "outputs": [
    {
     "name": "stdout",
     "output_type": "stream",
     "text": [
      "Left: 3.14453125, Right: 3.1640625\n",
      "Guess:  3.154296875\n",
      "Guess*Guess:  9.949588775634766\n",
      "Try bigger guess!\n",
      "Updated: Left: 3.154296875, Right: 3.1640625\n"
     ]
    }
   ],
   "source": [
    "squareroot(number)"
   ]
  },
  {
   "cell_type": "code",
   "execution_count": 26,
   "metadata": {},
   "outputs": [
    {
     "name": "stdout",
     "output_type": "stream",
     "text": [
      "Left: 3.154296875, Right: 3.1640625\n",
      "Guess:  3.1591796875\n",
      "Guess*Guess:  9.980416297912598\n",
      "Try bigger guess!\n",
      "Updated: Left: 3.1591796875, Right: 3.1640625\n"
     ]
    }
   ],
   "source": [
    "squareroot(number)"
   ]
  },
  {
   "cell_type": "code",
   "execution_count": 27,
   "metadata": {},
   "outputs": [
    {
     "name": "stdout",
     "output_type": "stream",
     "text": [
      "Left: 3.1591796875, Right: 3.1640625\n",
      "Guess:  3.16162109375\n",
      "Guess*Guess:  9.995847940444946\n",
      "Try bigger guess!\n",
      "Updated: Left: 3.16162109375, Right: 3.1640625\n"
     ]
    }
   ],
   "source": [
    "squareroot(number)"
   ]
  },
  {
   "cell_type": "code",
   "execution_count": 28,
   "metadata": {},
   "outputs": [
    {
     "name": "stdout",
     "output_type": "stream",
     "text": [
      "Left: 3.16162109375, Right: 3.1640625\n",
      "Guess:  3.162841796875\n",
      "Guess*Guess:  10.003568232059479\n",
      "Try smaller guess!\n",
      "Updated: Left: 3.16162109375, Right: 3.162841796875\n"
     ]
    }
   ],
   "source": [
    "squareroot(number)"
   ]
  },
  {
   "cell_type": "code",
   "execution_count": 29,
   "metadata": {},
   "outputs": [
    {
     "name": "stdout",
     "output_type": "stream",
     "text": [
      "Left: 3.16162109375, Right: 3.162841796875\n",
      "Guess:  3.1622314453125\n",
      "Guess*Guess:  9.999707713723183\n",
      "Try bigger guess!\n",
      "Updated: Left: 3.1622314453125, Right: 3.162841796875\n"
     ]
    }
   ],
   "source": [
    "squareroot(number)"
   ]
  },
  {
   "cell_type": "code",
   "execution_count": 30,
   "metadata": {},
   "outputs": [
    {
     "name": "stdout",
     "output_type": "stream",
     "text": [
      "Left: 3.1622314453125, Right: 3.162841796875\n",
      "Guess:  3.16253662109375\n",
      "Guess*Guess:  10.001637879759073\n",
      "Try smaller guess!\n",
      "Updated: Left: 3.1622314453125, Right: 3.16253662109375\n"
     ]
    }
   ],
   "source": [
    "squareroot(number)"
   ]
  },
  {
   "cell_type": "code",
   "execution_count": 31,
   "metadata": {},
   "outputs": [
    {
     "name": "stdout",
     "output_type": "stream",
     "text": [
      "Left: 3.1622314453125, Right: 3.16253662109375\n",
      "Guess:  3.162384033203125\n",
      "Guess*Guess:  10.000672773458064\n",
      "Try smaller guess!\n",
      "Updated: Left: 3.1622314453125, Right: 3.162384033203125\n"
     ]
    }
   ],
   "source": [
    "squareroot(number)"
   ]
  },
  {
   "cell_type": "code",
   "execution_count": 32,
   "metadata": {},
   "outputs": [
    {
     "name": "stdout",
     "output_type": "stream",
     "text": [
      "Left: 3.1622314453125, Right: 3.162384033203125\n",
      "Guess:  3.1623077392578125\n",
      "Guess*Guess:  10.000190237769857\n",
      "Try smaller guess!\n",
      "Updated: Left: 3.1622314453125, Right: 3.1623077392578125\n"
     ]
    }
   ],
   "source": [
    "squareroot(number)"
   ]
  },
  {
   "cell_type": "markdown",
   "metadata": {},
   "source": [
    "Now, we write a better code to automate it further."
   ]
  },
  {
   "cell_type": "code",
   "execution_count": 33,
   "metadata": {},
   "outputs": [],
   "source": [
    "left = 0\n",
    "right = number\n",
    "\n",
    "def findsqrt(number):\n",
    "    global left\n",
    "    global right\n",
    "    print(f\"Left: {left}, Right: {right}\")\n",
    "    guess = (left + right)/2\n",
    "    print(\"Guess: \", guess)\n",
    "    print(\"Guess*Guess: \", guess*guess)\n",
    "    diff = abs(guess*guess - number)\n",
    "    if diff < 0.0000000001:\n",
    "        print(\"We are done!\")\n",
    "    if guess*guess > number:\n",
    "        print(\"Try smaller guess!\")\n",
    "        right = guess\n",
    "    else:\n",
    "        left = guess\n",
    "        print(\"Try bigger guess!\")\n",
    "    print(f\"Updated: Left: {left}, Right: {right}\")"
   ]
  },
  {
   "cell_type": "code",
   "execution_count": 34,
   "metadata": {},
   "outputs": [
    {
     "name": "stdout",
     "output_type": "stream",
     "text": [
      "0 Running -----------------------\n",
      "Left: 0, Right: 10\n",
      "Guess:  5.0\n",
      "Guess*Guess:  25.0\n",
      "Try smaller guess!\n",
      "Updated: Left: 0, Right: 5.0\n",
      "1 Running -----------------------\n",
      "Left: 0, Right: 5.0\n",
      "Guess:  2.5\n",
      "Guess*Guess:  6.25\n",
      "Try bigger guess!\n",
      "Updated: Left: 2.5, Right: 5.0\n",
      "2 Running -----------------------\n",
      "Left: 2.5, Right: 5.0\n",
      "Guess:  3.75\n",
      "Guess*Guess:  14.0625\n",
      "Try smaller guess!\n",
      "Updated: Left: 2.5, Right: 3.75\n",
      "3 Running -----------------------\n",
      "Left: 2.5, Right: 3.75\n",
      "Guess:  3.125\n",
      "Guess*Guess:  9.765625\n",
      "Try bigger guess!\n",
      "Updated: Left: 3.125, Right: 3.75\n",
      "4 Running -----------------------\n",
      "Left: 3.125, Right: 3.75\n",
      "Guess:  3.4375\n",
      "Guess*Guess:  11.81640625\n",
      "Try smaller guess!\n",
      "Updated: Left: 3.125, Right: 3.4375\n",
      "5 Running -----------------------\n",
      "Left: 3.125, Right: 3.4375\n",
      "Guess:  3.28125\n",
      "Guess*Guess:  10.7666015625\n",
      "Try smaller guess!\n",
      "Updated: Left: 3.125, Right: 3.28125\n",
      "6 Running -----------------------\n",
      "Left: 3.125, Right: 3.28125\n",
      "Guess:  3.203125\n",
      "Guess*Guess:  10.260009765625\n",
      "Try smaller guess!\n",
      "Updated: Left: 3.125, Right: 3.203125\n",
      "7 Running -----------------------\n",
      "Left: 3.125, Right: 3.203125\n",
      "Guess:  3.1640625\n",
      "Guess*Guess:  10.01129150390625\n",
      "Try smaller guess!\n",
      "Updated: Left: 3.125, Right: 3.1640625\n",
      "8 Running -----------------------\n",
      "Left: 3.125, Right: 3.1640625\n",
      "Guess:  3.14453125\n",
      "Guess*Guess:  9.888076782226562\n",
      "Try bigger guess!\n",
      "Updated: Left: 3.14453125, Right: 3.1640625\n",
      "9 Running -----------------------\n",
      "Left: 3.14453125, Right: 3.1640625\n",
      "Guess:  3.154296875\n",
      "Guess*Guess:  9.949588775634766\n",
      "Try bigger guess!\n",
      "Updated: Left: 3.154296875, Right: 3.1640625\n",
      "10 Running -----------------------\n",
      "Left: 3.154296875, Right: 3.1640625\n",
      "Guess:  3.1591796875\n",
      "Guess*Guess:  9.980416297912598\n",
      "Try bigger guess!\n",
      "Updated: Left: 3.1591796875, Right: 3.1640625\n",
      "11 Running -----------------------\n",
      "Left: 3.1591796875, Right: 3.1640625\n",
      "Guess:  3.16162109375\n",
      "Guess*Guess:  9.995847940444946\n",
      "Try bigger guess!\n",
      "Updated: Left: 3.16162109375, Right: 3.1640625\n",
      "12 Running -----------------------\n",
      "Left: 3.16162109375, Right: 3.1640625\n",
      "Guess:  3.162841796875\n",
      "Guess*Guess:  10.003568232059479\n",
      "Try smaller guess!\n",
      "Updated: Left: 3.16162109375, Right: 3.162841796875\n",
      "13 Running -----------------------\n",
      "Left: 3.16162109375, Right: 3.162841796875\n",
      "Guess:  3.1622314453125\n",
      "Guess*Guess:  9.999707713723183\n",
      "Try bigger guess!\n",
      "Updated: Left: 3.1622314453125, Right: 3.162841796875\n",
      "14 Running -----------------------\n",
      "Left: 3.1622314453125, Right: 3.162841796875\n",
      "Guess:  3.16253662109375\n",
      "Guess*Guess:  10.001637879759073\n",
      "Try smaller guess!\n",
      "Updated: Left: 3.1622314453125, Right: 3.16253662109375\n",
      "15 Running -----------------------\n",
      "Left: 3.1622314453125, Right: 3.16253662109375\n",
      "Guess:  3.162384033203125\n",
      "Guess*Guess:  10.000672773458064\n",
      "Try smaller guess!\n",
      "Updated: Left: 3.1622314453125, Right: 3.162384033203125\n",
      "16 Running -----------------------\n",
      "Left: 3.1622314453125, Right: 3.162384033203125\n",
      "Guess:  3.1623077392578125\n",
      "Guess*Guess:  10.000190237769857\n",
      "Try smaller guess!\n",
      "Updated: Left: 3.1622314453125, Right: 3.1623077392578125\n",
      "17 Running -----------------------\n",
      "Left: 3.1622314453125, Right: 3.1623077392578125\n",
      "Guess:  3.1622695922851562\n",
      "Guess*Guess:  9.999948974291328\n",
      "Try bigger guess!\n",
      "Updated: Left: 3.1622695922851562, Right: 3.1623077392578125\n",
      "18 Running -----------------------\n",
      "Left: 3.1622695922851562, Right: 3.1623077392578125\n",
      "Guess:  3.1622886657714844\n",
      "Guess*Guess:  10.000069605666795\n",
      "Try smaller guess!\n",
      "Updated: Left: 3.1622695922851562, Right: 3.1622886657714844\n",
      "19 Running -----------------------\n",
      "Left: 3.1622695922851562, Right: 3.1622886657714844\n",
      "Guess:  3.1622791290283203\n",
      "Guess*Guess:  10.000009289888112\n",
      "Try smaller guess!\n",
      "Updated: Left: 3.1622695922851562, Right: 3.1622791290283203\n",
      "20 Running -----------------------\n",
      "Left: 3.1622695922851562, Right: 3.1622791290283203\n",
      "Guess:  3.1622743606567383\n",
      "Guess*Guess:  9.999979132066983\n",
      "Try bigger guess!\n",
      "Updated: Left: 3.1622743606567383, Right: 3.1622791290283203\n",
      "21 Running -----------------------\n",
      "Left: 3.1622743606567383, Right: 3.1622791290283203\n",
      "Guess:  3.1622767448425293\n",
      "Guess*Guess:  9.999994210971863\n",
      "Try bigger guess!\n",
      "Updated: Left: 3.1622767448425293, Right: 3.1622791290283203\n",
      "22 Running -----------------------\n",
      "Left: 3.1622767448425293, Right: 3.1622791290283203\n",
      "Guess:  3.162277936935425\n",
      "Guess*Guess:  10.000001750428567\n",
      "Try smaller guess!\n",
      "Updated: Left: 3.1622767448425293, Right: 3.162277936935425\n",
      "23 Running -----------------------\n",
      "Left: 3.1622767448425293, Right: 3.162277936935425\n",
      "Guess:  3.162277340888977\n",
      "Guess*Guess:  9.99999798069986\n",
      "Try bigger guess!\n",
      "Updated: Left: 3.162277340888977, Right: 3.162277936935425\n",
      "24 Running -----------------------\n",
      "Left: 3.162277340888977, Right: 3.162277936935425\n",
      "Guess:  3.162277638912201\n",
      "Guess*Guess:  9.999999865564124\n",
      "Try bigger guess!\n",
      "Updated: Left: 3.162277638912201, Right: 3.162277936935425\n",
      "25 Running -----------------------\n",
      "Left: 3.162277638912201, Right: 3.162277936935425\n",
      "Guess:  3.162277787923813\n",
      "Guess*Guess:  10.000000807996322\n",
      "Try smaller guess!\n",
      "Updated: Left: 3.162277638912201, Right: 3.162277787923813\n",
      "26 Running -----------------------\n",
      "Left: 3.162277638912201, Right: 3.162277787923813\n",
      "Guess:  3.162277713418007\n",
      "Guess*Guess:  10.000000336780218\n",
      "Try smaller guess!\n",
      "Updated: Left: 3.162277638912201, Right: 3.162277713418007\n",
      "27 Running -----------------------\n",
      "Left: 3.162277638912201, Right: 3.162277713418007\n",
      "Guess:  3.162277676165104\n",
      "Guess*Guess:  10.00000010117217\n",
      "Try smaller guess!\n",
      "Updated: Left: 3.162277638912201, Right: 3.162277676165104\n",
      "28 Running -----------------------\n",
      "Left: 3.162277638912201, Right: 3.162277676165104\n",
      "Guess:  3.1622776575386524\n",
      "Guess*Guess:  9.999999983368147\n",
      "Try bigger guess!\n",
      "Updated: Left: 3.1622776575386524, Right: 3.162277676165104\n",
      "29 Running -----------------------\n",
      "Left: 3.1622776575386524, Right: 3.162277676165104\n",
      "Guess:  3.162277666851878\n",
      "Guess*Guess:  10.000000042270159\n",
      "Try smaller guess!\n",
      "Updated: Left: 3.1622776575386524, Right: 3.162277666851878\n",
      "30 Running -----------------------\n",
      "Left: 3.1622776575386524, Right: 3.162277666851878\n",
      "Guess:  3.1622776621952653\n",
      "Guess*Guess:  10.000000012819152\n",
      "Try smaller guess!\n",
      "Updated: Left: 3.1622776575386524, Right: 3.1622776621952653\n",
      "31 Running -----------------------\n",
      "Left: 3.1622776575386524, Right: 3.1622776621952653\n",
      "Guess:  3.162277659866959\n",
      "Guess*Guess:  9.99999999809365\n",
      "Try bigger guess!\n",
      "Updated: Left: 3.162277659866959, Right: 3.1622776621952653\n",
      "32 Running -----------------------\n",
      "Left: 3.162277659866959, Right: 3.1622776621952653\n",
      "Guess:  3.162277661031112\n",
      "Guess*Guess:  10.000000005456402\n",
      "Try smaller guess!\n",
      "Updated: Left: 3.162277659866959, Right: 3.162277661031112\n",
      "33 Running -----------------------\n",
      "Left: 3.162277659866959, Right: 3.162277661031112\n",
      "Guess:  3.1622776604490355\n",
      "Guess*Guess:  10.000000001775025\n",
      "Try smaller guess!\n",
      "Updated: Left: 3.162277659866959, Right: 3.1622776604490355\n",
      "34 Running -----------------------\n",
      "Left: 3.162277659866959, Right: 3.1622776604490355\n",
      "Guess:  3.162277660157997\n",
      "Guess*Guess:  9.999999999934337\n",
      "We are done!\n",
      "Try bigger guess!\n",
      "Updated: Left: 3.162277660157997, Right: 3.1622776604490355\n",
      "35 Running -----------------------\n",
      "Left: 3.162277660157997, Right: 3.1622776604490355\n",
      "Guess:  3.1622776603035163\n",
      "Guess*Guess:  10.000000000854682\n",
      "Try smaller guess!\n",
      "Updated: Left: 3.162277660157997, Right: 3.1622776603035163\n",
      "36 Running -----------------------\n",
      "Left: 3.162277660157997, Right: 3.1622776603035163\n",
      "Guess:  3.1622776602307567\n",
      "Guess*Guess:  10.00000000039451\n",
      "Try smaller guess!\n",
      "Updated: Left: 3.162277660157997, Right: 3.1622776602307567\n",
      "37 Running -----------------------\n",
      "Left: 3.162277660157997, Right: 3.1622776602307567\n",
      "Guess:  3.162277660194377\n",
      "Guess*Guess:  10.000000000164423\n",
      "Try smaller guess!\n",
      "Updated: Left: 3.162277660157997, Right: 3.162277660194377\n",
      "38 Running -----------------------\n",
      "Left: 3.162277660157997, Right: 3.162277660194377\n",
      "Guess:  3.162277660176187\n",
      "Guess*Guess:  10.000000000049381\n",
      "We are done!\n",
      "Try smaller guess!\n",
      "Updated: Left: 3.162277660157997, Right: 3.162277660176187\n",
      "39 Running -----------------------\n",
      "Left: 3.162277660157997, Right: 3.162277660176187\n",
      "Guess:  3.162277660167092\n",
      "Guess*Guess:  9.999999999991859\n",
      "We are done!\n",
      "Try bigger guess!\n",
      "Updated: Left: 3.162277660167092, Right: 3.162277660176187\n",
      "40 Running -----------------------\n",
      "Left: 3.162277660167092, Right: 3.162277660176187\n",
      "Guess:  3.1622776601716396\n",
      "Guess*Guess:  10.00000000002062\n",
      "We are done!\n",
      "Try smaller guess!\n",
      "Updated: Left: 3.162277660167092, Right: 3.1622776601716396\n",
      "41 Running -----------------------\n",
      "Left: 3.162277660167092, Right: 3.1622776601716396\n",
      "Guess:  3.162277660169366\n",
      "Guess*Guess:  10.000000000006239\n",
      "We are done!\n",
      "Try smaller guess!\n",
      "Updated: Left: 3.162277660167092, Right: 3.162277660169366\n",
      "42 Running -----------------------\n",
      "Left: 3.162277660167092, Right: 3.162277660169366\n",
      "Guess:  3.162277660168229\n",
      "Guess*Guess:  9.99999999999905\n",
      "We are done!\n",
      "Try bigger guess!\n",
      "Updated: Left: 3.162277660168229, Right: 3.162277660169366\n",
      "43 Running -----------------------\n",
      "Left: 3.162277660168229, Right: 3.162277660169366\n",
      "Guess:  3.1622776601687974\n",
      "Guess*Guess:  10.000000000002645\n",
      "We are done!\n",
      "Try smaller guess!\n",
      "Updated: Left: 3.162277660168229, Right: 3.1622776601687974\n",
      "44 Running -----------------------\n",
      "Left: 3.162277660168229, Right: 3.1622776601687974\n",
      "Guess:  3.162277660168513\n",
      "Guess*Guess:  10.000000000000847\n",
      "We are done!\n",
      "Try smaller guess!\n",
      "Updated: Left: 3.162277660168229, Right: 3.162277660168513\n",
      "45 Running -----------------------\n",
      "Left: 3.162277660168229, Right: 3.162277660168513\n",
      "Guess:  3.162277660168371\n",
      "Guess*Guess:  9.999999999999948\n",
      "We are done!\n",
      "Try bigger guess!\n",
      "Updated: Left: 3.162277660168371, Right: 3.162277660168513\n",
      "46 Running -----------------------\n",
      "Left: 3.162277660168371, Right: 3.162277660168513\n",
      "Guess:  3.162277660168442\n",
      "Guess*Guess:  10.000000000000398\n",
      "We are done!\n",
      "Try smaller guess!\n",
      "Updated: Left: 3.162277660168371, Right: 3.162277660168442\n",
      "47 Running -----------------------\n",
      "Left: 3.162277660168371, Right: 3.162277660168442\n",
      "Guess:  3.1622776601684066\n",
      "Guess*Guess:  10.000000000000172\n",
      "We are done!\n",
      "Try smaller guess!\n",
      "Updated: Left: 3.162277660168371, Right: 3.1622776601684066\n",
      "48 Running -----------------------\n",
      "Left: 3.162277660168371, Right: 3.1622776601684066\n",
      "Guess:  3.162277660168389\n",
      "Guess*Guess:  10.00000000000006\n",
      "We are done!\n",
      "Try smaller guess!\n",
      "Updated: Left: 3.162277660168371, Right: 3.162277660168389\n",
      "49 Running -----------------------\n",
      "Left: 3.162277660168371, Right: 3.162277660168389\n",
      "Guess:  3.16227766016838\n",
      "Guess*Guess:  10.000000000000004\n",
      "We are done!\n",
      "Try smaller guess!\n",
      "Updated: Left: 3.162277660168371, Right: 3.16227766016838\n",
      "50 Running -----------------------\n",
      "Left: 3.162277660168371, Right: 3.16227766016838\n",
      "Guess:  3.1622776601683755\n",
      "Guess*Guess:  9.999999999999975\n",
      "We are done!\n",
      "Try bigger guess!\n",
      "Updated: Left: 3.1622776601683755, Right: 3.16227766016838\n",
      "51 Running -----------------------\n",
      "Left: 3.1622776601683755, Right: 3.16227766016838\n",
      "Guess:  3.1622776601683777\n",
      "Guess*Guess:  9.99999999999999\n",
      "We are done!\n",
      "Try bigger guess!\n",
      "Updated: Left: 3.1622776601683777, Right: 3.16227766016838\n",
      "52 Running -----------------------\n",
      "Left: 3.1622776601683777, Right: 3.16227766016838\n",
      "Guess:  3.162277660168379\n",
      "Guess*Guess:  9.999999999999998\n",
      "We are done!\n",
      "Try bigger guess!\n",
      "Updated: Left: 3.162277660168379, Right: 3.16227766016838\n",
      "53 Running -----------------------\n",
      "Left: 3.162277660168379, Right: 3.16227766016838\n",
      "Guess:  3.1622776601683795\n",
      "Guess*Guess:  10.000000000000002\n",
      "We are done!\n",
      "Try smaller guess!\n",
      "Updated: Left: 3.162277660168379, Right: 3.1622776601683795\n",
      "54 Running -----------------------\n",
      "Left: 3.162277660168379, Right: 3.1622776601683795\n",
      "Guess:  3.162277660168379\n",
      "Guess*Guess:  9.999999999999998\n",
      "We are done!\n",
      "Try bigger guess!\n",
      "Updated: Left: 3.162277660168379, Right: 3.1622776601683795\n",
      "55 Running -----------------------\n",
      "Left: 3.162277660168379, Right: 3.1622776601683795\n",
      "Guess:  3.162277660168379\n",
      "Guess*Guess:  9.999999999999998\n",
      "We are done!\n",
      "Try bigger guess!\n",
      "Updated: Left: 3.162277660168379, Right: 3.1622776601683795\n",
      "56 Running -----------------------\n",
      "Left: 3.162277660168379, Right: 3.1622776601683795\n",
      "Guess:  3.162277660168379\n",
      "Guess*Guess:  9.999999999999998\n",
      "We are done!\n",
      "Try bigger guess!\n",
      "Updated: Left: 3.162277660168379, Right: 3.1622776601683795\n",
      "57 Running -----------------------\n",
      "Left: 3.162277660168379, Right: 3.1622776601683795\n",
      "Guess:  3.162277660168379\n",
      "Guess*Guess:  9.999999999999998\n",
      "We are done!\n",
      "Try bigger guess!\n",
      "Updated: Left: 3.162277660168379, Right: 3.1622776601683795\n",
      "58 Running -----------------------\n",
      "Left: 3.162277660168379, Right: 3.1622776601683795\n",
      "Guess:  3.162277660168379\n",
      "Guess*Guess:  9.999999999999998\n",
      "We are done!\n",
      "Try bigger guess!\n",
      "Updated: Left: 3.162277660168379, Right: 3.1622776601683795\n",
      "59 Running -----------------------\n",
      "Left: 3.162277660168379, Right: 3.1622776601683795\n",
      "Guess:  3.162277660168379\n",
      "Guess*Guess:  9.999999999999998\n",
      "We are done!\n",
      "Try bigger guess!\n",
      "Updated: Left: 3.162277660168379, Right: 3.1622776601683795\n"
     ]
    }
   ],
   "source": [
    "number = 10\n",
    "left, right = 0, number\n",
    "for i in range(60):\n",
    "    print(i, \"Running -----------------------\")\n",
    "    findsqrt(number)"
   ]
  },
  {
   "cell_type": "markdown",
   "metadata": {},
   "source": [
    "Yet another code on square root:"
   ]
  },
  {
   "cell_type": "code",
   "execution_count": 35,
   "metadata": {},
   "outputs": [],
   "source": [
    "def find_sqrt(number):\n",
    "    left = 0\n",
    "    right = number\n",
    "    while True:\n",
    "        print(f\"Left: {left}, Right: {right}\")\n",
    "        guess = (left + right)/2\n",
    "        print(\"Guess: \", guess)\n",
    "        print(\"Guess*Guess: \", guess*guess)\n",
    "        diff = abs(guess*guess - number)\n",
    "        if diff < 1e-8:\n",
    "            print(\"We are done!\")\n",
    "            return guess\n",
    "        if guess*guess > number:\n",
    "            print(\"Trying smaller guess\")\n",
    "            right = guess\n",
    "        else:\n",
    "            left = guess\n",
    "            print(\"Trying bigger guess\")\n",
    "        print(f\"Updated: Left: {left}, Right: {right}\")"
   ]
  },
  {
   "cell_type": "code",
   "execution_count": 36,
   "metadata": {},
   "outputs": [
    {
     "name": "stdout",
     "output_type": "stream",
     "text": [
      "Left: 0, Right: 10\n",
      "Guess:  5.0\n",
      "Guess*Guess:  25.0\n",
      "Trying smaller guess\n",
      "Updated: Left: 0, Right: 5.0\n",
      "Left: 0, Right: 5.0\n",
      "Guess:  2.5\n",
      "Guess*Guess:  6.25\n",
      "Trying bigger guess\n",
      "Updated: Left: 2.5, Right: 5.0\n",
      "Left: 2.5, Right: 5.0\n",
      "Guess:  3.75\n",
      "Guess*Guess:  14.0625\n",
      "Trying smaller guess\n",
      "Updated: Left: 2.5, Right: 3.75\n",
      "Left: 2.5, Right: 3.75\n",
      "Guess:  3.125\n",
      "Guess*Guess:  9.765625\n",
      "Trying bigger guess\n",
      "Updated: Left: 3.125, Right: 3.75\n",
      "Left: 3.125, Right: 3.75\n",
      "Guess:  3.4375\n",
      "Guess*Guess:  11.81640625\n",
      "Trying smaller guess\n",
      "Updated: Left: 3.125, Right: 3.4375\n",
      "Left: 3.125, Right: 3.4375\n",
      "Guess:  3.28125\n",
      "Guess*Guess:  10.7666015625\n",
      "Trying smaller guess\n",
      "Updated: Left: 3.125, Right: 3.28125\n",
      "Left: 3.125, Right: 3.28125\n",
      "Guess:  3.203125\n",
      "Guess*Guess:  10.260009765625\n",
      "Trying smaller guess\n",
      "Updated: Left: 3.125, Right: 3.203125\n",
      "Left: 3.125, Right: 3.203125\n",
      "Guess:  3.1640625\n",
      "Guess*Guess:  10.01129150390625\n",
      "Trying smaller guess\n",
      "Updated: Left: 3.125, Right: 3.1640625\n",
      "Left: 3.125, Right: 3.1640625\n",
      "Guess:  3.14453125\n",
      "Guess*Guess:  9.888076782226562\n",
      "Trying bigger guess\n",
      "Updated: Left: 3.14453125, Right: 3.1640625\n",
      "Left: 3.14453125, Right: 3.1640625\n",
      "Guess:  3.154296875\n",
      "Guess*Guess:  9.949588775634766\n",
      "Trying bigger guess\n",
      "Updated: Left: 3.154296875, Right: 3.1640625\n",
      "Left: 3.154296875, Right: 3.1640625\n",
      "Guess:  3.1591796875\n",
      "Guess*Guess:  9.980416297912598\n",
      "Trying bigger guess\n",
      "Updated: Left: 3.1591796875, Right: 3.1640625\n",
      "Left: 3.1591796875, Right: 3.1640625\n",
      "Guess:  3.16162109375\n",
      "Guess*Guess:  9.995847940444946\n",
      "Trying bigger guess\n",
      "Updated: Left: 3.16162109375, Right: 3.1640625\n",
      "Left: 3.16162109375, Right: 3.1640625\n",
      "Guess:  3.162841796875\n",
      "Guess*Guess:  10.003568232059479\n",
      "Trying smaller guess\n",
      "Updated: Left: 3.16162109375, Right: 3.162841796875\n",
      "Left: 3.16162109375, Right: 3.162841796875\n",
      "Guess:  3.1622314453125\n",
      "Guess*Guess:  9.999707713723183\n",
      "Trying bigger guess\n",
      "Updated: Left: 3.1622314453125, Right: 3.162841796875\n",
      "Left: 3.1622314453125, Right: 3.162841796875\n",
      "Guess:  3.16253662109375\n",
      "Guess*Guess:  10.001637879759073\n",
      "Trying smaller guess\n",
      "Updated: Left: 3.1622314453125, Right: 3.16253662109375\n",
      "Left: 3.1622314453125, Right: 3.16253662109375\n",
      "Guess:  3.162384033203125\n",
      "Guess*Guess:  10.000672773458064\n",
      "Trying smaller guess\n",
      "Updated: Left: 3.1622314453125, Right: 3.162384033203125\n",
      "Left: 3.1622314453125, Right: 3.162384033203125\n",
      "Guess:  3.1623077392578125\n",
      "Guess*Guess:  10.000190237769857\n",
      "Trying smaller guess\n",
      "Updated: Left: 3.1622314453125, Right: 3.1623077392578125\n",
      "Left: 3.1622314453125, Right: 3.1623077392578125\n",
      "Guess:  3.1622695922851562\n",
      "Guess*Guess:  9.999948974291328\n",
      "Trying bigger guess\n",
      "Updated: Left: 3.1622695922851562, Right: 3.1623077392578125\n",
      "Left: 3.1622695922851562, Right: 3.1623077392578125\n",
      "Guess:  3.1622886657714844\n",
      "Guess*Guess:  10.000069605666795\n",
      "Trying smaller guess\n",
      "Updated: Left: 3.1622695922851562, Right: 3.1622886657714844\n",
      "Left: 3.1622695922851562, Right: 3.1622886657714844\n",
      "Guess:  3.1622791290283203\n",
      "Guess*Guess:  10.000009289888112\n",
      "Trying smaller guess\n",
      "Updated: Left: 3.1622695922851562, Right: 3.1622791290283203\n",
      "Left: 3.1622695922851562, Right: 3.1622791290283203\n",
      "Guess:  3.1622743606567383\n",
      "Guess*Guess:  9.999979132066983\n",
      "Trying bigger guess\n",
      "Updated: Left: 3.1622743606567383, Right: 3.1622791290283203\n",
      "Left: 3.1622743606567383, Right: 3.1622791290283203\n",
      "Guess:  3.1622767448425293\n",
      "Guess*Guess:  9.999994210971863\n",
      "Trying bigger guess\n",
      "Updated: Left: 3.1622767448425293, Right: 3.1622791290283203\n",
      "Left: 3.1622767448425293, Right: 3.1622791290283203\n",
      "Guess:  3.162277936935425\n",
      "Guess*Guess:  10.000001750428567\n",
      "Trying smaller guess\n",
      "Updated: Left: 3.1622767448425293, Right: 3.162277936935425\n",
      "Left: 3.1622767448425293, Right: 3.162277936935425\n",
      "Guess:  3.162277340888977\n",
      "Guess*Guess:  9.99999798069986\n",
      "Trying bigger guess\n",
      "Updated: Left: 3.162277340888977, Right: 3.162277936935425\n",
      "Left: 3.162277340888977, Right: 3.162277936935425\n",
      "Guess:  3.162277638912201\n",
      "Guess*Guess:  9.999999865564124\n",
      "Trying bigger guess\n",
      "Updated: Left: 3.162277638912201, Right: 3.162277936935425\n",
      "Left: 3.162277638912201, Right: 3.162277936935425\n",
      "Guess:  3.162277787923813\n",
      "Guess*Guess:  10.000000807996322\n",
      "Trying smaller guess\n",
      "Updated: Left: 3.162277638912201, Right: 3.162277787923813\n",
      "Left: 3.162277638912201, Right: 3.162277787923813\n",
      "Guess:  3.162277713418007\n",
      "Guess*Guess:  10.000000336780218\n",
      "Trying smaller guess\n",
      "Updated: Left: 3.162277638912201, Right: 3.162277713418007\n",
      "Left: 3.162277638912201, Right: 3.162277713418007\n",
      "Guess:  3.162277676165104\n",
      "Guess*Guess:  10.00000010117217\n",
      "Trying smaller guess\n",
      "Updated: Left: 3.162277638912201, Right: 3.162277676165104\n",
      "Left: 3.162277638912201, Right: 3.162277676165104\n",
      "Guess:  3.1622776575386524\n",
      "Guess*Guess:  9.999999983368147\n",
      "Trying bigger guess\n",
      "Updated: Left: 3.1622776575386524, Right: 3.162277676165104\n",
      "Left: 3.1622776575386524, Right: 3.162277676165104\n",
      "Guess:  3.162277666851878\n",
      "Guess*Guess:  10.000000042270159\n",
      "Trying smaller guess\n",
      "Updated: Left: 3.1622776575386524, Right: 3.162277666851878\n",
      "Left: 3.1622776575386524, Right: 3.162277666851878\n",
      "Guess:  3.1622776621952653\n",
      "Guess*Guess:  10.000000012819152\n",
      "Trying smaller guess\n",
      "Updated: Left: 3.1622776575386524, Right: 3.1622776621952653\n",
      "Left: 3.1622776575386524, Right: 3.1622776621952653\n",
      "Guess:  3.162277659866959\n",
      "Guess*Guess:  9.99999999809365\n",
      "We are done!\n"
     ]
    },
    {
     "data": {
      "text/plain": [
       "3.162277659866959"
      ]
     },
     "execution_count": 36,
     "metadata": {},
     "output_type": "execute_result"
    }
   ],
   "source": [
    "find_sqrt(10)"
   ]
  },
  {
   "cell_type": "markdown",
   "metadata": {},
   "source": [
    "All the above codes work just fine for numbers greater than 1. But they cannot find the square root correctly for numbers less than 1 because then they are negative numbers and numbers between 0 and 1."
   ]
  },
  {
   "cell_type": "code",
   "execution_count": 37,
   "metadata": {},
   "outputs": [
    {
     "data": {
      "text/plain": [
       "0.9486832980505138"
      ]
     },
     "execution_count": 37,
     "metadata": {},
     "output_type": "execute_result"
    }
   ],
   "source": [
    "import math\n",
    "math.sqrt(0.9)"
   ]
  },
  {
   "cell_type": "markdown",
   "metadata": {},
   "source": [
    "Thus, we have square root of 0.9 is greater than 0.9 itself and 0.9 < 1."
   ]
  },
  {
   "cell_type": "markdown",
   "metadata": {},
   "source": [
    "If number is 1, sqrt(1) = 1\n",
    "\n",
    "If number > 1, sqrt(number) < number\n",
    "\n",
    "If number < 1, sqrt(number) > number but < 1"
   ]
  },
  {
   "cell_type": "markdown",
   "metadata": {},
   "source": [
    "Q2: Write a python code to calculate the square root of any numbers that handles negative numbers as well as the special case of numbers 0 and 1 and numbers between them."
   ]
  },
  {
   "cell_type": "code",
   "execution_count": 42,
   "metadata": {},
   "outputs": [],
   "source": [
    "def mysqrt(number):\n",
    "    # this function handles negative numbers as well as the special cases of 0 and 1 and the numbers between them.\n",
    "    if number < 0:\n",
    "        return \"Cannot calculate the square root of a negative number.\"\n",
    "    \n",
    "    if number == 0:\n",
    "        return 0\n",
    "\n",
    "    if number == 1:\n",
    "        return 1\n",
    "    \n",
    "    left = 0\n",
    "    right = number\n",
    "    \n",
    "    if (number > 0 and number < 1):\n",
    "        right = 1\n",
    "    \n",
    "    tolerance = 1e-8\n",
    "    \n",
    "    while True:\n",
    "        guess = (left + right) / 2\n",
    "        difference = abs(guess * guess - number)\n",
    "        if difference < tolerance:\n",
    "            return guess\n",
    "\n",
    "        if guess * guess > number:\n",
    "            right = guess\n",
    "        else:\n",
    "            left = guess"
   ]
  },
  {
   "cell_type": "code",
   "execution_count": 43,
   "metadata": {},
   "outputs": [
    {
     "data": {
      "text/plain": [
       "'Cannot calculate the square root of a negative number.'"
      ]
     },
     "execution_count": 43,
     "metadata": {},
     "output_type": "execute_result"
    }
   ],
   "source": [
    "mysqrt(-3)"
   ]
  },
  {
   "cell_type": "code",
   "execution_count": 44,
   "metadata": {},
   "outputs": [
    {
     "data": {
      "text/plain": [
       "1"
      ]
     },
     "execution_count": 44,
     "metadata": {},
     "output_type": "execute_result"
    }
   ],
   "source": [
    "mysqrt(1)"
   ]
  },
  {
   "cell_type": "code",
   "execution_count": 45,
   "metadata": {},
   "outputs": [
    {
     "data": {
      "text/plain": [
       "0"
      ]
     },
     "execution_count": 45,
     "metadata": {},
     "output_type": "execute_result"
    }
   ],
   "source": [
    "mysqrt(0)"
   ]
  },
  {
   "cell_type": "code",
   "execution_count": 46,
   "metadata": {},
   "outputs": [
    {
     "data": {
      "text/plain": [
       "0.9486832991242409"
      ]
     },
     "execution_count": 46,
     "metadata": {},
     "output_type": "execute_result"
    }
   ],
   "source": [
    "mysqrt(0.9)"
   ]
  },
  {
   "cell_type": "code",
   "execution_count": 39,
   "metadata": {},
   "outputs": [
    {
     "data": {
      "text/plain": [
       "5.000000074505806"
      ]
     },
     "execution_count": 39,
     "metadata": {},
     "output_type": "execute_result"
    }
   ],
   "source": [
    "mysqrt(25)"
   ]
  },
  {
   "cell_type": "code",
   "execution_count": 47,
   "metadata": {},
   "outputs": [
    {
     "data": {
      "text/plain": [
       "0.9486832980505138"
      ]
     },
     "execution_count": 47,
     "metadata": {},
     "output_type": "execute_result"
    }
   ],
   "source": [
    "import math\n",
    "math.sqrt(0.9)"
   ]
  },
  {
   "cell_type": "code",
   "execution_count": null,
   "metadata": {},
   "outputs": [],
   "source": []
  }
 ],
 "metadata": {
  "kernelspec": {
   "display_name": "Python3.10",
   "language": "python",
   "name": "python3.10"
  },
  "language_info": {
   "codemirror_mode": {
    "name": "ipython",
    "version": 3
   },
   "file_extension": ".py",
   "mimetype": "text/x-python",
   "name": "python",
   "nbconvert_exporter": "python",
   "pygments_lexer": "ipython3",
   "version": "3.10.14"
  },
  "toc": {
   "base_numbering": 1,
   "nav_menu": {},
   "number_sections": true,
   "sideBar": true,
   "skip_h1_title": false,
   "title_cell": "Table of Contents",
   "title_sidebar": "Contents",
   "toc_cell": false,
   "toc_position": {},
   "toc_section_display": true,
   "toc_window_display": false
  }
 },
 "nbformat": 4,
 "nbformat_minor": 2
}
