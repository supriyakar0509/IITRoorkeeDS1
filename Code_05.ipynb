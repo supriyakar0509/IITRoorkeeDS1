{
 "cells": [
  {
   "cell_type": "markdown",
   "metadata": {},
   "source": [
    "# Pythagoras Theorem:"
   ]
  },
  {
   "cell_type": "markdown",
   "metadata": {},
   "source": [
    "**Q1: Pythagoras theorem: To calculate hypotenuse given base and height.**"
   ]
  },
  {
   "cell_type": "code",
   "execution_count": 1,
   "metadata": {},
   "outputs": [],
   "source": [
    "def mysqrt(number):\n",
    "    if number < 0:\n",
    "        return \"Cannot calculate the square root of a negative number.\"\n",
    "    if number == 0:\n",
    "        return 0\n",
    "    if number == 1:\n",
    "        return 1\n",
    "    left = 0\n",
    "    right = number\n",
    "    if (number > 0 and number < 1):\n",
    "        right = 1\n",
    "    tolerance = 1e-8\n",
    "    while True:\n",
    "        guess = (left + right) / 2\n",
    "        difference = abs(guess * guess - number)\n",
    "        if difference < tolerance:\n",
    "            return guess\n",
    "        if guess * guess > number:\n",
    "            right = guess\n",
    "        else:\n",
    "            left = guess\n"
   ]
  },
  {
   "cell_type": "code",
   "execution_count": 2,
   "metadata": {},
   "outputs": [],
   "source": [
    "def hypotenuse(base, height):\n",
    "    total = base**2 + height**2\n",
    "    hypotenuse = mysqrt(total)\n",
    "    return hypotenuse"
   ]
  },
  {
   "cell_type": "code",
   "execution_count": 3,
   "metadata": {},
   "outputs": [
    {
     "data": {
      "text/plain": [
       "5.000000000291038"
      ]
     },
     "execution_count": 3,
     "metadata": {},
     "output_type": "execute_result"
    }
   ],
   "source": [
    "hypotenuse(3,4)"
   ]
  },
  {
   "cell_type": "markdown",
   "metadata": {},
   "source": [
    "# Distance between two points"
   ]
  },
  {
   "cell_type": "markdown",
   "metadata": {},
   "source": [
    "**Q2: Calculate the 2D distance between two points (x1,y1) and (x2,y2).**"
   ]
  },
  {
   "cell_type": "code",
   "execution_count": 5,
   "metadata": {},
   "outputs": [],
   "source": [
    "def distance2D(point1, point2):\n",
    "     (x1,y1) = point1\n",
    "     (x2,y2) = point2 \n",
    "     total = (x1 - x2)**2 + (y1 - y2)**2\n",
    "     distance = mysqrt(total)\n",
    "     return distance"
   ]
  },
  {
   "cell_type": "code",
   "execution_count": 6,
   "metadata": {},
   "outputs": [
    {
     "data": {
      "text/plain": [
       "2.8284271247684956"
      ]
     },
     "execution_count": 6,
     "metadata": {},
     "output_type": "execute_result"
    }
   ],
   "source": [
    "distance2D((1,2), (3,4))"
   ]
  },
  {
   "cell_type": "code",
   "execution_count": 7,
   "metadata": {},
   "outputs": [
    {
     "data": {
      "text/plain": [
       "2.8284271247684956"
      ]
     },
     "execution_count": 7,
     "metadata": {},
     "output_type": "execute_result"
    }
   ],
   "source": [
    "mysqrt(8)"
   ]
  },
  {
   "cell_type": "markdown",
   "metadata": {},
   "source": [
    "**Q3: Calculate the distance between two points in 3D.**"
   ]
  },
  {
   "cell_type": "code",
   "execution_count": 8,
   "metadata": {},
   "outputs": [],
   "source": [
    "def distance3D(x1,y1,z1,x2,y2,z2):\n",
    "    delta1 = x2 - x1\n",
    "    delta2 = y2 - y1\n",
    "    delta3 = z2 - z1\n",
    "    total = delta1**2 + delta2**2 + delta3**2\n",
    "    distance = mysqrt(total)\n",
    "    return distance"
   ]
  },
  {
   "cell_type": "code",
   "execution_count": 9,
   "metadata": {},
   "outputs": [
    {
     "data": {
      "text/plain": [
       "8.66025403738604"
      ]
     },
     "execution_count": 9,
     "metadata": {},
     "output_type": "execute_result"
    }
   ],
   "source": [
    "distance3D(1,2,3,6,7,8)"
   ]
  },
  {
   "cell_type": "code",
   "execution_count": 10,
   "metadata": {},
   "outputs": [
    {
     "data": {
      "text/plain": [
       "8.66025403738604"
      ]
     },
     "execution_count": 10,
     "metadata": {},
     "output_type": "execute_result"
    }
   ],
   "source": [
    "mysqrt(75)"
   ]
  },
  {
   "cell_type": "markdown",
   "metadata": {},
   "source": [
    "**Q4: Calculate the distance between two points in N dimensions.**"
   ]
  },
  {
   "cell_type": "code",
   "execution_count": 11,
   "metadata": {},
   "outputs": [],
   "source": [
    "def distanceinNdimension(point1,point2):\n",
    "    if len(point1) != len(point2):\n",
    "        return \"Dimensions must be same!\"\n",
    "    sumofsquareddifference = 0\n",
    "    for i in range(len(point1)):\n",
    "        sumofsquareddifference += (point1[i] - point2[i])**2\n",
    "    distance = mysqrt(sumofsquareddifference)\n",
    "    return distance\n",
    "    "
   ]
  },
  {
   "cell_type": "code",
   "execution_count": 12,
   "metadata": {},
   "outputs": [
    {
     "data": {
      "text/plain": [
       "10.24695076601347"
      ]
     },
     "execution_count": 12,
     "metadata": {},
     "output_type": "execute_result"
    }
   ],
   "source": [
    "distanceinNdimension((1,2,3,4,5,6,7),(3,6,8,9,0,3,8))"
   ]
  },
  {
   "cell_type": "code",
   "execution_count": 13,
   "metadata": {},
   "outputs": [
    {
     "data": {
      "text/plain": [
       "'Dimensions must be same!'"
      ]
     },
     "execution_count": 13,
     "metadata": {},
     "output_type": "execute_result"
    }
   ],
   "source": [
    "distanceinNdimension((1,2,3,4,5,6,7),(3,6,8,9,0))"
   ]
  },
  {
   "cell_type": "code",
   "execution_count": null,
   "metadata": {},
   "outputs": [],
   "source": []
  }
 ],
 "metadata": {
  "kernelspec": {
   "display_name": "Python 3",
   "language": "python",
   "name": "python3"
  },
  "language_info": {
   "codemirror_mode": {
    "name": "ipython",
    "version": 3
   },
   "file_extension": ".py",
   "mimetype": "text/x-python",
   "name": "python",
   "nbconvert_exporter": "python",
   "pygments_lexer": "ipython3",
   "version": "3.6.8"
  },
  "toc": {
   "base_numbering": 1,
   "nav_menu": {},
   "number_sections": true,
   "sideBar": true,
   "skip_h1_title": false,
   "title_cell": "Table of Contents",
   "title_sidebar": "Contents",
   "toc_cell": false,
   "toc_position": {},
   "toc_section_display": true,
   "toc_window_display": false
  }
 },
 "nbformat": 4,
 "nbformat_minor": 5
}
