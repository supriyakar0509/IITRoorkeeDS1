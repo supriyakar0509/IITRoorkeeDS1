{
 "cells": [
  {
   "cell_type": "markdown",
   "metadata": {},
   "source": [
    "# Printing numbers:"
   ]
  },
  {
   "cell_type": "markdown",
   "metadata": {},
   "source": [
    "**Q1: Print all n digit numbers in base m or write a function to print all possible numbers of length n where each digit could go from 0 to m-1.**\n",
    "\n",
    "**Note:** Don't use https://docs.python.org/3/library/itertools.html\n",
    "\n",
    "      def generate(n,m):\n",
    "          <your code>\n",
    "\n",
    "\n",
    "Example:          \n",
    "\n",
    "generate(1, 3)\n",
    "\n",
    "Output:  \n",
    "        \n",
    "         0\n",
    "         1\n",
    "         2\n",
    "\n",
    "---------------\n",
    "generate(2, 2)\n",
    "\n",
    "Output:  \n",
    "         \n",
    "         00\n",
    "         01\n",
    "         10\n",
    "         11\n",
    "\n",
    "---\n",
    "generate(3, 3)\n",
    "\n",
    "Output: \n",
    "\n",
    "         000\n",
    "         001\n",
    "         002\n",
    "         010\n",
    "         011\n",
    "         012\n",
    "         020\n",
    "         021\n",
    "         022\n",
    "         100\n",
    "         101\n",
    "         102\n",
    "         110\n",
    "         111\n",
    "         112\n",
    "         120\n",
    "         121\n",
    "         122\n",
    "         200\n",
    "         201\n",
    "         202\n",
    "         210\n",
    "         211\n",
    "         212\n",
    "         220\n",
    "         221\n",
    "         222"
   ]
  },
  {
   "cell_type": "code",
   "execution_count": 1,
   "metadata": {},
   "outputs": [],
   "source": [
    "def generate_n_digitnumbersin_base_m(n, m):\n",
    "    if n == 0:\n",
    "        result = [\"\"]\n",
    "        return result\n",
    "    permutations = generate_n_digitnumbersin_base_m(n - 1, m)\n",
    "    result = []\n",
    "    for i in range(m):\n",
    "        for j in permutations:\n",
    "            result.append(str(i) + j)\n",
    "    return result"
   ]
  },
  {
   "cell_type": "code",
   "execution_count": 2,
   "metadata": {},
   "outputs": [
    {
     "data": {
      "text/plain": [
       "['000',\n",
       " '001',\n",
       " '002',\n",
       " '010',\n",
       " '011',\n",
       " '012',\n",
       " '020',\n",
       " '021',\n",
       " '022',\n",
       " '100',\n",
       " '101',\n",
       " '102',\n",
       " '110',\n",
       " '111',\n",
       " '112',\n",
       " '120',\n",
       " '121',\n",
       " '122',\n",
       " '200',\n",
       " '201',\n",
       " '202',\n",
       " '210',\n",
       " '211',\n",
       " '212',\n",
       " '220',\n",
       " '221',\n",
       " '222']"
      ]
     },
     "execution_count": 2,
     "metadata": {},
     "output_type": "execute_result"
    }
   ],
   "source": [
    "generate_n_digitnumbersin_base_m(3,3)"
   ]
  },
  {
   "cell_type": "code",
   "execution_count": 3,
   "metadata": {},
   "outputs": [
    {
     "data": {
      "text/plain": [
       "['00', '01', '10', '11']"
      ]
     },
     "execution_count": 3,
     "metadata": {},
     "output_type": "execute_result"
    }
   ],
   "source": [
    "generate_n_digitnumbersin_base_m(2,2)"
   ]
  },
  {
   "cell_type": "code",
   "execution_count": 4,
   "metadata": {},
   "outputs": [
    {
     "data": {
      "text/plain": [
       "['']"
      ]
     },
     "execution_count": 4,
     "metadata": {},
     "output_type": "execute_result"
    }
   ],
   "source": [
    "generate_n_digitnumbersin_base_m(0,3)"
   ]
  },
  {
   "cell_type": "code",
   "execution_count": 5,
   "metadata": {},
   "outputs": [
    {
     "data": {
      "text/plain": [
       "['0', '1', '2']"
      ]
     },
     "execution_count": 5,
     "metadata": {},
     "output_type": "execute_result"
    }
   ],
   "source": [
    "generate_n_digitnumbersin_base_m(1,3)"
   ]
  },
  {
   "cell_type": "markdown",
   "metadata": {},
   "source": [
    "# Permutations of a String:"
   ]
  },
  {
   "cell_type": "markdown",
   "metadata": {},
   "source": [
    "**Q2: Print all possible permutations of your name. Same length.**\n",
    "\n",
    "Example:  \n",
    "\n",
    "         def perms(s):\n",
    "             ...\n",
    "    \n",
    "Test case:   \n",
    "\n",
    "            perms(\"abc\")\n",
    "\n",
    "Output:\n",
    "            \n",
    "            abc\n",
    "            acb\n",
    "            bac\n",
    "            bca\n",
    "            cab\n",
    "            cba"
   ]
  },
  {
   "cell_type": "code",
   "execution_count": 6,
   "metadata": {},
   "outputs": [],
   "source": [
    "def perms(string):\n",
    "    if len(string) == 1:\n",
    "        return [string]  # Return a list containing the single-character string\n",
    "    else:\n",
    "        last = string[-1]\n",
    "        rest_perms = perms(string[:-1])\n",
    "        result = []\n",
    "        for perm in rest_perms:\n",
    "            for i in range(len(perm) + 1):\n",
    "                result.append(perm[:i] + last + perm[i:])\n",
    "        return result"
   ]
  },
  {
   "cell_type": "code",
   "execution_count": 7,
   "metadata": {},
   "outputs": [
    {
     "data": {
      "text/plain": [
       "['cba', 'bca', 'bac', 'cab', 'acb', 'abc']"
      ]
     },
     "execution_count": 7,
     "metadata": {},
     "output_type": "execute_result"
    }
   ],
   "source": [
    "perms('abc')"
   ]
  },
  {
   "cell_type": "code",
   "execution_count": 8,
   "metadata": {},
   "outputs": [
    {
     "data": {
      "text/plain": [
       "['airpuS',\n",
       " 'iarpuS',\n",
       " 'irapuS',\n",
       " 'irpauS',\n",
       " 'irpuaS',\n",
       " 'irpuSa',\n",
       " 'aripuS',\n",
       " 'raipuS',\n",
       " 'riapuS',\n",
       " 'ripauS',\n",
       " 'ripuaS',\n",
       " 'ripuSa',\n",
       " 'arpiuS',\n",
       " 'rapiuS',\n",
       " 'rpaiuS',\n",
       " 'rpiauS',\n",
       " 'rpiuaS',\n",
       " 'rpiuSa',\n",
       " 'arpuiS',\n",
       " 'rapuiS',\n",
       " 'rpauiS',\n",
       " 'rpuaiS',\n",
       " 'rpuiaS',\n",
       " 'rpuiSa',\n",
       " 'arpuSi',\n",
       " 'rapuSi',\n",
       " 'rpauSi',\n",
       " 'rpuaSi',\n",
       " 'rpuSai',\n",
       " 'rpuSia',\n",
       " 'aipruS',\n",
       " 'iapruS',\n",
       " 'iparuS',\n",
       " 'iprauS',\n",
       " 'ipruaS',\n",
       " 'ipruSa',\n",
       " 'apiruS',\n",
       " 'pairuS',\n",
       " 'piaruS',\n",
       " 'pirauS',\n",
       " 'piruaS',\n",
       " 'piruSa',\n",
       " 'apriuS',\n",
       " 'pariuS',\n",
       " 'praiuS',\n",
       " 'priauS',\n",
       " 'priuaS',\n",
       " 'priuSa',\n",
       " 'apruiS',\n",
       " 'paruiS',\n",
       " 'prauiS',\n",
       " 'pruaiS',\n",
       " 'pruiaS',\n",
       " 'pruiSa',\n",
       " 'apruSi',\n",
       " 'paruSi',\n",
       " 'prauSi',\n",
       " 'pruaSi',\n",
       " 'pruSai',\n",
       " 'pruSia',\n",
       " 'aipurS',\n",
       " 'iapurS',\n",
       " 'ipaurS',\n",
       " 'ipuarS',\n",
       " 'ipuraS',\n",
       " 'ipurSa',\n",
       " 'apiurS',\n",
       " 'paiurS',\n",
       " 'piaurS',\n",
       " 'piuarS',\n",
       " 'piuraS',\n",
       " 'piurSa',\n",
       " 'apuirS',\n",
       " 'pauirS',\n",
       " 'puairS',\n",
       " 'puiarS',\n",
       " 'puiraS',\n",
       " 'puirSa',\n",
       " 'apuriS',\n",
       " 'pauriS',\n",
       " 'puariS',\n",
       " 'puraiS',\n",
       " 'puriaS',\n",
       " 'puriSa',\n",
       " 'apurSi',\n",
       " 'paurSi',\n",
       " 'puarSi',\n",
       " 'puraSi',\n",
       " 'purSai',\n",
       " 'purSia',\n",
       " 'aipuSr',\n",
       " 'iapuSr',\n",
       " 'ipauSr',\n",
       " 'ipuaSr',\n",
       " 'ipuSar',\n",
       " 'ipuSra',\n",
       " 'apiuSr',\n",
       " 'paiuSr',\n",
       " 'piauSr',\n",
       " 'piuaSr',\n",
       " 'piuSar',\n",
       " 'piuSra',\n",
       " 'apuiSr',\n",
       " 'pauiSr',\n",
       " 'puaiSr',\n",
       " 'puiaSr',\n",
       " 'puiSar',\n",
       " 'puiSra',\n",
       " 'apuSir',\n",
       " 'pauSir',\n",
       " 'puaSir',\n",
       " 'puSair',\n",
       " 'puSiar',\n",
       " 'puSira',\n",
       " 'apuSri',\n",
       " 'pauSri',\n",
       " 'puaSri',\n",
       " 'puSari',\n",
       " 'puSrai',\n",
       " 'puSria',\n",
       " 'airupS',\n",
       " 'iarupS',\n",
       " 'iraupS',\n",
       " 'iruapS',\n",
       " 'irupaS',\n",
       " 'irupSa',\n",
       " 'ariupS',\n",
       " 'raiupS',\n",
       " 'riaupS',\n",
       " 'riuapS',\n",
       " 'riupaS',\n",
       " 'riupSa',\n",
       " 'aruipS',\n",
       " 'rauipS',\n",
       " 'ruaipS',\n",
       " 'ruiapS',\n",
       " 'ruipaS',\n",
       " 'ruipSa',\n",
       " 'arupiS',\n",
       " 'raupiS',\n",
       " 'ruapiS',\n",
       " 'rupaiS',\n",
       " 'rupiaS',\n",
       " 'rupiSa',\n",
       " 'arupSi',\n",
       " 'raupSi',\n",
       " 'ruapSi',\n",
       " 'rupaSi',\n",
       " 'rupSai',\n",
       " 'rupSia',\n",
       " 'aiurpS',\n",
       " 'iaurpS',\n",
       " 'iuarpS',\n",
       " 'iurapS',\n",
       " 'iurpaS',\n",
       " 'iurpSa',\n",
       " 'auirpS',\n",
       " 'uairpS',\n",
       " 'uiarpS',\n",
       " 'uirapS',\n",
       " 'uirpaS',\n",
       " 'uirpSa',\n",
       " 'auripS',\n",
       " 'uaripS',\n",
       " 'uraipS',\n",
       " 'uriapS',\n",
       " 'uripaS',\n",
       " 'uripSa',\n",
       " 'aurpiS',\n",
       " 'uarpiS',\n",
       " 'urapiS',\n",
       " 'urpaiS',\n",
       " 'urpiaS',\n",
       " 'urpiSa',\n",
       " 'aurpSi',\n",
       " 'uarpSi',\n",
       " 'urapSi',\n",
       " 'urpaSi',\n",
       " 'urpSai',\n",
       " 'urpSia',\n",
       " 'aiuprS',\n",
       " 'iauprS',\n",
       " 'iuaprS',\n",
       " 'iuparS',\n",
       " 'iupraS',\n",
       " 'iuprSa',\n",
       " 'auiprS',\n",
       " 'uaiprS',\n",
       " 'uiaprS',\n",
       " 'uiparS',\n",
       " 'uipraS',\n",
       " 'uiprSa',\n",
       " 'aupirS',\n",
       " 'uapirS',\n",
       " 'upairS',\n",
       " 'upiarS',\n",
       " 'upiraS',\n",
       " 'upirSa',\n",
       " 'aupriS',\n",
       " 'uapriS',\n",
       " 'upariS',\n",
       " 'upraiS',\n",
       " 'upriaS',\n",
       " 'upriSa',\n",
       " 'auprSi',\n",
       " 'uaprSi',\n",
       " 'uparSi',\n",
       " 'upraSi',\n",
       " 'uprSai',\n",
       " 'uprSia',\n",
       " 'aiupSr',\n",
       " 'iaupSr',\n",
       " 'iuapSr',\n",
       " 'iupaSr',\n",
       " 'iupSar',\n",
       " 'iupSra',\n",
       " 'auipSr',\n",
       " 'uaipSr',\n",
       " 'uiapSr',\n",
       " 'uipaSr',\n",
       " 'uipSar',\n",
       " 'uipSra',\n",
       " 'aupiSr',\n",
       " 'uapiSr',\n",
       " 'upaiSr',\n",
       " 'upiaSr',\n",
       " 'upiSar',\n",
       " 'upiSra',\n",
       " 'aupSir',\n",
       " 'uapSir',\n",
       " 'upaSir',\n",
       " 'upSair',\n",
       " 'upSiar',\n",
       " 'upSira',\n",
       " 'aupSri',\n",
       " 'uapSri',\n",
       " 'upaSri',\n",
       " 'upSari',\n",
       " 'upSrai',\n",
       " 'upSria',\n",
       " 'airuSp',\n",
       " 'iaruSp',\n",
       " 'irauSp',\n",
       " 'iruaSp',\n",
       " 'iruSap',\n",
       " 'iruSpa',\n",
       " 'ariuSp',\n",
       " 'raiuSp',\n",
       " 'riauSp',\n",
       " 'riuaSp',\n",
       " 'riuSap',\n",
       " 'riuSpa',\n",
       " 'aruiSp',\n",
       " 'rauiSp',\n",
       " 'ruaiSp',\n",
       " 'ruiaSp',\n",
       " 'ruiSap',\n",
       " 'ruiSpa',\n",
       " 'aruSip',\n",
       " 'rauSip',\n",
       " 'ruaSip',\n",
       " 'ruSaip',\n",
       " 'ruSiap',\n",
       " 'ruSipa',\n",
       " 'aruSpi',\n",
       " 'rauSpi',\n",
       " 'ruaSpi',\n",
       " 'ruSapi',\n",
       " 'ruSpai',\n",
       " 'ruSpia',\n",
       " 'aiurSp',\n",
       " 'iaurSp',\n",
       " 'iuarSp',\n",
       " 'iuraSp',\n",
       " 'iurSap',\n",
       " 'iurSpa',\n",
       " 'auirSp',\n",
       " 'uairSp',\n",
       " 'uiarSp',\n",
       " 'uiraSp',\n",
       " 'uirSap',\n",
       " 'uirSpa',\n",
       " 'auriSp',\n",
       " 'uariSp',\n",
       " 'uraiSp',\n",
       " 'uriaSp',\n",
       " 'uriSap',\n",
       " 'uriSpa',\n",
       " 'aurSip',\n",
       " 'uarSip',\n",
       " 'uraSip',\n",
       " 'urSaip',\n",
       " 'urSiap',\n",
       " 'urSipa',\n",
       " 'aurSpi',\n",
       " 'uarSpi',\n",
       " 'uraSpi',\n",
       " 'urSapi',\n",
       " 'urSpai',\n",
       " 'urSpia',\n",
       " 'aiuSrp',\n",
       " 'iauSrp',\n",
       " 'iuaSrp',\n",
       " 'iuSarp',\n",
       " 'iuSrap',\n",
       " 'iuSrpa',\n",
       " 'auiSrp',\n",
       " 'uaiSrp',\n",
       " 'uiaSrp',\n",
       " 'uiSarp',\n",
       " 'uiSrap',\n",
       " 'uiSrpa',\n",
       " 'auSirp',\n",
       " 'uaSirp',\n",
       " 'uSairp',\n",
       " 'uSiarp',\n",
       " 'uSirap',\n",
       " 'uSirpa',\n",
       " 'auSrip',\n",
       " 'uaSrip',\n",
       " 'uSarip',\n",
       " 'uSraip',\n",
       " 'uSriap',\n",
       " 'uSripa',\n",
       " 'auSrpi',\n",
       " 'uaSrpi',\n",
       " 'uSarpi',\n",
       " 'uSrapi',\n",
       " 'uSrpai',\n",
       " 'uSrpia',\n",
       " 'aiuSpr',\n",
       " 'iauSpr',\n",
       " 'iuaSpr',\n",
       " 'iuSapr',\n",
       " 'iuSpar',\n",
       " 'iuSpra',\n",
       " 'auiSpr',\n",
       " 'uaiSpr',\n",
       " 'uiaSpr',\n",
       " 'uiSapr',\n",
       " 'uiSpar',\n",
       " 'uiSpra',\n",
       " 'auSipr',\n",
       " 'uaSipr',\n",
       " 'uSaipr',\n",
       " 'uSiapr',\n",
       " 'uSipar',\n",
       " 'uSipra',\n",
       " 'auSpir',\n",
       " 'uaSpir',\n",
       " 'uSapir',\n",
       " 'uSpair',\n",
       " 'uSpiar',\n",
       " 'uSpira',\n",
       " 'auSpri',\n",
       " 'uaSpri',\n",
       " 'uSapri',\n",
       " 'uSpari',\n",
       " 'uSprai',\n",
       " 'uSpria',\n",
       " 'airpSu',\n",
       " 'iarpSu',\n",
       " 'irapSu',\n",
       " 'irpaSu',\n",
       " 'irpSau',\n",
       " 'irpSua',\n",
       " 'aripSu',\n",
       " 'raipSu',\n",
       " 'riapSu',\n",
       " 'ripaSu',\n",
       " 'ripSau',\n",
       " 'ripSua',\n",
       " 'arpiSu',\n",
       " 'rapiSu',\n",
       " 'rpaiSu',\n",
       " 'rpiaSu',\n",
       " 'rpiSau',\n",
       " 'rpiSua',\n",
       " 'arpSiu',\n",
       " 'rapSiu',\n",
       " 'rpaSiu',\n",
       " 'rpSaiu',\n",
       " 'rpSiau',\n",
       " 'rpSiua',\n",
       " 'arpSui',\n",
       " 'rapSui',\n",
       " 'rpaSui',\n",
       " 'rpSaui',\n",
       " 'rpSuai',\n",
       " 'rpSuia',\n",
       " 'aiprSu',\n",
       " 'iaprSu',\n",
       " 'iparSu',\n",
       " 'ipraSu',\n",
       " 'iprSau',\n",
       " 'iprSua',\n",
       " 'apirSu',\n",
       " 'pairSu',\n",
       " 'piarSu',\n",
       " 'piraSu',\n",
       " 'pirSau',\n",
       " 'pirSua',\n",
       " 'apriSu',\n",
       " 'pariSu',\n",
       " 'praiSu',\n",
       " 'priaSu',\n",
       " 'priSau',\n",
       " 'priSua',\n",
       " 'aprSiu',\n",
       " 'parSiu',\n",
       " 'praSiu',\n",
       " 'prSaiu',\n",
       " 'prSiau',\n",
       " 'prSiua',\n",
       " 'aprSui',\n",
       " 'parSui',\n",
       " 'praSui',\n",
       " 'prSaui',\n",
       " 'prSuai',\n",
       " 'prSuia',\n",
       " 'aipSru',\n",
       " 'iapSru',\n",
       " 'ipaSru',\n",
       " 'ipSaru',\n",
       " 'ipSrau',\n",
       " 'ipSrua',\n",
       " 'apiSru',\n",
       " 'paiSru',\n",
       " 'piaSru',\n",
       " 'piSaru',\n",
       " 'piSrau',\n",
       " 'piSrua',\n",
       " 'apSiru',\n",
       " 'paSiru',\n",
       " 'pSairu',\n",
       " 'pSiaru',\n",
       " 'pSirau',\n",
       " 'pSirua',\n",
       " 'apSriu',\n",
       " 'paSriu',\n",
       " 'pSariu',\n",
       " 'pSraiu',\n",
       " 'pSriau',\n",
       " 'pSriua',\n",
       " 'apSrui',\n",
       " 'paSrui',\n",
       " 'pSarui',\n",
       " 'pSraui',\n",
       " 'pSruai',\n",
       " 'pSruia',\n",
       " 'aipSur',\n",
       " 'iapSur',\n",
       " 'ipaSur',\n",
       " 'ipSaur',\n",
       " 'ipSuar',\n",
       " 'ipSura',\n",
       " 'apiSur',\n",
       " 'paiSur',\n",
       " 'piaSur',\n",
       " 'piSaur',\n",
       " 'piSuar',\n",
       " 'piSura',\n",
       " 'apSiur',\n",
       " 'paSiur',\n",
       " 'pSaiur',\n",
       " 'pSiaur',\n",
       " 'pSiuar',\n",
       " 'pSiura',\n",
       " 'apSuir',\n",
       " 'paSuir',\n",
       " 'pSauir',\n",
       " 'pSuair',\n",
       " 'pSuiar',\n",
       " 'pSuira',\n",
       " 'apSuri',\n",
       " 'paSuri',\n",
       " 'pSauri',\n",
       " 'pSuari',\n",
       " 'pSurai',\n",
       " 'pSuria',\n",
       " 'airSpu',\n",
       " 'iarSpu',\n",
       " 'iraSpu',\n",
       " 'irSapu',\n",
       " 'irSpau',\n",
       " 'irSpua',\n",
       " 'ariSpu',\n",
       " 'raiSpu',\n",
       " 'riaSpu',\n",
       " 'riSapu',\n",
       " 'riSpau',\n",
       " 'riSpua',\n",
       " 'arSipu',\n",
       " 'raSipu',\n",
       " 'rSaipu',\n",
       " 'rSiapu',\n",
       " 'rSipau',\n",
       " 'rSipua',\n",
       " 'arSpiu',\n",
       " 'raSpiu',\n",
       " 'rSapiu',\n",
       " 'rSpaiu',\n",
       " 'rSpiau',\n",
       " 'rSpiua',\n",
       " 'arSpui',\n",
       " 'raSpui',\n",
       " 'rSapui',\n",
       " 'rSpaui',\n",
       " 'rSpuai',\n",
       " 'rSpuia',\n",
       " 'aiSrpu',\n",
       " 'iaSrpu',\n",
       " 'iSarpu',\n",
       " 'iSrapu',\n",
       " 'iSrpau',\n",
       " 'iSrpua',\n",
       " 'aSirpu',\n",
       " 'Sairpu',\n",
       " 'Siarpu',\n",
       " 'Sirapu',\n",
       " 'Sirpau',\n",
       " 'Sirpua',\n",
       " 'aSripu',\n",
       " 'Saripu',\n",
       " 'Sraipu',\n",
       " 'Sriapu',\n",
       " 'Sripau',\n",
       " 'Sripua',\n",
       " 'aSrpiu',\n",
       " 'Sarpiu',\n",
       " 'Srapiu',\n",
       " 'Srpaiu',\n",
       " 'Srpiau',\n",
       " 'Srpiua',\n",
       " 'aSrpui',\n",
       " 'Sarpui',\n",
       " 'Srapui',\n",
       " 'Srpaui',\n",
       " 'Srpuai',\n",
       " 'Srpuia',\n",
       " 'aiSpru',\n",
       " 'iaSpru',\n",
       " 'iSapru',\n",
       " 'iSparu',\n",
       " 'iSprau',\n",
       " 'iSprua',\n",
       " 'aSipru',\n",
       " 'Saipru',\n",
       " 'Siapru',\n",
       " 'Siparu',\n",
       " 'Siprau',\n",
       " 'Siprua',\n",
       " 'aSpiru',\n",
       " 'Sapiru',\n",
       " 'Spairu',\n",
       " 'Spiaru',\n",
       " 'Spirau',\n",
       " 'Spirua',\n",
       " 'aSpriu',\n",
       " 'Sapriu',\n",
       " 'Spariu',\n",
       " 'Spraiu',\n",
       " 'Spriau',\n",
       " 'Spriua',\n",
       " 'aSprui',\n",
       " 'Saprui',\n",
       " 'Sparui',\n",
       " 'Spraui',\n",
       " 'Spruai',\n",
       " 'Spruia',\n",
       " 'aiSpur',\n",
       " 'iaSpur',\n",
       " 'iSapur',\n",
       " 'iSpaur',\n",
       " 'iSpuar',\n",
       " 'iSpura',\n",
       " 'aSipur',\n",
       " 'Saipur',\n",
       " 'Siapur',\n",
       " 'Sipaur',\n",
       " 'Sipuar',\n",
       " 'Sipura',\n",
       " 'aSpiur',\n",
       " 'Sapiur',\n",
       " 'Spaiur',\n",
       " 'Spiaur',\n",
       " 'Spiuar',\n",
       " 'Spiura',\n",
       " 'aSpuir',\n",
       " 'Sapuir',\n",
       " 'Spauir',\n",
       " 'Spuair',\n",
       " 'Spuiar',\n",
       " 'Spuira',\n",
       " 'aSpuri',\n",
       " 'Sapuri',\n",
       " 'Spauri',\n",
       " 'Spuari',\n",
       " 'Spurai',\n",
       " 'Spuria',\n",
       " 'airSup',\n",
       " 'iarSup',\n",
       " 'iraSup',\n",
       " 'irSaup',\n",
       " 'irSuap',\n",
       " 'irSupa',\n",
       " 'ariSup',\n",
       " 'raiSup',\n",
       " 'riaSup',\n",
       " 'riSaup',\n",
       " 'riSuap',\n",
       " 'riSupa',\n",
       " 'arSiup',\n",
       " 'raSiup',\n",
       " 'rSaiup',\n",
       " 'rSiaup',\n",
       " 'rSiuap',\n",
       " 'rSiupa',\n",
       " 'arSuip',\n",
       " 'raSuip',\n",
       " 'rSauip',\n",
       " 'rSuaip',\n",
       " 'rSuiap',\n",
       " 'rSuipa',\n",
       " 'arSupi',\n",
       " 'raSupi',\n",
       " 'rSaupi',\n",
       " 'rSuapi',\n",
       " 'rSupai',\n",
       " 'rSupia',\n",
       " 'aiSrup',\n",
       " 'iaSrup',\n",
       " 'iSarup',\n",
       " 'iSraup',\n",
       " 'iSruap',\n",
       " 'iSrupa',\n",
       " 'aSirup',\n",
       " 'Sairup',\n",
       " 'Siarup',\n",
       " 'Siraup',\n",
       " 'Siruap',\n",
       " 'Sirupa',\n",
       " 'aSriup',\n",
       " 'Sariup',\n",
       " 'Sraiup',\n",
       " 'Sriaup',\n",
       " 'Sriuap',\n",
       " 'Sriupa',\n",
       " 'aSruip',\n",
       " 'Saruip',\n",
       " 'Srauip',\n",
       " 'Sruaip',\n",
       " 'Sruiap',\n",
       " 'Sruipa',\n",
       " 'aSrupi',\n",
       " 'Sarupi',\n",
       " 'Sraupi',\n",
       " 'Sruapi',\n",
       " 'Srupai',\n",
       " 'Srupia',\n",
       " 'aiSurp',\n",
       " 'iaSurp',\n",
       " 'iSaurp',\n",
       " 'iSuarp',\n",
       " 'iSurap',\n",
       " 'iSurpa',\n",
       " 'aSiurp',\n",
       " 'Saiurp',\n",
       " 'Siaurp',\n",
       " 'Siuarp',\n",
       " 'Siurap',\n",
       " 'Siurpa',\n",
       " 'aSuirp',\n",
       " 'Sauirp',\n",
       " 'Suairp',\n",
       " 'Suiarp',\n",
       " 'Suirap',\n",
       " 'Suirpa',\n",
       " 'aSurip',\n",
       " 'Saurip',\n",
       " 'Suarip',\n",
       " 'Suraip',\n",
       " 'Suriap',\n",
       " 'Suripa',\n",
       " 'aSurpi',\n",
       " 'Saurpi',\n",
       " 'Suarpi',\n",
       " 'Surapi',\n",
       " 'Surpai',\n",
       " 'Surpia',\n",
       " 'aiSupr',\n",
       " 'iaSupr',\n",
       " 'iSaupr',\n",
       " 'iSuapr',\n",
       " 'iSupar',\n",
       " 'iSupra',\n",
       " 'aSiupr',\n",
       " 'Saiupr',\n",
       " 'Siaupr',\n",
       " 'Siuapr',\n",
       " 'Siupar',\n",
       " 'Siupra',\n",
       " 'aSuipr',\n",
       " 'Sauipr',\n",
       " 'Suaipr',\n",
       " 'Suiapr',\n",
       " 'Suipar',\n",
       " 'Suipra',\n",
       " 'aSupir',\n",
       " 'Saupir',\n",
       " 'Suapir',\n",
       " 'Supair',\n",
       " 'Supiar',\n",
       " 'Supira',\n",
       " 'aSupri',\n",
       " 'Saupri',\n",
       " 'Suapri',\n",
       " 'Supari',\n",
       " 'Suprai',\n",
       " 'Supria']"
      ]
     },
     "execution_count": 8,
     "metadata": {},
     "output_type": "execute_result"
    }
   ],
   "source": [
    "perms('Supria')"
   ]
  },
  {
   "cell_type": "markdown",
   "metadata": {},
   "source": [
    "# Predicting load on a website:"
   ]
  },
  {
   "cell_type": "markdown",
   "metadata": {},
   "source": [
    "**Q3: We need to predict the load on our website in near realtime.**\n",
    "\n",
    "     t = 0, load = 10\n",
    "     t = 1, load = 15\n",
    "     t = 2, load = 30\n",
    "     t = 3, load = ?\n",
    "     t = 4, load = ?\n",
    "\n",
    "**First write a method called fit(data) that returns a model and then write a method called predict(model, time) that returns the load**\n",
    "\n",
    "**It is known that the load on the website is a non-linear equation i.e. load = a*t^2 + b*t + c**\n",
    "\n",
    "**Start with pen and papers. Do it manually first and then come up with a strategy to do with code.**"
   ]
  },
  {
   "cell_type": "markdown",
   "metadata": {},
   "source": [
    "We are given a nonlinear relationship of the form:\n",
    "\n",
    "     load = at^2 +bt +c\n",
    "\n",
    "We are provided with the following data points:\n",
    "\n",
    "At t = 0, load = 10\n",
    "\n",
    "At t = 1, load = 15\n",
    "\n",
    "At t = 2, load = 30\n",
    "\n",
    "We can set up a system of equations to solve for a, b, and c:\n",
    "\n",
    "***Step 1: Manual System of Equations***\n",
    "\n",
    "From the data:\n",
    "\n",
    "    1. 10 = a(0)^2 + b(0) + c ⇒ c = 10\n",
    "\n",
    "    2. 15 = a(1)^2 + b(1) + 10 ⇒ 15 = a + b + 10 ⇒ a + b = 5\n",
    "     \n",
    "    3. 30 = a(2)^2 + b(2) + 10 ⇒ 30 = 4a + 2b + 10 ⇒ 4a + 2b = 20 ⇒ 2a + b = 10\n",
    "    \n",
    "Now we solve this system:\n",
    "\n",
    "    From (2):\n",
    "     \n",
    "    a + b = 5 ⇒ b = 5 − a\n",
    "    \n",
    "    Substitute into (3):\n",
    "    \n",
    "    2a + (5 − a) = 10 ⇒ a + 5 = 10 ⇒ a = 5, b = 0\n",
    "    \n",
    "So, the model is:\n",
    "\n",
    "     load(t) = 5t^2 + 10\n",
    "     \n",
    "***Step 2: Make Predictions***\n",
    "\n",
    "Now we compute:\n",
    "\n",
    "     load(3) = 5⋅3^2 + 10 = 45 + 10 = 55\n",
    "     \n",
    "     load(4) = 5⋅4^2 + 10 = 80 + 10 = 90\n",
    "\n",
    "***Step 3: Code Implementation***"
   ]
  },
  {
   "cell_type": "code",
   "execution_count": 36,
   "metadata": {},
   "outputs": [],
   "source": [
    "def fit(data):\n",
    "    \n",
    "    # We assume data has exactly 3 points\n",
    "    (t0, load0), (t1, load1), (t2, load2) = data\n",
    "    \n",
    "    # Set up equations:\n",
    "    # load = a*t^2 + b*t + c\n",
    "    \n",
    "     # Equation 1\n",
    "    eqn1 = [t0**2, t0, 1]\n",
    "    # Equation 2\n",
    "    eqn2 = [t1**2, t1, 1]\n",
    "    # Equation 3\n",
    "    eqn3 = [t2**2, t2, 1]\n",
    "        \n",
    "    # We can solve using direct substitution\n",
    "\n",
    "    # From equation at t=0, we get:\n",
    "    # load0 = a*0 + b*0 + c => c = load0\n",
    "    c = load0\n",
    "    \n",
    "    # Now use the other two equations to solve for a and b\n",
    "    # load1 = a*t1^2 + b*t1 + c\n",
    "    # load2 = a*t2^2 + b*t2 + c\n",
    "    # Subtract c from both sides\n",
    "    load1c = load1 - c\n",
    "    load2c = load2 - c\n",
    "    \n",
    "    # Solve the system:\n",
    "    # load1c = a*t1^2 + b*t1\n",
    "    # load2c = a*t2^2 + b*t2\n",
    "    \n",
    "    # Now solve using substitution or elimination\n",
    "    # Multiply first by t2, second by t1, and subtract to eliminate b\n",
    "    A = t1**2\n",
    "    B = t1\n",
    "    C = load1c\n",
    "\n",
    "    D = t2**2\n",
    "    E = t2\n",
    "    F = load2c\n",
    "    \n",
    "    # Eliminate b:\n",
    "    # (A*E - D*B)a = C*E - F*B\n",
    "    denominator = A * E - D * B\n",
    "    numerator = C * E - F * B\n",
    "    \n",
    "    a = numerator / denominator\n",
    "    b = (C - a * A) / B\n",
    "\n",
    "    return (a, b, c) \n",
    "\n",
    "\n",
    "def predict(model, t):\n",
    "    a, b, c = model\n",
    "    return a * t**2 + b * t + c"
   ]
  },
  {
   "cell_type": "code",
   "execution_count": 37,
   "metadata": {},
   "outputs": [],
   "source": [
    "data = [(0, 10), (1, 15), (2, 30)]\n",
    "model = fit(data)"
   ]
  },
  {
   "cell_type": "code",
   "execution_count": 38,
   "metadata": {},
   "outputs": [
    {
     "data": {
      "text/plain": [
       "55.0"
      ]
     },
     "execution_count": 38,
     "metadata": {},
     "output_type": "execute_result"
    }
   ],
   "source": [
    "predict(model, 3)"
   ]
  },
  {
   "cell_type": "code",
   "execution_count": 39,
   "metadata": {},
   "outputs": [
    {
     "data": {
      "text/plain": [
       "90.0"
      ]
     },
     "execution_count": 39,
     "metadata": {},
     "output_type": "execute_result"
    }
   ],
   "source": [
    "predict(model, 4)"
   ]
  },
  {
   "cell_type": "markdown",
   "metadata": {},
   "source": [
    "# Recursion Problems:"
   ]
  },
  {
   "cell_type": "markdown",
   "metadata": {},
   "source": [
    "**Q4: Design integer multiplication. Don't use '*\" operator or other library functions for multiplications instead use recursion.**\n",
    "\n",
    "In the following signature of the function, n and m are both integers:\n",
    "\n",
    "        def mul(n, m):\n",
    "            # Your code goes here.\n",
    "            return result\n",
    "\n",
    "**Hint:** We can say,\n",
    "\n",
    "mul(n, m) = m + m + m ... n times\n",
    "\n",
    "therefore, mul(n, m) = m + mul(n-1, m)\n"
   ]
  },
  {
   "cell_type": "code",
   "execution_count": 15,
   "metadata": {},
   "outputs": [],
   "source": [
    "def mul(n,m):\n",
    "    result = 0\n",
    "    for i in range(n):\n",
    "        result = m + mul(n - 1,m)\n",
    "    return result"
   ]
  },
  {
   "cell_type": "code",
   "execution_count": 16,
   "metadata": {},
   "outputs": [
    {
     "data": {
      "text/plain": [
       "6"
      ]
     },
     "execution_count": 16,
     "metadata": {},
     "output_type": "execute_result"
    }
   ],
   "source": [
    "mul(2,3)"
   ]
  },
  {
   "cell_type": "code",
   "execution_count": 17,
   "metadata": {},
   "outputs": [
    {
     "data": {
      "text/plain": [
       "6"
      ]
     },
     "execution_count": 17,
     "metadata": {},
     "output_type": "execute_result"
    }
   ],
   "source": [
    "mul(3,2)"
   ]
  },
  {
   "cell_type": "code",
   "execution_count": 18,
   "metadata": {},
   "outputs": [
    {
     "data": {
      "text/plain": [
       "72"
      ]
     },
     "execution_count": 18,
     "metadata": {},
     "output_type": "execute_result"
    }
   ],
   "source": [
    "mul(8,9)"
   ]
  },
  {
   "cell_type": "code",
   "execution_count": 19,
   "metadata": {},
   "outputs": [
    {
     "data": {
      "text/plain": [
       "48"
      ]
     },
     "execution_count": 19,
     "metadata": {},
     "output_type": "execute_result"
    }
   ],
   "source": [
    "mul(6,8)"
   ]
  },
  {
   "cell_type": "markdown",
   "metadata": {},
   "source": [
    "**Q5: Design your own pow_int(n,m) which does n to the power m , where m is an integer, using recursion. Do not use the python operator ** or any other library function for power.**\n",
    "\n",
    "         def pow_int(n, m):\n",
    "             # Your code goes here\n",
    "             return result\n",
    "            \n",
    "Example test cases:\n",
    "         \n",
    "         Input: power(2, 3)\n",
    "         Output:    8\n",
    "         \n",
    "         Input: power(3, 2)\n",
    "         Output:    9\n",
    "\n",
    "         Input: power(5, 0)\n",
    "         Output:    1\n",
    "         \n",
    "         Input: power(0, 5)\n",
    "         Output:    0\n",
    "         \n",
    "         Input: power(0, 0)\n",
    "         Output:    1"
   ]
  },
  {
   "cell_type": "code",
   "execution_count": 20,
   "metadata": {},
   "outputs": [],
   "source": [
    "def pow_int(n,m):\n",
    "    result = 0\n",
    "    if m == 0:\n",
    "        return 1\n",
    "    elif m < 0:\n",
    "        return 1/pow_int(n, -m)\n",
    "    else:\n",
    "        for i in range(m):\n",
    "            result = n * pow_int(n, m - 1)\n",
    "    return result"
   ]
  },
  {
   "cell_type": "code",
   "execution_count": 21,
   "metadata": {},
   "outputs": [
    {
     "data": {
      "text/plain": [
       "8"
      ]
     },
     "execution_count": 21,
     "metadata": {},
     "output_type": "execute_result"
    }
   ],
   "source": [
    "pow_int(2, 3)"
   ]
  },
  {
   "cell_type": "code",
   "execution_count": 22,
   "metadata": {},
   "outputs": [
    {
     "data": {
      "text/plain": [
       "-8"
      ]
     },
     "execution_count": 22,
     "metadata": {},
     "output_type": "execute_result"
    }
   ],
   "source": [
    "pow_int(-2,3)"
   ]
  },
  {
   "cell_type": "code",
   "execution_count": 23,
   "metadata": {},
   "outputs": [
    {
     "data": {
      "text/plain": [
       "0.125"
      ]
     },
     "execution_count": 23,
     "metadata": {},
     "output_type": "execute_result"
    }
   ],
   "source": [
    "pow_int(2, -3)"
   ]
  },
  {
   "cell_type": "markdown",
   "metadata": {},
   "source": [
    "**Q6: Design division**\n",
    "\n",
    "     def divide(n, m): # n/m, return quotient, remainder\n",
    "         # Your code\n",
    "         return result, remainder\n",
    "**Example test case:**\n",
    "\n",
    "        Input:      divide(21, 5)\n",
    "        Output:     (4, 1)"
   ]
  },
  {
   "cell_type": "code",
   "execution_count": 24,
   "metadata": {},
   "outputs": [],
   "source": [
    "def divide(n, m): # n/m\n",
    "    if n < m:\n",
    "        return 0, n\n",
    "    if n == m:\n",
    "        return 1, 0\n",
    "    result, remainder = divide(n-m, m)\n",
    "    return result + 1, remainder"
   ]
  },
  {
   "cell_type": "code",
   "execution_count": 25,
   "metadata": {},
   "outputs": [
    {
     "data": {
      "text/plain": [
       "(3, 0)"
      ]
     },
     "execution_count": 25,
     "metadata": {},
     "output_type": "execute_result"
    }
   ],
   "source": [
    "divide(6,2)"
   ]
  },
  {
   "cell_type": "code",
   "execution_count": 26,
   "metadata": {},
   "outputs": [
    {
     "data": {
      "text/plain": [
       "(1, 2)"
      ]
     },
     "execution_count": 26,
     "metadata": {},
     "output_type": "execute_result"
    }
   ],
   "source": [
    "divide(7,5)"
   ]
  },
  {
   "cell_type": "markdown",
   "metadata": {},
   "source": [
    "# Fibonacci numbers:"
   ]
  },
  {
   "cell_type": "markdown",
   "metadata": {},
   "source": [
    "**Q7:  Write a code to print the fibonacci series: 0 1 1 2 3 5 8 13.**\n",
    "     \n",
    "  See https://en.wikipedia.org/wiki/Fibonacci_sequence"
   ]
  },
  {
   "cell_type": "code",
   "execution_count": 27,
   "metadata": {},
   "outputs": [],
   "source": [
    "def printnfibonaccinumbers(n):\n",
    "    result = []\n",
    "    x1 = 0\n",
    "    x2 = 1\n",
    "    \n",
    "    if n <= 0:\n",
    "        return result\n",
    "    if n >= 1:\n",
    "        result.append(x1)\n",
    "    if n >= 2:\n",
    "        result.append(x2)\n",
    "    for i in range(3, n + 1):\n",
    "        next_fib = x1 + x2\n",
    "        result.append(next_fib)\n",
    "        x1 = x2\n",
    "        x2 = next_fib\n",
    "    return result"
   ]
  },
  {
   "cell_type": "code",
   "execution_count": 28,
   "metadata": {},
   "outputs": [
    {
     "data": {
      "text/plain": [
       "[0]"
      ]
     },
     "execution_count": 28,
     "metadata": {},
     "output_type": "execute_result"
    }
   ],
   "source": [
    "printnfibonaccinumbers(1)"
   ]
  },
  {
   "cell_type": "code",
   "execution_count": 29,
   "metadata": {},
   "outputs": [
    {
     "data": {
      "text/plain": [
       "[0, 1]"
      ]
     },
     "execution_count": 29,
     "metadata": {},
     "output_type": "execute_result"
    }
   ],
   "source": [
    "printnfibonaccinumbers(2)"
   ]
  },
  {
   "cell_type": "code",
   "execution_count": 30,
   "metadata": {},
   "outputs": [
    {
     "data": {
      "text/plain": [
       "[0, 1, 1, 2, 3, 5, 8, 13, 21, 34]"
      ]
     },
     "execution_count": 30,
     "metadata": {},
     "output_type": "execute_result"
    }
   ],
   "source": [
    "printnfibonaccinumbers(10)"
   ]
  },
  {
   "cell_type": "markdown",
   "metadata": {},
   "source": [
    "# Decimal Division:"
   ]
  },
  {
   "cell_type": "markdown",
   "metadata": {},
   "source": [
    "**Q8: Write a python code to perform division between two numbers which handles decimal numbers as well as the special case of dividing by 0 - use binary search.**"
   ]
  },
  {
   "cell_type": "code",
   "execution_count": 31,
   "metadata": {},
   "outputs": [],
   "source": [
    "def divide_decimal(dividend, divisor):\n",
    "    precision = 1e-6\n",
    "    if divisor == 0:\n",
    "        return \"Error: Cannot divide by 0!\"\n",
    "        \n",
    "    negativeresult = (dividend < 0) != (divisor < 0)\n",
    "    dividend = abs(dividend)\n",
    "    divisor = abs(divisor)\n",
    "    \n",
    "    low = 0.0\n",
    "    high = dividend if dividend >= divisor else 1.0\n",
    "    \n",
    "    while high - low > precision:\n",
    "        mid = (high + low)/2\n",
    "        \n",
    "        if mid * divisor < dividend:\n",
    "            low = mid\n",
    "        else:\n",
    "            high = mid\n",
    "        \n",
    "    result = mid\n",
    "    return -result if negativeresult else result"
   ]
  },
  {
   "cell_type": "code",
   "execution_count": 32,
   "metadata": {},
   "outputs": [
    {
     "data": {
      "text/plain": [
       "0.28571414947509766"
      ]
     },
     "execution_count": 32,
     "metadata": {},
     "output_type": "execute_result"
    }
   ],
   "source": [
    "divide_decimal(2.0, 7.0)"
   ]
  },
  {
   "cell_type": "code",
   "execution_count": 33,
   "metadata": {},
   "outputs": [
    {
     "data": {
      "text/plain": [
       "-47.71428598091006"
      ]
     },
     "execution_count": 33,
     "metadata": {},
     "output_type": "execute_result"
    }
   ],
   "source": [
    "divide_decimal(-167.0, 3.5)"
   ]
  },
  {
   "cell_type": "code",
   "execution_count": 34,
   "metadata": {},
   "outputs": [
    {
     "data": {
      "text/plain": [
       "-10.000000640749931"
      ]
     },
     "execution_count": 34,
     "metadata": {},
     "output_type": "execute_result"
    }
   ],
   "source": [
    "divide_decimal(67,-6.7)"
   ]
  },
  {
   "cell_type": "code",
   "execution_count": 35,
   "metadata": {},
   "outputs": [
    {
     "data": {
      "text/plain": [
       "5.000000447034836"
      ]
     },
     "execution_count": 35,
     "metadata": {},
     "output_type": "execute_result"
    }
   ],
   "source": [
    "divide_decimal(-50, -10)"
   ]
  },
  {
   "cell_type": "code",
   "execution_count": null,
   "metadata": {},
   "outputs": [],
   "source": []
  }
 ],
 "metadata": {
  "kernelspec": {
   "display_name": "Python3.10",
   "language": "python",
   "name": "python3.10"
  },
  "language_info": {
   "codemirror_mode": {
    "name": "ipython",
    "version": 3
   },
   "file_extension": ".py",
   "mimetype": "text/x-python",
   "name": "python",
   "nbconvert_exporter": "python",
   "pygments_lexer": "ipython3",
   "version": "3.10.14"
  },
  "toc": {
   "base_numbering": 1,
   "nav_menu": {},
   "number_sections": true,
   "sideBar": true,
   "skip_h1_title": false,
   "title_cell": "Table of Contents",
   "title_sidebar": "Contents",
   "toc_cell": false,
   "toc_position": {},
   "toc_section_display": true,
   "toc_window_display": false
  }
 },
 "nbformat": 4,
 "nbformat_minor": 2
}
