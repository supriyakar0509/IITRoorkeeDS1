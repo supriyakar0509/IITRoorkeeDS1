{
 "cells": [
  {
   "cell_type": "markdown",
   "metadata": {},
   "source": [
    "# Mean Absolute Error and Mean Squared Error:"
   ]
  },
  {
   "cell_type": "markdown",
   "metadata": {},
   "source": [
    "**Q1: You are given two lists of numbers: Actual and Predicted. First code up Mean Absolute Error (MAE) and then the Mean Squared Error (MSE).**\n",
    "\n",
    "     def mean_squared_error(actual, predicted):\n",
    "         # your code\n",
    "\n",
    "    def mean_absolute_error(actual, predicted):\n",
    "        # your code"
   ]
  },
  {
   "cell_type": "code",
   "execution_count": 1,
   "metadata": {},
   "outputs": [],
   "source": [
    "def mean_absolute_error(actual, predicted):\n",
    "    total_error = 0\n",
    "    n = 0\n",
    "    while n < len(actual):\n",
    "        error = actual[n] - predicted[n]\n",
    "        if error < 0:\n",
    "            error = -error  # absolute value\n",
    "        total_error += error\n",
    "        n += 1\n",
    "    return total_error / len(actual)\n",
    "\n",
    "def mean_squared_error(actual, predicted):\n",
    "    total_error = 0\n",
    "    i = 0\n",
    "    while i < len(actual):\n",
    "        diff = actual[i] - predicted[i]\n",
    "        total_error += diff * diff\n",
    "        i += 1\n",
    "    return total_error / len(actual)\n"
   ]
  },
  {
   "cell_type": "code",
   "execution_count": 2,
   "metadata": {},
   "outputs": [],
   "source": [
    "actual = [3, -0.5, 2, 7]\n",
    "predicted = [2.5, 0.0, 2, 8]"
   ]
  },
  {
   "cell_type": "code",
   "execution_count": 3,
   "metadata": {},
   "outputs": [
    {
     "data": {
      "text/plain": [
       "0.5"
      ]
     },
     "execution_count": 3,
     "metadata": {},
     "output_type": "execute_result"
    }
   ],
   "source": [
    "mean_absolute_error(actual, predicted)"
   ]
  },
  {
   "cell_type": "code",
   "execution_count": 4,
   "metadata": {},
   "outputs": [
    {
     "data": {
      "text/plain": [
       "0.375"
      ]
     },
     "execution_count": 4,
     "metadata": {},
     "output_type": "execute_result"
    }
   ],
   "source": [
    "mean_squared_error(actual, predicted)"
   ]
  },
  {
   "cell_type": "markdown",
   "metadata": {},
   "source": [
    "**Q2: Come up with your own formula to compare the MAE and MSE.**"
   ]
  },
  {
   "cell_type": "code",
   "execution_count": 5,
   "metadata": {},
   "outputs": [],
   "source": [
    "def custom_error_score(actual, predicted, alpha=0.5):\n",
    "    mae = mean_absolute_error(actual, predicted)\n",
    "    mse = mean_squared_error(actual, predicted)\n",
    "    \n",
    "    # Compute square root of MSE manually\n",
    "    rmse = mse ** 0.5\n",
    "\n",
    "    return alpha * mae + (1 - alpha) * rmse\n"
   ]
  },
  {
   "cell_type": "code",
   "execution_count": 6,
   "metadata": {},
   "outputs": [],
   "source": [
    "actual = [3, -0.5, 2, 7]\n",
    "predicted = [2.5, 0.0, 2, 8]"
   ]
  },
  {
   "cell_type": "code",
   "execution_count": 7,
   "metadata": {},
   "outputs": [
    {
     "data": {
      "text/plain": [
       "0.5561862178478972"
      ]
     },
     "execution_count": 7,
     "metadata": {},
     "output_type": "execute_result"
    }
   ],
   "source": [
    "custom_error_score(actual, predicted, 0.5)"
   ]
  },
  {
   "cell_type": "markdown",
   "metadata": {},
   "source": [
    "# KNN: K- nearest neighbor"
   ]
  },
  {
   "cell_type": "markdown",
   "metadata": {},
   "source": [
    "**Q3: Code knn or k-nearest neighbor:**\n",
    "\n",
    "    def knn(data, x):\n",
    "        # Your code\n",
    "        return y\n",
    "\n",
    "train_data = [[1,10], [2, 20], [3, 30], [10, 110]]  #(x=1, y=10; x=2, y=20)\n",
    "\n",
    "> knn(train_data, 1)\n",
    "\n",
    "     10\n",
    "\n",
    "> knn(train_data, 1.3)\n",
    "\n",
    "     10\n",
    "\n",
    "\n",
    "> knn(train_data, 9)\n",
    "\n",
    "     200"
   ]
  },
  {
   "cell_type": "code",
   "execution_count": 8,
   "metadata": {},
   "outputs": [],
   "source": [
    "def knn(data, x):\n",
    "    min_dist = None\n",
    "    closest_y = None\n",
    "    i = 0\n",
    "    while i < len(data):\n",
    "        x_i = data[i][0]\n",
    "        y_i = data[i][1]\n",
    "        dist = x - x_i\n",
    "        if dist < 0:\n",
    "            dist = -dist  # absolute value\n",
    "\n",
    "        if (min_dist is None) or (dist < min_dist):\n",
    "            min_dist = dist\n",
    "            closest_y = y_i\n",
    "        i += 1\n",
    "    return closest_y\n"
   ]
  },
  {
   "cell_type": "code",
   "execution_count": 9,
   "metadata": {},
   "outputs": [],
   "source": [
    "train_data = [[1,10], [2,20], [3,30], [10,200]]"
   ]
  },
  {
   "cell_type": "code",
   "execution_count": 10,
   "metadata": {},
   "outputs": [
    {
     "data": {
      "text/plain": [
       "10"
      ]
     },
     "execution_count": 10,
     "metadata": {},
     "output_type": "execute_result"
    }
   ],
   "source": [
    "knn(train_data, 1)"
   ]
  },
  {
   "cell_type": "code",
   "execution_count": 11,
   "metadata": {},
   "outputs": [
    {
     "data": {
      "text/plain": [
       "10"
      ]
     },
     "execution_count": 11,
     "metadata": {},
     "output_type": "execute_result"
    }
   ],
   "source": [
    "knn(train_data, 1.3)"
   ]
  },
  {
   "cell_type": "code",
   "execution_count": 12,
   "metadata": {},
   "outputs": [
    {
     "data": {
      "text/plain": [
       "200"
      ]
     },
     "execution_count": 12,
     "metadata": {},
     "output_type": "execute_result"
    }
   ],
   "source": [
    "knn(train_data, 9)"
   ]
  },
  {
   "cell_type": "markdown",
   "metadata": {},
   "source": [
    "**Q4: Compute the MAE and MSE of KNN on the train_data as above and test_data:** [[3,4], [9, 100], [5, 55]]\n",
    "\n",
    "**Hint:** for x, y in test_data: y_predicted = knn(train_data)\n",
    "\n",
    "**Based on y and y_predicted compute total MAE and MSE.**"
   ]
  },
  {
   "cell_type": "code",
   "execution_count": 14,
   "metadata": {},
   "outputs": [],
   "source": [
    "train_data = [[1,10], [2,20], [3,30], [10,200]]\n",
    "test_data = [[3,4], [9,100], [5,55]]"
   ]
  },
  {
   "cell_type": "code",
   "execution_count": 15,
   "metadata": {},
   "outputs": [],
   "source": [
    "i = 0\n",
    "actual = []\n",
    "predicted = []\n",
    "while i < len(test_data):\n",
    "    x = test_data[i][0]\n",
    "    y = test_data[i][1]\n",
    "    y_pred = knn(train_data, x)\n",
    "    actual.append(y)\n",
    "    predicted.append(y_pred)\n",
    "    i += 1\n"
   ]
  },
  {
   "cell_type": "code",
   "execution_count": 16,
   "metadata": {},
   "outputs": [],
   "source": [
    "mae = mean_absolute_error(actual, predicted)\n",
    "mse = mean_squared_error(actual, predicted)"
   ]
  },
  {
   "cell_type": "code",
   "execution_count": 17,
   "metadata": {},
   "outputs": [
    {
     "name": "stdout",
     "output_type": "stream",
     "text": [
      "Predicted: [30, 200, 30]\n",
      "Actual   : [4, 100, 55]\n",
      "MAE: 50.333333333333336\n",
      "MSE: 3767.0\n"
     ]
    }
   ],
   "source": [
    "print(\"Predicted:\", predicted)\n",
    "print(\"Actual   :\", actual)\n",
    "print(\"MAE:\", mae)\n",
    "print(\"MSE:\", mse)"
   ]
  },
  {
   "cell_type": "markdown",
   "metadata": {},
   "source": [
    "**Q5: Visually plot the data using https://www.desmos.com/calculator, and try to come up with an approximate stratight line for the train_data mentioned above. For approximate model i.e. m and c. See: https://www.desmos.com/calculator/evjsqo2dv8**\n",
    "\n",
    "**Now, find out the MAE and MSE of this model.**"
   ]
  },
  {
   "cell_type": "markdown",
   "metadata": {},
   "source": [
    "We plot the points:\n",
    "\n",
    "(1, 10), (2, 20), (3, 30), (10, 200)\n",
    "\n",
    "We try fitting a straight line y = mx + c. From visual inspection, a good approximate line is:\n",
    "\n",
    "y = 20x − 10\n",
    "\n",
    "Now, we'll predict values for test data:\n",
    "\n",
    "test_data = [[3, 4], [9, 100], [5, 55]]\n",
    "\n",
    "Model: y = 20x - 10\n",
    "\n",
    "Predictions:\n",
    "\n",
    "x = 3 → y = 20(3) - 10 = 50\n",
    "\n",
    "x = 9 → y = 20(9) - 10 = 170\n",
    "\n",
    "x = 5 → y = 20(5) - 10 = 90\n",
    "\n",
    "Actual:\n",
    "\n",
    "[4, 100, 55]\n",
    "\n",
    "Computing MAE and MSE:\n",
    "\n",
    "Absolute errors:\n",
    "\n",
    "|4 - 50| = 46\n",
    "\n",
    "|100 - 170| = 70\n",
    "\n",
    "|55 - 90| = 35\n",
    "\n",
    "MAE = (46+70+35)/3 = 151/3 ≈ 50.33\n",
    "\n",
    "Squared errors:\n",
    "\n",
    "(4 - 50)² = 2116\n",
    "\n",
    "(100 - 170)² = 4900\n",
    "\n",
    "(55 - 90)² = 1225\n",
    "\n",
    "MSE = (2116+4900+1225)/3 = 8241/3 ≈ 2747\n",
    "\n",
    "Final Evaluation of Line y = 20x - 10:\n",
    "\n",
    "MAE ≈ 50.33\n",
    "\n",
    "MSE ≈ 2747\n",
    "\n",
    "This line model gives a lower MSE than KNN in our previous test (KNN's MSE ≈ 3733.67), though both had the same MAE."
   ]
  },
  {
   "cell_type": "markdown",
   "metadata": {},
   "source": [
    "**Q6:  Compare and discuss the results of KNN and linear model based on the two errors.**"
   ]
  },
  {
   "cell_type": "markdown",
   "metadata": {},
   "source": [
    "MAE is the same: Both make similar average-size errors.\n",
    "\n",
    "MSE is lower for linear model: This means KNN has larger outliers or inconsistent predictions.\n",
    "\n",
    "In other words, KNN is more sensitive to outliers."
   ]
  },
  {
   "cell_type": "code",
   "execution_count": null,
   "metadata": {},
   "outputs": [],
   "source": []
  }
 ],
 "metadata": {
  "kernelspec": {
   "display_name": "Python3.10",
   "language": "python",
   "name": "python3.10"
  },
  "language_info": {
   "codemirror_mode": {
    "name": "ipython",
    "version": 3
   },
   "file_extension": ".py",
   "mimetype": "text/x-python",
   "name": "python",
   "nbconvert_exporter": "python",
   "pygments_lexer": "ipython3",
   "version": "3.10.14"
  },
  "toc": {
   "base_numbering": 1,
   "nav_menu": {},
   "number_sections": true,
   "sideBar": true,
   "skip_h1_title": false,
   "title_cell": "Table of Contents",
   "title_sidebar": "Contents",
   "toc_cell": false,
   "toc_position": {},
   "toc_section_display": true,
   "toc_window_display": false
  }
 },
 "nbformat": 4,
 "nbformat_minor": 2
}
