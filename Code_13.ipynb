{
 "cells": [
  {
   "cell_type": "markdown",
   "metadata": {},
   "source": [
    "# Mean:"
   ]
  },
  {
   "cell_type": "markdown",
   "metadata": {},
   "source": [
    "**Q1: Write a function to compute mean of a list of numbers.**\n",
    "\n",
    "    def mean(arr):\n",
    "        return s/l"
   ]
  },
  {
   "cell_type": "code",
   "execution_count": 1,
   "metadata": {},
   "outputs": [],
   "source": [
    "def mean(arr):\n",
    "    l = len(arr)\n",
    "    s = 0\n",
    "    i = 0\n",
    "    \n",
    "    while i < l:\n",
    "        s += arr[i]\n",
    "        i += 1\n",
    "        \n",
    "    return s/l\n",
    "    "
   ]
  },
  {
   "cell_type": "code",
   "execution_count": 2,
   "metadata": {},
   "outputs": [
    {
     "data": {
      "text/plain": [
       "5.0"
      ]
     },
     "execution_count": 2,
     "metadata": {},
     "output_type": "execute_result"
    }
   ],
   "source": [
    "mean([2, 4, 6, 8])"
   ]
  },
  {
   "attachments": {
    "download.png": {
     "image/png": "[encoded data removed]"
    }
   },
   "cell_type": "markdown",
   "metadata": {},
   "source": [
    "# Standard deviation:\n",
    "\n",
    "\n",
    "![download.png](attachment:download.png)"
   ]
  },
  {
   "cell_type": "markdown",
   "metadata": {},
   "source": [
    "**Q2: Write a function to compute the standard deviation.**\n",
    "\n",
    "     def sd(arr):\n",
    "         # Your code"
   ]
  },
  {
   "cell_type": "code",
   "execution_count": 3,
   "metadata": {},
   "outputs": [],
   "source": [
    "def sd(arr):\n",
    "    m = mean(arr)\n",
    "    total = 0\n",
    "    count = 0\n",
    "    i = 0\n",
    "    while i < len(arr):\n",
    "        diff = arr[i] - m\n",
    "        total += diff * diff\n",
    "        count += 1\n",
    "        i += 1\n",
    "    variance = total / count\n",
    "    return variance ** 0.5"
   ]
  },
  {
   "cell_type": "code",
   "execution_count": 4,
   "metadata": {},
   "outputs": [
    {
     "data": {
      "text/plain": [
       "2.0"
      ]
     },
     "execution_count": 4,
     "metadata": {},
     "output_type": "execute_result"
    }
   ],
   "source": [
    "sd([2, 4, 4, 4, 5, 5, 7, 9])"
   ]
  },
  {
   "cell_type": "markdown",
   "metadata": {},
   "source": [
    "# Outliers:"
   ]
  },
  {
   "cell_type": "markdown",
   "metadata": {},
   "source": [
    "**Q3: Given a list of numbers, print the numbers which are outliers. An outlier is the one with z_score above 2 or below -2.**\n",
    "\n",
    "       def print_outliers(nums):\n",
    "           ...\n",
    "    "
   ]
  },
  {
   "cell_type": "code",
   "execution_count": 5,
   "metadata": {},
   "outputs": [],
   "source": [
    "def print_outliers(nums):\n",
    "    m = mean(nums)\n",
    "    s = sd(nums)\n",
    "    i = 0\n",
    "    while i < len(nums):\n",
    "        z = (nums[i] - m) / s\n",
    "        if z > 2 or z < -2:\n",
    "            print(nums[i])\n",
    "        i += 1"
   ]
  },
  {
   "cell_type": "code",
   "execution_count": 6,
   "metadata": {},
   "outputs": [
    {
     "name": "stdout",
     "output_type": "stream",
     "text": [
      "500\n"
     ]
    }
   ],
   "source": [
    "print_outliers([10, 12, 12, 13, 12, 11, 500])"
   ]
  },
  {
   "cell_type": "markdown",
   "metadata": {},
   "source": [
    "# Min-Max Scaling:"
   ]
  },
  {
   "cell_type": "markdown",
   "metadata": {},
   "source": [
    "**Q4: Use a simple linear method to convert values to between 0 and 1, that is, Min-Max scaling -> (arr - min)/(max - min).**\n",
    "\n",
    "[1, 1.5, 2] -> [0, 0.5, 1]\n",
    "\n",
    "[1, 5] -> [0, 1]\n",
    "\n",
    "[1, 2, 3, 4, 5] -> [0, 1/4, 2/4, 3/4  , 1]\n",
    "\n",
    "[-5, 1, 2] -> [0, 6, 7] -> [0/7, 6/7, 7/7]"
   ]
  },
  {
   "cell_type": "code",
   "execution_count": 1,
   "metadata": {},
   "outputs": [],
   "source": [
    "def min_max_scale(arr):\n",
    "    # Compute minimum value\n",
    "    min_val = arr[0]\n",
    "    for num in arr:\n",
    "        if num < min_val:\n",
    "            min_val = num\n",
    "\n",
    "    # Compute maximum value\n",
    "    max_val = arr[0]\n",
    "    for num in arr:\n",
    "        if num > max_val:\n",
    "            max_val = num\n",
    "\n",
    "    # Avoid division by zero if all elements are the same\n",
    "    if max_val == min_val:\n",
    "        return [0 for _ in arr]\n",
    "\n",
    "    # Apply Min-Max scaling\n",
    "    scaled = []\n",
    "    for num in arr:\n",
    "        scaled_value = (num - min_val) / (max_val - min_val)\n",
    "        scaled.append(scaled_value)\n",
    "\n",
    "    return scaled"
   ]
  },
  {
   "cell_type": "code",
   "execution_count": 2,
   "metadata": {},
   "outputs": [
    {
     "name": "stdout",
     "output_type": "stream",
     "text": [
      "Example 1: Original: [1, 1.5, 2] → Scaled: [0.0, 0.5, 1.0]\n",
      "Example 2: Original: [1, 5] → Scaled: [0.0, 1.0]\n",
      "Example 3: Original: [1, 2, 3, 4, 5] → Scaled: [0.0, 0.25, 0.5, 0.75, 1.0]\n",
      "Example 4: Original: [-5, 1, 2] → Scaled: [0.0, 0.8571428571428571, 1.0]\n"
     ]
    }
   ],
   "source": [
    "# Test cases\n",
    "examples = [\n",
    "    [1, 1.5, 2],\n",
    "    [1, 5],\n",
    "    [1, 2, 3, 4, 5],\n",
    "    [-5, 1, 2]\n",
    "]\n",
    "\n",
    "for i, ex in enumerate(examples, 1):\n",
    "    scaled = min_max_scale(ex)\n",
    "    print(f\"Example {i}: Original: {ex} → Scaled: {scaled}\")\n"
   ]
  },
  {
   "cell_type": "code",
   "execution_count": null,
   "metadata": {},
   "outputs": [],
   "source": []
  }
 ],
 "metadata": {
  "kernelspec": {
   "display_name": "Python3.10",
   "language": "python",
   "name": "python3.10"
  },
  "language_info": {
   "codemirror_mode": {
    "name": "ipython",
    "version": 3
   },
   "file_extension": ".py",
   "mimetype": "text/x-python",
   "name": "python",
   "nbconvert_exporter": "python",
   "pygments_lexer": "ipython3",
   "version": "3.10.14"
  },
  "toc": {
   "base_numbering": 1,
   "nav_menu": {},
   "number_sections": true,
   "sideBar": true,
   "skip_h1_title": false,
   "title_cell": "Table of Contents",
   "title_sidebar": "Contents",
   "toc_cell": false,
   "toc_position": {},
   "toc_section_display": true,
   "toc_window_display": false
  }
 },
 "nbformat": 4,
 "nbformat_minor": 2
}
